{
 "cells": [
  {
   "cell_type": "code",
   "execution_count": 27,
   "id": "8ef52408",
   "metadata": {},
   "outputs": [],
   "source": [
    "import pandas as pd\n",
    "import matplotlib.pyplot as plt\n",
    "import calendar"
   ]
  },
  {
   "cell_type": "code",
   "execution_count": 28,
   "id": "6405605e",
   "metadata": {},
   "outputs": [
    {
     "data": {
      "application/vnd.microsoft.datawrangler.viewer.v0+json": {
       "columns": [
        {
         "name": "index",
         "rawType": "int64",
         "type": "integer"
        },
        {
         "name": "cooler_id",
         "rawType": "object",
         "type": "string"
        },
        {
         "name": "customer_id",
         "rawType": "object",
         "type": "string"
        },
        {
         "name": "calmonth",
         "rawType": "datetime64[ns]",
         "type": "datetime"
        },
        {
         "name": "amount",
         "rawType": "float64",
         "type": "float"
        },
        {
         "name": "year",
         "rawType": "int32",
         "type": "integer"
        },
        {
         "name": "month",
         "rawType": "int32",
         "type": "integer"
        }
       ],
       "ref": "b45f5e3f-7fef-4bdc-bbec-7bba664ebe02",
       "rows": [
        [
         "0",
         "42d9b14c937541b8f1287ce7251d1e29f1f8eb58dbcd7eebd671b1e46d4520d8",
         "e21b830bc395b5a355f68a698c55ad95474f929d8e2521f095f990b1ae0ef587",
         "2025-03-01 00:00:00",
         "76.8887",
         "2025",
         "3"
        ],
        [
         "1",
         "42d9b14c937541b8f1287ce7251d1e29f1f8eb58dbcd7eebd671b1e46d4520d8",
         "e21b830bc395b5a355f68a698c55ad95474f929d8e2521f095f990b1ae0ef587",
         "2024-12-01 00:00:00",
         "131.0627",
         "2024",
         "12"
        ],
        [
         "2",
         "42d9b14c937541b8f1287ce7251d1e29f1f8eb58dbcd7eebd671b1e46d4520d8",
         "e21b830bc395b5a355f68a698c55ad95474f929d8e2521f095f990b1ae0ef587",
         "2024-07-01 00:00:00",
         "180.842",
         "2024",
         "7"
        ],
        [
         "3",
         "42d9b14c937541b8f1287ce7251d1e29f1f8eb58dbcd7eebd671b1e46d4520d8",
         "e21b830bc395b5a355f68a698c55ad95474f929d8e2521f095f990b1ae0ef587",
         "2025-02-01 00:00:00",
         "82.3243",
         "2025",
         "2"
        ],
        [
         "4",
         "42d9b14c937541b8f1287ce7251d1e29f1f8eb58dbcd7eebd671b1e46d4520d8",
         "e21b830bc395b5a355f68a698c55ad95474f929d8e2521f095f990b1ae0ef587",
         "2023-10-01 00:00:00",
         "201.7541",
         "2023",
         "10"
        ],
        [
         "5",
         "42d9b14c937541b8f1287ce7251d1e29f1f8eb58dbcd7eebd671b1e46d4520d8",
         "e21b830bc395b5a355f68a698c55ad95474f929d8e2521f095f990b1ae0ef587",
         "2023-11-01 00:00:00",
         "146.2146",
         "2023",
         "11"
        ],
        [
         "6",
         "42d9b14c937541b8f1287ce7251d1e29f1f8eb58dbcd7eebd671b1e46d4520d8",
         "e21b830bc395b5a355f68a698c55ad95474f929d8e2521f095f990b1ae0ef587",
         "2024-01-01 00:00:00",
         "102.3054",
         "2024",
         "1"
        ],
        [
         "7",
         "42d9b14c937541b8f1287ce7251d1e29f1f8eb58dbcd7eebd671b1e46d4520d8",
         "e21b830bc395b5a355f68a698c55ad95474f929d8e2521f095f990b1ae0ef587",
         "2024-02-01 00:00:00",
         "124.0854",
         "2024",
         "2"
        ],
        [
         "8",
         "42d9b14c937541b8f1287ce7251d1e29f1f8eb58dbcd7eebd671b1e46d4520d8",
         "e21b830bc395b5a355f68a698c55ad95474f929d8e2521f095f990b1ae0ef587",
         "2024-04-01 00:00:00",
         "187.2527",
         "2024",
         "4"
        ],
        [
         "9",
         "42d9b14c937541b8f1287ce7251d1e29f1f8eb58dbcd7eebd671b1e46d4520d8",
         "e21b830bc395b5a355f68a698c55ad95474f929d8e2521f095f990b1ae0ef587",
         "2023-02-01 00:00:00",
         "154.5896",
         "2023",
         "2"
        ],
        [
         "10",
         "42d9b14c937541b8f1287ce7251d1e29f1f8eb58dbcd7eebd671b1e46d4520d8",
         "e21b830bc395b5a355f68a698c55ad95474f929d8e2521f095f990b1ae0ef587",
         "2024-10-01 00:00:00",
         "151.8001",
         "2024",
         "10"
        ],
        [
         "11",
         "42d9b14c937541b8f1287ce7251d1e29f1f8eb58dbcd7eebd671b1e46d4520d8",
         "e21b830bc395b5a355f68a698c55ad95474f929d8e2521f095f990b1ae0ef587",
         "2023-01-01 00:00:00",
         "142.9395",
         "2023",
         "1"
        ],
        [
         "12",
         "42d9b14c937541b8f1287ce7251d1e29f1f8eb58dbcd7eebd671b1e46d4520d8",
         "e21b830bc395b5a355f68a698c55ad95474f929d8e2521f095f990b1ae0ef587",
         "2024-05-01 00:00:00",
         "193.3569",
         "2024",
         "5"
        ],
        [
         "13",
         "42d9b14c937541b8f1287ce7251d1e29f1f8eb58dbcd7eebd671b1e46d4520d8",
         "e21b830bc395b5a355f68a698c55ad95474f929d8e2521f095f990b1ae0ef587",
         "2023-12-01 00:00:00",
         "132.4667",
         "2023",
         "12"
        ],
        [
         "14",
         "42d9b14c937541b8f1287ce7251d1e29f1f8eb58dbcd7eebd671b1e46d4520d8",
         "e21b830bc395b5a355f68a698c55ad95474f929d8e2521f095f990b1ae0ef587",
         "2024-09-01 00:00:00",
         "157.7986",
         "2024",
         "9"
        ],
        [
         "15",
         "42d9b14c937541b8f1287ce7251d1e29f1f8eb58dbcd7eebd671b1e46d4520d8",
         "e21b830bc395b5a355f68a698c55ad95474f929d8e2521f095f990b1ae0ef587",
         "2024-03-01 00:00:00",
         "146.0142",
         "2024",
         "3"
        ],
        [
         "16",
         "42d9b14c937541b8f1287ce7251d1e29f1f8eb58dbcd7eebd671b1e46d4520d8",
         "e21b830bc395b5a355f68a698c55ad95474f929d8e2521f095f990b1ae0ef587",
         "2023-07-01 00:00:00",
         "246.6293",
         "2023",
         "7"
        ],
        [
         "17",
         "42d9b14c937541b8f1287ce7251d1e29f1f8eb58dbcd7eebd671b1e46d4520d8",
         "e21b830bc395b5a355f68a698c55ad95474f929d8e2521f095f990b1ae0ef587",
         "2023-05-01 00:00:00",
         "230.8292",
         "2023",
         "5"
        ],
        [
         "18",
         "42d9b14c937541b8f1287ce7251d1e29f1f8eb58dbcd7eebd671b1e46d4520d8",
         "e21b830bc395b5a355f68a698c55ad95474f929d8e2521f095f990b1ae0ef587",
         "2024-08-01 00:00:00",
         "151.3398",
         "2024",
         "8"
        ],
        [
         "19",
         "42d9b14c937541b8f1287ce7251d1e29f1f8eb58dbcd7eebd671b1e46d4520d8",
         "e21b830bc395b5a355f68a698c55ad95474f929d8e2521f095f990b1ae0ef587",
         "2024-11-01 00:00:00",
         "100.3981",
         "2024",
         "11"
        ],
        [
         "20",
         "42d9b14c937541b8f1287ce7251d1e29f1f8eb58dbcd7eebd671b1e46d4520d8",
         "e21b830bc395b5a355f68a698c55ad95474f929d8e2521f095f990b1ae0ef587",
         "2023-08-01 00:00:00",
         "227.1702",
         "2023",
         "8"
        ],
        [
         "21",
         "42d9b14c937541b8f1287ce7251d1e29f1f8eb58dbcd7eebd671b1e46d4520d8",
         "e21b830bc395b5a355f68a698c55ad95474f929d8e2521f095f990b1ae0ef587",
         "2025-01-01 00:00:00",
         "113.5826",
         "2025",
         "1"
        ],
        [
         "22",
         "42d9b14c937541b8f1287ce7251d1e29f1f8eb58dbcd7eebd671b1e46d4520d8",
         "e21b830bc395b5a355f68a698c55ad95474f929d8e2521f095f990b1ae0ef587",
         "2023-03-01 00:00:00",
         "184.8751",
         "2023",
         "3"
        ],
        [
         "23",
         "42d9b14c937541b8f1287ce7251d1e29f1f8eb58dbcd7eebd671b1e46d4520d8",
         "e21b830bc395b5a355f68a698c55ad95474f929d8e2521f095f990b1ae0ef587",
         "2025-04-01 00:00:00",
         "107.8039",
         "2025",
         "4"
        ],
        [
         "24",
         "42d9b14c937541b8f1287ce7251d1e29f1f8eb58dbcd7eebd671b1e46d4520d8",
         "e21b830bc395b5a355f68a698c55ad95474f929d8e2521f095f990b1ae0ef587",
         "2023-06-01 00:00:00",
         "331.9567",
         "2023",
         "6"
        ],
        [
         "25",
         "42d9b14c937541b8f1287ce7251d1e29f1f8eb58dbcd7eebd671b1e46d4520d8",
         "e21b830bc395b5a355f68a698c55ad95474f929d8e2521f095f990b1ae0ef587",
         "2023-04-01 00:00:00",
         "187.2557",
         "2023",
         "4"
        ],
        [
         "26",
         "42d9b14c937541b8f1287ce7251d1e29f1f8eb58dbcd7eebd671b1e46d4520d8",
         "e21b830bc395b5a355f68a698c55ad95474f929d8e2521f095f990b1ae0ef587",
         "2024-06-01 00:00:00",
         "201.4184",
         "2024",
         "6"
        ],
        [
         "27",
         "42d9b14c937541b8f1287ce7251d1e29f1f8eb58dbcd7eebd671b1e46d4520d8",
         "e21b830bc395b5a355f68a698c55ad95474f929d8e2521f095f990b1ae0ef587",
         "2023-09-01 00:00:00",
         "257.9299",
         "2023",
         "9"
        ],
        [
         "28",
         "be56de8313db4d2d42f6a8c82c5f450531a7ebbdfc13d2d3aae4862bed916a55",
         "c5ec417475455ef42dd911fcb06bcb56bed9f9e9f2c96c15592878b9fa9d66e7",
         "2025-03-01 00:00:00",
         "579.1025",
         "2025",
         "3"
        ],
        [
         "29",
         "be56de8313db4d2d42f6a8c82c5f450531a7ebbdfc13d2d3aae4862bed916a55",
         "c5ec417475455ef42dd911fcb06bcb56bed9f9e9f2c96c15592878b9fa9d66e7",
         "2024-12-01 00:00:00",
         "774.1925",
         "2024",
         "12"
        ],
        [
         "30",
         "be56de8313db4d2d42f6a8c82c5f450531a7ebbdfc13d2d3aae4862bed916a55",
         "c5ec417475455ef42dd911fcb06bcb56bed9f9e9f2c96c15592878b9fa9d66e7",
         "2024-07-01 00:00:00",
         "595.4171",
         "2024",
         "7"
        ],
        [
         "31",
         "be56de8313db4d2d42f6a8c82c5f450531a7ebbdfc13d2d3aae4862bed916a55",
         "c5ec417475455ef42dd911fcb06bcb56bed9f9e9f2c96c15592878b9fa9d66e7",
         "2025-02-01 00:00:00",
         "430.1393",
         "2025",
         "2"
        ],
        [
         "32",
         "be56de8313db4d2d42f6a8c82c5f450531a7ebbdfc13d2d3aae4862bed916a55",
         "c5ec417475455ef42dd911fcb06bcb56bed9f9e9f2c96c15592878b9fa9d66e7",
         "2023-10-01 00:00:00",
         "502.4844",
         "2023",
         "10"
        ],
        [
         "33",
         "be56de8313db4d2d42f6a8c82c5f450531a7ebbdfc13d2d3aae4862bed916a55",
         "c5ec417475455ef42dd911fcb06bcb56bed9f9e9f2c96c15592878b9fa9d66e7",
         "2023-11-01 00:00:00",
         "647.0928",
         "2023",
         "11"
        ],
        [
         "34",
         "be56de8313db4d2d42f6a8c82c5f450531a7ebbdfc13d2d3aae4862bed916a55",
         "c5ec417475455ef42dd911fcb06bcb56bed9f9e9f2c96c15592878b9fa9d66e7",
         "2024-01-01 00:00:00",
         "565.3807",
         "2024",
         "1"
        ],
        [
         "35",
         "be56de8313db4d2d42f6a8c82c5f450531a7ebbdfc13d2d3aae4862bed916a55",
         "c5ec417475455ef42dd911fcb06bcb56bed9f9e9f2c96c15592878b9fa9d66e7",
         "2024-02-01 00:00:00",
         "511.1449",
         "2024",
         "2"
        ],
        [
         "36",
         "be56de8313db4d2d42f6a8c82c5f450531a7ebbdfc13d2d3aae4862bed916a55",
         "c5ec417475455ef42dd911fcb06bcb56bed9f9e9f2c96c15592878b9fa9d66e7",
         "2024-04-01 00:00:00",
         "645.6397",
         "2024",
         "4"
        ],
        [
         "37",
         "be56de8313db4d2d42f6a8c82c5f450531a7ebbdfc13d2d3aae4862bed916a55",
         "c5ec417475455ef42dd911fcb06bcb56bed9f9e9f2c96c15592878b9fa9d66e7",
         "2023-02-01 00:00:00",
         "455.7818",
         "2023",
         "2"
        ],
        [
         "38",
         "be56de8313db4d2d42f6a8c82c5f450531a7ebbdfc13d2d3aae4862bed916a55",
         "c5ec417475455ef42dd911fcb06bcb56bed9f9e9f2c96c15592878b9fa9d66e7",
         "2024-10-01 00:00:00",
         "641.8947",
         "2024",
         "10"
        ],
        [
         "39",
         "be56de8313db4d2d42f6a8c82c5f450531a7ebbdfc13d2d3aae4862bed916a55",
         "c5ec417475455ef42dd911fcb06bcb56bed9f9e9f2c96c15592878b9fa9d66e7",
         "2023-01-01 00:00:00",
         "632.7277",
         "2023",
         "1"
        ],
        [
         "40",
         "be56de8313db4d2d42f6a8c82c5f450531a7ebbdfc13d2d3aae4862bed916a55",
         "c5ec417475455ef42dd911fcb06bcb56bed9f9e9f2c96c15592878b9fa9d66e7",
         "2024-05-01 00:00:00",
         "845.764",
         "2024",
         "5"
        ],
        [
         "41",
         "be56de8313db4d2d42f6a8c82c5f450531a7ebbdfc13d2d3aae4862bed916a55",
         "c5ec417475455ef42dd911fcb06bcb56bed9f9e9f2c96c15592878b9fa9d66e7",
         "2023-12-01 00:00:00",
         "576.9527",
         "2023",
         "12"
        ],
        [
         "42",
         "be56de8313db4d2d42f6a8c82c5f450531a7ebbdfc13d2d3aae4862bed916a55",
         "c5ec417475455ef42dd911fcb06bcb56bed9f9e9f2c96c15592878b9fa9d66e7",
         "2024-09-01 00:00:00",
         "581.6169",
         "2024",
         "9"
        ],
        [
         "43",
         "be56de8313db4d2d42f6a8c82c5f450531a7ebbdfc13d2d3aae4862bed916a55",
         "c5ec417475455ef42dd911fcb06bcb56bed9f9e9f2c96c15592878b9fa9d66e7",
         "2024-03-01 00:00:00",
         "805.5513",
         "2024",
         "3"
        ],
        [
         "44",
         "be56de8313db4d2d42f6a8c82c5f450531a7ebbdfc13d2d3aae4862bed916a55",
         "c5ec417475455ef42dd911fcb06bcb56bed9f9e9f2c96c15592878b9fa9d66e7",
         "2023-07-01 00:00:00",
         "632.6148",
         "2023",
         "7"
        ],
        [
         "45",
         "be56de8313db4d2d42f6a8c82c5f450531a7ebbdfc13d2d3aae4862bed916a55",
         "c5ec417475455ef42dd911fcb06bcb56bed9f9e9f2c96c15592878b9fa9d66e7",
         "2023-05-01 00:00:00",
         "807.0344",
         "2023",
         "5"
        ],
        [
         "46",
         "be56de8313db4d2d42f6a8c82c5f450531a7ebbdfc13d2d3aae4862bed916a55",
         "c5ec417475455ef42dd911fcb06bcb56bed9f9e9f2c96c15592878b9fa9d66e7",
         "2024-08-01 00:00:00",
         "679.0405",
         "2024",
         "8"
        ],
        [
         "47",
         "be56de8313db4d2d42f6a8c82c5f450531a7ebbdfc13d2d3aae4862bed916a55",
         "c5ec417475455ef42dd911fcb06bcb56bed9f9e9f2c96c15592878b9fa9d66e7",
         "2024-11-01 00:00:00",
         "701.8256",
         "2024",
         "11"
        ],
        [
         "48",
         "be56de8313db4d2d42f6a8c82c5f450531a7ebbdfc13d2d3aae4862bed916a55",
         "c5ec417475455ef42dd911fcb06bcb56bed9f9e9f2c96c15592878b9fa9d66e7",
         "2023-08-01 00:00:00",
         "731.6853",
         "2023",
         "8"
        ],
        [
         "49",
         "be56de8313db4d2d42f6a8c82c5f450531a7ebbdfc13d2d3aae4862bed916a55",
         "c5ec417475455ef42dd911fcb06bcb56bed9f9e9f2c96c15592878b9fa9d66e7",
         "2025-01-01 00:00:00",
         "585.7197",
         "2025",
         "1"
        ]
       ],
       "shape": {
        "columns": 6,
        "rows": 204736
       }
      },
      "text/html": [
       "<div>\n",
       "<style scoped>\n",
       "    .dataframe tbody tr th:only-of-type {\n",
       "        vertical-align: middle;\n",
       "    }\n",
       "\n",
       "    .dataframe tbody tr th {\n",
       "        vertical-align: top;\n",
       "    }\n",
       "\n",
       "    .dataframe thead th {\n",
       "        text-align: right;\n",
       "    }\n",
       "</style>\n",
       "<table border=\"1\" class=\"dataframe\">\n",
       "  <thead>\n",
       "    <tr style=\"text-align: right;\">\n",
       "      <th></th>\n",
       "      <th>cooler_id</th>\n",
       "      <th>customer_id</th>\n",
       "      <th>calmonth</th>\n",
       "      <th>amount</th>\n",
       "      <th>year</th>\n",
       "      <th>month</th>\n",
       "    </tr>\n",
       "  </thead>\n",
       "  <tbody>\n",
       "    <tr>\n",
       "      <th>0</th>\n",
       "      <td>42d9b14c937541b8f1287ce7251d1e29f1f8eb58dbcd7e...</td>\n",
       "      <td>e21b830bc395b5a355f68a698c55ad95474f929d8e2521...</td>\n",
       "      <td>2025-03-01</td>\n",
       "      <td>76.8887</td>\n",
       "      <td>2025</td>\n",
       "      <td>3</td>\n",
       "    </tr>\n",
       "    <tr>\n",
       "      <th>1</th>\n",
       "      <td>42d9b14c937541b8f1287ce7251d1e29f1f8eb58dbcd7e...</td>\n",
       "      <td>e21b830bc395b5a355f68a698c55ad95474f929d8e2521...</td>\n",
       "      <td>2024-12-01</td>\n",
       "      <td>131.0627</td>\n",
       "      <td>2024</td>\n",
       "      <td>12</td>\n",
       "    </tr>\n",
       "    <tr>\n",
       "      <th>2</th>\n",
       "      <td>42d9b14c937541b8f1287ce7251d1e29f1f8eb58dbcd7e...</td>\n",
       "      <td>e21b830bc395b5a355f68a698c55ad95474f929d8e2521...</td>\n",
       "      <td>2024-07-01</td>\n",
       "      <td>180.8420</td>\n",
       "      <td>2024</td>\n",
       "      <td>7</td>\n",
       "    </tr>\n",
       "    <tr>\n",
       "      <th>3</th>\n",
       "      <td>42d9b14c937541b8f1287ce7251d1e29f1f8eb58dbcd7e...</td>\n",
       "      <td>e21b830bc395b5a355f68a698c55ad95474f929d8e2521...</td>\n",
       "      <td>2025-02-01</td>\n",
       "      <td>82.3243</td>\n",
       "      <td>2025</td>\n",
       "      <td>2</td>\n",
       "    </tr>\n",
       "    <tr>\n",
       "      <th>4</th>\n",
       "      <td>42d9b14c937541b8f1287ce7251d1e29f1f8eb58dbcd7e...</td>\n",
       "      <td>e21b830bc395b5a355f68a698c55ad95474f929d8e2521...</td>\n",
       "      <td>2023-10-01</td>\n",
       "      <td>201.7541</td>\n",
       "      <td>2023</td>\n",
       "      <td>10</td>\n",
       "    </tr>\n",
       "    <tr>\n",
       "      <th>...</th>\n",
       "      <td>...</td>\n",
       "      <td>...</td>\n",
       "      <td>...</td>\n",
       "      <td>...</td>\n",
       "      <td>...</td>\n",
       "      <td>...</td>\n",
       "    </tr>\n",
       "    <tr>\n",
       "      <th>204731</th>\n",
       "      <td>661cc6a46677515e7801eda42d84b6242778a9d77f6062...</td>\n",
       "      <td>021ce98d216fdee3533129eb75d956978858eade78d6a4...</td>\n",
       "      <td>2025-04-01</td>\n",
       "      <td>1244.2283</td>\n",
       "      <td>2025</td>\n",
       "      <td>4</td>\n",
       "    </tr>\n",
       "    <tr>\n",
       "      <th>204732</th>\n",
       "      <td>661cc6a46677515e7801eda42d84b6242778a9d77f6062...</td>\n",
       "      <td>021ce98d216fdee3533129eb75d956978858eade78d6a4...</td>\n",
       "      <td>2023-06-01</td>\n",
       "      <td>1829.9476</td>\n",
       "      <td>2023</td>\n",
       "      <td>6</td>\n",
       "    </tr>\n",
       "    <tr>\n",
       "      <th>204733</th>\n",
       "      <td>661cc6a46677515e7801eda42d84b6242778a9d77f6062...</td>\n",
       "      <td>021ce98d216fdee3533129eb75d956978858eade78d6a4...</td>\n",
       "      <td>2023-04-01</td>\n",
       "      <td>396.8060</td>\n",
       "      <td>2023</td>\n",
       "      <td>4</td>\n",
       "    </tr>\n",
       "    <tr>\n",
       "      <th>204734</th>\n",
       "      <td>661cc6a46677515e7801eda42d84b6242778a9d77f6062...</td>\n",
       "      <td>021ce98d216fdee3533129eb75d956978858eade78d6a4...</td>\n",
       "      <td>2024-06-01</td>\n",
       "      <td>1818.3142</td>\n",
       "      <td>2024</td>\n",
       "      <td>6</td>\n",
       "    </tr>\n",
       "    <tr>\n",
       "      <th>204735</th>\n",
       "      <td>661cc6a46677515e7801eda42d84b6242778a9d77f6062...</td>\n",
       "      <td>021ce98d216fdee3533129eb75d956978858eade78d6a4...</td>\n",
       "      <td>2023-09-01</td>\n",
       "      <td>1444.7187</td>\n",
       "      <td>2023</td>\n",
       "      <td>9</td>\n",
       "    </tr>\n",
       "  </tbody>\n",
       "</table>\n",
       "<p>204736 rows × 6 columns</p>\n",
       "</div>"
      ],
      "text/plain": [
       "                                                cooler_id  \\\n",
       "0       42d9b14c937541b8f1287ce7251d1e29f1f8eb58dbcd7e...   \n",
       "1       42d9b14c937541b8f1287ce7251d1e29f1f8eb58dbcd7e...   \n",
       "2       42d9b14c937541b8f1287ce7251d1e29f1f8eb58dbcd7e...   \n",
       "3       42d9b14c937541b8f1287ce7251d1e29f1f8eb58dbcd7e...   \n",
       "4       42d9b14c937541b8f1287ce7251d1e29f1f8eb58dbcd7e...   \n",
       "...                                                   ...   \n",
       "204731  661cc6a46677515e7801eda42d84b6242778a9d77f6062...   \n",
       "204732  661cc6a46677515e7801eda42d84b6242778a9d77f6062...   \n",
       "204733  661cc6a46677515e7801eda42d84b6242778a9d77f6062...   \n",
       "204734  661cc6a46677515e7801eda42d84b6242778a9d77f6062...   \n",
       "204735  661cc6a46677515e7801eda42d84b6242778a9d77f6062...   \n",
       "\n",
       "                                              customer_id   calmonth  \\\n",
       "0       e21b830bc395b5a355f68a698c55ad95474f929d8e2521... 2025-03-01   \n",
       "1       e21b830bc395b5a355f68a698c55ad95474f929d8e2521... 2024-12-01   \n",
       "2       e21b830bc395b5a355f68a698c55ad95474f929d8e2521... 2024-07-01   \n",
       "3       e21b830bc395b5a355f68a698c55ad95474f929d8e2521... 2025-02-01   \n",
       "4       e21b830bc395b5a355f68a698c55ad95474f929d8e2521... 2023-10-01   \n",
       "...                                                   ...        ...   \n",
       "204731  021ce98d216fdee3533129eb75d956978858eade78d6a4... 2025-04-01   \n",
       "204732  021ce98d216fdee3533129eb75d956978858eade78d6a4... 2023-06-01   \n",
       "204733  021ce98d216fdee3533129eb75d956978858eade78d6a4... 2023-04-01   \n",
       "204734  021ce98d216fdee3533129eb75d956978858eade78d6a4... 2024-06-01   \n",
       "204735  021ce98d216fdee3533129eb75d956978858eade78d6a4... 2023-09-01   \n",
       "\n",
       "           amount  year  month  \n",
       "0         76.8887  2025      3  \n",
       "1        131.0627  2024     12  \n",
       "2        180.8420  2024      7  \n",
       "3         82.3243  2025      2  \n",
       "4        201.7541  2023     10  \n",
       "...           ...   ...    ...  \n",
       "204731  1244.2283  2025      4  \n",
       "204732  1829.9476  2023      6  \n",
       "204733   396.8060  2023      4  \n",
       "204734  1818.3142  2024      6  \n",
       "204735  1444.7187  2023      9  \n",
       "\n",
       "[204736 rows x 6 columns]"
      ]
     },
     "execution_count": 28,
     "metadata": {},
     "output_type": "execute_result"
    }
   ],
   "source": [
    "'''\n",
    "Tabla de ventas con año y mes\n",
    "Este script carga un archivo CSV con datos de ventas mensuales, extrae el año y el mes de una columna de fecha,\n",
    "'''\n",
    "df_sales_month = pd.read_csv('sales.csv')\n",
    "df_sales_month['calmonth'] = pd.to_datetime(df_sales_month['calmonth'], format='%Y%m')\n",
    "df_sales_month['year'] = df_sales_month['calmonth'].dt.year\n",
    "df_sales_month['month'] = df_sales_month['calmonth'].dt.month\n",
    "# df_sales_month = df_sales_month.drop(columns=['calmonth'])\n",
    "df_sales_month"
   ]
  },
  {
   "cell_type": "code",
   "execution_count": 29,
   "id": "8647a31b",
   "metadata": {},
   "outputs": [
    {
     "data": {
      "application/vnd.microsoft.datawrangler.viewer.v0+json": {
       "columns": [
        {
         "name": "index",
         "rawType": "int64",
         "type": "integer"
        },
        {
         "name": "customer_id",
         "rawType": "object",
         "type": "string"
        },
        {
         "name": "total_amount",
         "rawType": "float64",
         "type": "float"
        },
        {
         "name": "coolers_per_customer",
         "rawType": "int64",
         "type": "integer"
        }
       ],
       "ref": "5a960a5b-7863-409f-a12b-d8b9dfeb8f3a",
       "rows": [
        [
         "3181",
         "798b848f4d378ec7b852731242ff87992d887953149726a9ca2b513c8942faeb",
         "1270383.4547",
         "1"
        ],
        [
         "5654",
         "dccbe339a93d0edf234e7a2e9f666c51e8e98f79a02f83d5c2be6b7bd65eb148",
         "1129672.8168",
         "2"
        ],
        [
         "4055",
         "9cdd7f590855940073cc14d4e14e82f0deb97c487cf73c618ec84df5073502ff",
         "990947.1424",
         "4"
        ],
        [
         "5021",
         "c41c6aa34bbf063215dcca7858fd1cc6a62c01072ea567806e64a1b7b1a8607c",
         "794303.5608",
         "6"
        ],
        [
         "3432",
         "8307133d45165ffe43f4dee589fffaf6fdbf1993e63a5fd43d23bb381c463a94",
         "565812.2282",
         "2"
        ]
       ],
       "shape": {
        "columns": 3,
        "rows": 5
       }
      },
      "text/html": [
       "<div>\n",
       "<style scoped>\n",
       "    .dataframe tbody tr th:only-of-type {\n",
       "        vertical-align: middle;\n",
       "    }\n",
       "\n",
       "    .dataframe tbody tr th {\n",
       "        vertical-align: top;\n",
       "    }\n",
       "\n",
       "    .dataframe thead th {\n",
       "        text-align: right;\n",
       "    }\n",
       "</style>\n",
       "<table border=\"1\" class=\"dataframe\">\n",
       "  <thead>\n",
       "    <tr style=\"text-align: right;\">\n",
       "      <th></th>\n",
       "      <th>customer_id</th>\n",
       "      <th>total_amount</th>\n",
       "      <th>coolers_per_customer</th>\n",
       "    </tr>\n",
       "  </thead>\n",
       "  <tbody>\n",
       "    <tr>\n",
       "      <th>3181</th>\n",
       "      <td>798b848f4d378ec7b852731242ff87992d887953149726...</td>\n",
       "      <td>1.270383e+06</td>\n",
       "      <td>1</td>\n",
       "    </tr>\n",
       "    <tr>\n",
       "      <th>5654</th>\n",
       "      <td>dccbe339a93d0edf234e7a2e9f666c51e8e98f79a02f83...</td>\n",
       "      <td>1.129673e+06</td>\n",
       "      <td>2</td>\n",
       "    </tr>\n",
       "    <tr>\n",
       "      <th>4055</th>\n",
       "      <td>9cdd7f590855940073cc14d4e14e82f0deb97c487cf73c...</td>\n",
       "      <td>9.909471e+05</td>\n",
       "      <td>4</td>\n",
       "    </tr>\n",
       "    <tr>\n",
       "      <th>5021</th>\n",
       "      <td>c41c6aa34bbf063215dcca7858fd1cc6a62c01072ea567...</td>\n",
       "      <td>7.943036e+05</td>\n",
       "      <td>6</td>\n",
       "    </tr>\n",
       "    <tr>\n",
       "      <th>3432</th>\n",
       "      <td>8307133d45165ffe43f4dee589fffaf6fdbf1993e63a5f...</td>\n",
       "      <td>5.658122e+05</td>\n",
       "      <td>2</td>\n",
       "    </tr>\n",
       "  </tbody>\n",
       "</table>\n",
       "</div>"
      ],
      "text/plain": [
       "                                            customer_id  total_amount  \\\n",
       "3181  798b848f4d378ec7b852731242ff87992d887953149726...  1.270383e+06   \n",
       "5654  dccbe339a93d0edf234e7a2e9f666c51e8e98f79a02f83...  1.129673e+06   \n",
       "4055  9cdd7f590855940073cc14d4e14e82f0deb97c487cf73c...  9.909471e+05   \n",
       "5021  c41c6aa34bbf063215dcca7858fd1cc6a62c01072ea567...  7.943036e+05   \n",
       "3432  8307133d45165ffe43f4dee589fffaf6fdbf1993e63a5f...  5.658122e+05   \n",
       "\n",
       "      coolers_per_customer  \n",
       "3181                     1  \n",
       "5654                     2  \n",
       "4055                     4  \n",
       "5021                     6  \n",
       "3432                     2  "
      ]
     },
     "execution_count": 29,
     "metadata": {},
     "output_type": "execute_result"
    }
   ],
   "source": [
    "'''\n",
    "Tabla de ventas por cliente\n",
    "Este script agrupa los datos de ventas por cliente, calculando el total de ventas y el número de enfriadores únicos por cliente.\n",
    "'''\n",
    "import pandas as pd\n",
    "\n",
    "df_sales_month = pd.read_csv('sales.csv')\n",
    "df_sales_month['calmonth'] = pd.to_datetime(df_sales_month['calmonth'], format='%Y%m')\n",
    "df_sales_month['year'] = df_sales_month['calmonth'].dt.year\n",
    "df_sales_month['month'] = df_sales_month['calmonth'].dt.month\n",
    "\n",
    "# Agrupar por customer_id\n",
    "df_customers = df_sales_month.groupby('customer_id').agg(\n",
    "    total_amount=('amount', 'sum'),\n",
    "    coolers_per_customer=('cooler_id', 'nunique')\n",
    ").reset_index()\n",
    "\n",
    "# Ordenar por total_amount de mayor a menor\n",
    "df_customers = df_customers.sort_values(by='total_amount', ascending=False)\n",
    "\n",
    "df_customers.head()"
   ]
  },
  {
   "cell_type": "code",
   "execution_count": 30,
   "id": "361a58f0",
   "metadata": {},
   "outputs": [
    {
     "data": {
      "application/vnd.microsoft.datawrangler.viewer.v0+json": {
       "columns": [
        {
         "name": "index",
         "rawType": "int64",
         "type": "integer"
        },
        {
         "name": "cooler_id",
         "rawType": "object",
         "type": "string"
        },
        {
         "name": "customer_id",
         "rawType": "object",
         "type": "string"
        }
       ],
       "ref": "7959cf52-8c16-4b10-bc1f-886688f27028",
       "rows": [
        [
         "0",
         "483fe5b436f370171a15a80520839049bd7c4b8416c28ef6e08c6eb1af0a6ca3",
         "3544a9c44aff0b0f4350dafe509cc3dc5866cc5b4a00ad5f943d6308ac860e1b"
        ],
        [
         "28",
         "51acd7bdf1c17f571df58541440547e2bf6e30e322cd1c9dee9bbb7872c6474d",
         "77eeef8c6c0cf443f317fd6235cdb0de6bfa90bffe82cffad933683e650c4a04"
        ],
        [
         "56",
         "b6edb73e7212f812ffe4b38eae69e06f9f2940d76238f45835d4e5c0387867eb",
         "14f33a4ef530da4fc534c603ef8d9aadb001c45c049372655ae361e156eb8ad0"
        ],
        [
         "84",
         "8d3260b5f7e49fff02b4743037a52406b19279d9cd0144785f653afe0f4622b8",
         "b9a30d64d6b7d901fae363c19b1b23cabada0973532aca1af358c2efc4d62156"
        ],
        [
         "112",
         "75e325ac11632c676a299c5d28f3dca83bd628deb8b62ff461bdada492738d33",
         "69d7dfc1a92fba5676cf72010d37f8dee0ba981843374ecc19d5028353dac4e6"
        ],
        [
         "140",
         "12ef32f2133e68b37554f01de6a72e38c1fa1985585a71403039c2b365cde62c",
         "2a72c2e329e7c8651cd04a6571f81c6c5d778603ef2b4ad3b9860fdb4da6f25c"
        ],
        [
         "168",
         "ab25aa1218e09fb535191fcff9a3c3d2907b1617275d0dd02385e040809dc3be",
         "710c393ab7b9bfd577b3f984eadae2ae5dec3cfb55787e9611f76731a8d39fdb"
        ],
        [
         "196",
         "0fb620ffe915a5255914b611cfae5a075274893fab35bd25791b6ad99de7b624",
         "7f3092fede8553071d9a6bc85c851978266aabe0e5ec9ad4fe0841b271bb2d6e"
        ],
        [
         "224",
         "72980eb969bf38742a27b57becd625f4a3f03ae6392fbf9d98933955f64d0769",
         "fc0a9bf1a4e7448d3a9a558a0b60372d699f8c81fbfce55e0108cec16efecc0f"
        ],
        [
         "252",
         "09e1f4de2bbe2ba0773df2e7ab64757ad18a358d20000df4287ff6c12fcecb0c",
         "b086b58d1380ad9cfbb36aceda557cef68e755d30fe0934ca7b9fef8721f937c"
        ],
        [
         "280",
         "8cf7f15576f68b2a6e278069aff9e2210333ff777214f44535a4550a998e43b9",
         "d5de30f221c7fac0d14ba9e7c4dfa0da43f3b16fe43be78cc604a63833ff5387"
        ],
        [
         "308",
         "56d3d1611a9f20f2b08e08afa655e65d68a4d4ea23a627715a9163bb8f6afbee",
         "cf9d398dbfa4936c6f9f17e71b23e72e21878d4678ae322033633800901c46fd"
        ],
        [
         "336",
         "372a56134776c0ac85b672814fc242616c9970241233dd9ff9aad58099e07342",
         "ffa56bacc6a1f67d4dd2fce4425e37b17ea8d0b408602055ece0b8bcfd8330c5"
        ],
        [
         "364",
         "f0be179dd2d5fdb181467456fc602af87228e7bfa640022d23771af43d8269b3",
         "2d651fb717c2d5e95426867b7e8840c02182c65817c581ac0e108a6b966c1d1c"
        ],
        [
         "392",
         "ff6fe52a90c8fb9a406dc208eef684a1b77d27e7a0bcde2b9d9edd1a8b095333",
         "5bc4f8ece6da0013cb645e6bf23b2792346a98b23b2081346400a7ee9380b1d8"
        ],
        [
         "420",
         "60d49c14460f31ed7e6925b7fb7469675d5db4f44ebea04106bb0454097c6e74",
         "5884765107298db31b4d12eb5b3d03a6458aabbf9bb48ba5303cf2ba63f3ca8b"
        ],
        [
         "448",
         "452ed7a51bdcbe251c3edfab80760a5ebefe1c5501fcd6fb082c5fe2f0189aa6",
         "4aa202f9270a58d0bb1eef45e614d1e8261b7d33ddd43555d598547f440b66ad"
        ],
        [
         "476",
         "872cdd275f9f091ec2178959775ee929d25020e920d1ba43b8d7c0e8990654c3",
         "d8ea7e2242ddcce3c1d47109d4bdb115ac029f4b27ce53b5cc1ccb2355fecc03"
        ],
        [
         "504",
         "8037cf022b605ab00cef213e8b1a26458258b8327872128f9a1efec53885b1ba",
         "16f2d3617848dd7e1d99f7b822a679685e9614ad09065c5aea5ecfae8bb6522a"
        ],
        [
         "532",
         "e64e4de8d1a972e8c89ac97316bcca8e0691f13581fb242d9c12d5a93bb7d29e",
         "b341945973d81fbf3fc12d0d2a1801fd71ff2b2bf89f6aa1162bb4711abbc3ee"
        ],
        [
         "560",
         "dda7fa88fe1a68175167e7eb15ba6ea71a626e3e7e6321a1f2ca997561e23d9c",
         "055fc0002191e3d65cf95daa326ed3491089ebffd8fcaecab67b628aef4f2fbe"
        ],
        [
         "588",
         "9b5d32a9d8047dd785a4c4cec32a548976ba51ae369df356d6e432c5ea5e2791",
         "4050b49aad3f77677a656dcf971dc4940ed1d785f0e15ebd69cc3558906bf33e"
        ],
        [
         "616",
         "62bd6e4c9c89694af4b340ddc147a71326d965052592b16b6fe6a66f3af10514",
         "17338fb3fad1b5edc122183f36103a0b06c9451a104369895f31a82b97ba0000"
        ],
        [
         "644",
         "5005dc421283c3024eeedd99caa4ec7e8a067cc2986792d54285aa0b4f1eebf4",
         "78b634d1a0834da534c80baa9475c01326f9a97ca2e740f1c3aea6aca9165007"
        ],
        [
         "672",
         "cd7d3627b55d0eff9b0ca1d7fca054437d4f955b42796111a098d2bf3a3feb56",
         "8667645a8f5e11db3385bde208ceb42bf577a787e4f474cfc29f6933b764c1cf"
        ],
        [
         "700",
         "adb348e6e3b97ce1d07627f7dde4ae5d68fa3f92207a96e781859f37c9656711",
         "1ef8e186f062eb47eda45aeb3040c63b6839df21b66ebe891b0e287dae60e17b"
        ],
        [
         "728",
         "452761b13d1a97635372b33e09ea2a8008a486fe79a36027a22368c6fdb9a764",
         "5098f99852424d460d4c4560fe4bd267aca9c799a40c98018c9118a0f70c708e"
        ],
        [
         "756",
         "98b412465c6b6b8f1971fb107bd205b0693eff901a63be1d9ebb7b6572fbe195",
         "634d165b3f7b3414a3e0e9b26333bda6065afada72ebbcf9d3bf1a377275bb02"
        ],
        [
         "784",
         "54844e912dd07bcbee1269134e6cbef600bb5ac46993b52c34c57c015d7335d4",
         "68ee969dda88304f35a216b490fa7e1694267c7b660b325cdf99ad014da10489"
        ],
        [
         "812",
         "137cdce9ec6657809bfd08aeceb2e3545a14562b660d53a43f2091889bd65a22",
         "f36840111d7b91b4a0b328eeb8f0a41bb98421186fb890b721c6f8bce55d5f02"
        ],
        [
         "840",
         "4735491effbfa73cad3ee0139c974b8eacc154886d91249233b5f814dde0b49f",
         "715ba076d9300bc46a51242c3ef6af977df049e9aa504c84946781bde8f619b8"
        ],
        [
         "868",
         "8490e3d2e2bf90a2eaef9d0d17d06b5a55d40822c8a9c37600359b934710fe92",
         "e0270361c42e63bd9c6f5d7e1f5a80be5aad0d83fe40bc416e62bc0a379b7121"
        ],
        [
         "896",
         "119bb3fd3fbd6de8c3eb1bb1c519a23de13946799afbc320229ae1cc460b03fd",
         "12ee160dc78c1d7d9732ed25a323d2c08d70bb2a2eb7226d5c00f0951f4003e2"
        ],
        [
         "924",
         "cd891ff8df9f1617bebdab08bcb43d1213515925133596e228fe999961646d1b",
         "2eb17115822ce263c426b727e161f3cb65f95bdc6db67b7e4cb9b8a0457f1c75"
        ],
        [
         "952",
         "e54fc69fb4d2f6d39eb37e4bc3d66107c865b1689af5cfc57ce20a2578a3807f",
         "414e03a4eca49c2a390554ff46955b8b1f46714988e6ec743361fa9ea6b984ff"
        ],
        [
         "980",
         "21e53c6079d389b31d0063e14ff37009a6877658b58af362dc4ba202277ddbef",
         "c6bb1846eb7e34fb6a2308573e692a556623563ba0ba1f3a0d9e1a42e4c406c6"
        ],
        [
         "1008",
         "7789f3a5402d71a65efc0b735e6312068c770833da4cbaebd12c8c8e1f9d0974",
         "6fb53798509f90f5719f7ad0fdd4ac054d8bd4c3df7c6eab117ff1ca66807cc1"
        ],
        [
         "1036",
         "c82638a5642ffad7911fa48ee311b2ddef42da6d56b7158513fd979ad6c37435",
         "45edf51c85244a0df950e3ea817934c9df84770a7b51fe136a3d9928eb559199"
        ],
        [
         "1064",
         "69a502ea2c89a5f61d16ce534026afa43727a85dc6433b74d71e2897f5ce2294",
         "07c2cfbdd420cb5e9fc7eecaac5dc70a74887f2d980f83d789b96dfd197a5655"
        ],
        [
         "1092",
         "4904fb0a5242543cc1568baac25a6f977cc910a1260175deab057b3a0ad3366b",
         "a55a6c662c8a98be8f3661b1105b6cee22319ebb0a1fced1c8a359519cd12ece"
        ],
        [
         "1120",
         "92fa38fb95dab770e910ffe3e3899e835db1a66319194fc93c894961c829cd87",
         "39d4ae2c182c20d2f69dd9fa86874e4aa73893e432be7ffddcf4cc7c5e027a09"
        ],
        [
         "1148",
         "4f786679cbc51d19bbe4f31af596bba232d13156b764690aaa5941b52f781948",
         "42789639636b7fb49e461c2eb1bbba46e38b84fb8699d72c1c32247c8131d397"
        ],
        [
         "1176",
         "e6d7afe0ba9cb0b12859414261f96e0b65080805af5525c03a0e5031ca8189df",
         "2e1fe41b2ab42a5c344fe29d3f899c717b19ea6e376a2dd8fdbfaab4b8925a01"
        ],
        [
         "1204",
         "96e9fc43422922194308d68ab481f69c3e6084d83d2f2be69b1f43feda1841d7",
         "c4fb806e9a9cf073b1dade353fd43003f1ae095a587da255722ac6f059e21272"
        ],
        [
         "1232",
         "ae3576630cebc01c1d4132a63228623ba8d6a4d66ffe7c69d34706420bbc83e0",
         "93c6d6b4a00e3d375e50793a01a6357023a8855a8927d45a3e90e377a82289dc"
        ],
        [
         "1260",
         "adba5036271c3c4a3372e69a6aad152bc5f18539ecfbec4459e124d58d538d38",
         "a9ef1ad74de72e39373f74c759edb4b5c2e4a6e0973cabe277125ee5898bf26c"
        ],
        [
         "1288",
         "000ad42d24871bed8a139f101c46dd14f499dadc8f26a5c711539b1a7c10d80f",
         "757e5082366c1b279424535e2aae69cd1e6ff5143c8d892cc0b844fd6559e035"
        ],
        [
         "1316",
         "e56d7ffa46dc9b6558fc8cbf6ac3e16a24575a2d7ba833d074408b36a76d68bc",
         "9b38776e3705440c1b590da04c165851a6a584d00eab0a6c57efd7c6169bacc1"
        ],
        [
         "1344",
         "8185ce2b48ece3e2b5493d61a08a77aa1bd883815a2b6282e45b2e41c04d2022",
         "06a63e60352000c7f0ec3845da3dc758b40ad1dd853d98d09ff0b7391e2f586a"
        ],
        [
         "1372",
         "8c23cc35a965e01affe215db22e5be71b86189f4d6f9c0f9e3d96084ab18e27d",
         "930ea107797bb1377acef7fbeef1fd7160b2d016792f34a76a48db7b7745a288"
        ]
       ],
       "shape": {
        "columns": 2,
        "rows": 53
       }
      },
      "text/html": [
       "<div>\n",
       "<style scoped>\n",
       "    .dataframe tbody tr th:only-of-type {\n",
       "        vertical-align: middle;\n",
       "    }\n",
       "\n",
       "    .dataframe tbody tr th {\n",
       "        vertical-align: top;\n",
       "    }\n",
       "\n",
       "    .dataframe thead th {\n",
       "        text-align: right;\n",
       "    }\n",
       "</style>\n",
       "<table border=\"1\" class=\"dataframe\">\n",
       "  <thead>\n",
       "    <tr style=\"text-align: right;\">\n",
       "      <th></th>\n",
       "      <th>cooler_id</th>\n",
       "      <th>customer_id</th>\n",
       "    </tr>\n",
       "  </thead>\n",
       "  <tbody>\n",
       "    <tr>\n",
       "      <th>0</th>\n",
       "      <td>483fe5b436f370171a15a80520839049bd7c4b8416c28e...</td>\n",
       "      <td>3544a9c44aff0b0f4350dafe509cc3dc5866cc5b4a00ad...</td>\n",
       "    </tr>\n",
       "    <tr>\n",
       "      <th>28</th>\n",
       "      <td>51acd7bdf1c17f571df58541440547e2bf6e30e322cd1c...</td>\n",
       "      <td>77eeef8c6c0cf443f317fd6235cdb0de6bfa90bffe82cf...</td>\n",
       "    </tr>\n",
       "    <tr>\n",
       "      <th>56</th>\n",
       "      <td>b6edb73e7212f812ffe4b38eae69e06f9f2940d76238f4...</td>\n",
       "      <td>14f33a4ef530da4fc534c603ef8d9aadb001c45c049372...</td>\n",
       "    </tr>\n",
       "    <tr>\n",
       "      <th>84</th>\n",
       "      <td>8d3260b5f7e49fff02b4743037a52406b19279d9cd0144...</td>\n",
       "      <td>b9a30d64d6b7d901fae363c19b1b23cabada0973532aca...</td>\n",
       "    </tr>\n",
       "    <tr>\n",
       "      <th>112</th>\n",
       "      <td>75e325ac11632c676a299c5d28f3dca83bd628deb8b62f...</td>\n",
       "      <td>69d7dfc1a92fba5676cf72010d37f8dee0ba981843374e...</td>\n",
       "    </tr>\n",
       "    <tr>\n",
       "      <th>140</th>\n",
       "      <td>12ef32f2133e68b37554f01de6a72e38c1fa1985585a71...</td>\n",
       "      <td>2a72c2e329e7c8651cd04a6571f81c6c5d778603ef2b4a...</td>\n",
       "    </tr>\n",
       "    <tr>\n",
       "      <th>168</th>\n",
       "      <td>ab25aa1218e09fb535191fcff9a3c3d2907b1617275d0d...</td>\n",
       "      <td>710c393ab7b9bfd577b3f984eadae2ae5dec3cfb55787e...</td>\n",
       "    </tr>\n",
       "    <tr>\n",
       "      <th>196</th>\n",
       "      <td>0fb620ffe915a5255914b611cfae5a075274893fab35bd...</td>\n",
       "      <td>7f3092fede8553071d9a6bc85c851978266aabe0e5ec9a...</td>\n",
       "    </tr>\n",
       "    <tr>\n",
       "      <th>224</th>\n",
       "      <td>72980eb969bf38742a27b57becd625f4a3f03ae6392fbf...</td>\n",
       "      <td>fc0a9bf1a4e7448d3a9a558a0b60372d699f8c81fbfce5...</td>\n",
       "    </tr>\n",
       "    <tr>\n",
       "      <th>252</th>\n",
       "      <td>09e1f4de2bbe2ba0773df2e7ab64757ad18a358d20000d...</td>\n",
       "      <td>b086b58d1380ad9cfbb36aceda557cef68e755d30fe093...</td>\n",
       "    </tr>\n",
       "    <tr>\n",
       "      <th>280</th>\n",
       "      <td>8cf7f15576f68b2a6e278069aff9e2210333ff777214f4...</td>\n",
       "      <td>d5de30f221c7fac0d14ba9e7c4dfa0da43f3b16fe43be7...</td>\n",
       "    </tr>\n",
       "    <tr>\n",
       "      <th>308</th>\n",
       "      <td>56d3d1611a9f20f2b08e08afa655e65d68a4d4ea23a627...</td>\n",
       "      <td>cf9d398dbfa4936c6f9f17e71b23e72e21878d4678ae32...</td>\n",
       "    </tr>\n",
       "    <tr>\n",
       "      <th>336</th>\n",
       "      <td>372a56134776c0ac85b672814fc242616c9970241233dd...</td>\n",
       "      <td>ffa56bacc6a1f67d4dd2fce4425e37b17ea8d0b4086020...</td>\n",
       "    </tr>\n",
       "    <tr>\n",
       "      <th>364</th>\n",
       "      <td>f0be179dd2d5fdb181467456fc602af87228e7bfa64002...</td>\n",
       "      <td>2d651fb717c2d5e95426867b7e8840c02182c65817c581...</td>\n",
       "    </tr>\n",
       "    <tr>\n",
       "      <th>392</th>\n",
       "      <td>ff6fe52a90c8fb9a406dc208eef684a1b77d27e7a0bcde...</td>\n",
       "      <td>5bc4f8ece6da0013cb645e6bf23b2792346a98b23b2081...</td>\n",
       "    </tr>\n",
       "    <tr>\n",
       "      <th>420</th>\n",
       "      <td>60d49c14460f31ed7e6925b7fb7469675d5db4f44ebea0...</td>\n",
       "      <td>5884765107298db31b4d12eb5b3d03a6458aabbf9bb48b...</td>\n",
       "    </tr>\n",
       "    <tr>\n",
       "      <th>448</th>\n",
       "      <td>452ed7a51bdcbe251c3edfab80760a5ebefe1c5501fcd6...</td>\n",
       "      <td>4aa202f9270a58d0bb1eef45e614d1e8261b7d33ddd435...</td>\n",
       "    </tr>\n",
       "    <tr>\n",
       "      <th>476</th>\n",
       "      <td>872cdd275f9f091ec2178959775ee929d25020e920d1ba...</td>\n",
       "      <td>d8ea7e2242ddcce3c1d47109d4bdb115ac029f4b27ce53...</td>\n",
       "    </tr>\n",
       "    <tr>\n",
       "      <th>504</th>\n",
       "      <td>8037cf022b605ab00cef213e8b1a26458258b832787212...</td>\n",
       "      <td>16f2d3617848dd7e1d99f7b822a679685e9614ad09065c...</td>\n",
       "    </tr>\n",
       "    <tr>\n",
       "      <th>532</th>\n",
       "      <td>e64e4de8d1a972e8c89ac97316bcca8e0691f13581fb24...</td>\n",
       "      <td>b341945973d81fbf3fc12d0d2a1801fd71ff2b2bf89f6a...</td>\n",
       "    </tr>\n",
       "    <tr>\n",
       "      <th>560</th>\n",
       "      <td>dda7fa88fe1a68175167e7eb15ba6ea71a626e3e7e6321...</td>\n",
       "      <td>055fc0002191e3d65cf95daa326ed3491089ebffd8fcae...</td>\n",
       "    </tr>\n",
       "    <tr>\n",
       "      <th>588</th>\n",
       "      <td>9b5d32a9d8047dd785a4c4cec32a548976ba51ae369df3...</td>\n",
       "      <td>4050b49aad3f77677a656dcf971dc4940ed1d785f0e15e...</td>\n",
       "    </tr>\n",
       "    <tr>\n",
       "      <th>616</th>\n",
       "      <td>62bd6e4c9c89694af4b340ddc147a71326d965052592b1...</td>\n",
       "      <td>17338fb3fad1b5edc122183f36103a0b06c9451a104369...</td>\n",
       "    </tr>\n",
       "    <tr>\n",
       "      <th>644</th>\n",
       "      <td>5005dc421283c3024eeedd99caa4ec7e8a067cc2986792...</td>\n",
       "      <td>78b634d1a0834da534c80baa9475c01326f9a97ca2e740...</td>\n",
       "    </tr>\n",
       "    <tr>\n",
       "      <th>672</th>\n",
       "      <td>cd7d3627b55d0eff9b0ca1d7fca054437d4f955b427961...</td>\n",
       "      <td>8667645a8f5e11db3385bde208ceb42bf577a787e4f474...</td>\n",
       "    </tr>\n",
       "    <tr>\n",
       "      <th>700</th>\n",
       "      <td>adb348e6e3b97ce1d07627f7dde4ae5d68fa3f92207a96...</td>\n",
       "      <td>1ef8e186f062eb47eda45aeb3040c63b6839df21b66ebe...</td>\n",
       "    </tr>\n",
       "    <tr>\n",
       "      <th>728</th>\n",
       "      <td>452761b13d1a97635372b33e09ea2a8008a486fe79a360...</td>\n",
       "      <td>5098f99852424d460d4c4560fe4bd267aca9c799a40c98...</td>\n",
       "    </tr>\n",
       "    <tr>\n",
       "      <th>756</th>\n",
       "      <td>98b412465c6b6b8f1971fb107bd205b0693eff901a63be...</td>\n",
       "      <td>634d165b3f7b3414a3e0e9b26333bda6065afada72ebbc...</td>\n",
       "    </tr>\n",
       "    <tr>\n",
       "      <th>784</th>\n",
       "      <td>54844e912dd07bcbee1269134e6cbef600bb5ac46993b5...</td>\n",
       "      <td>68ee969dda88304f35a216b490fa7e1694267c7b660b32...</td>\n",
       "    </tr>\n",
       "    <tr>\n",
       "      <th>812</th>\n",
       "      <td>137cdce9ec6657809bfd08aeceb2e3545a14562b660d53...</td>\n",
       "      <td>f36840111d7b91b4a0b328eeb8f0a41bb98421186fb890...</td>\n",
       "    </tr>\n",
       "    <tr>\n",
       "      <th>840</th>\n",
       "      <td>4735491effbfa73cad3ee0139c974b8eacc154886d9124...</td>\n",
       "      <td>715ba076d9300bc46a51242c3ef6af977df049e9aa504c...</td>\n",
       "    </tr>\n",
       "    <tr>\n",
       "      <th>868</th>\n",
       "      <td>8490e3d2e2bf90a2eaef9d0d17d06b5a55d40822c8a9c3...</td>\n",
       "      <td>e0270361c42e63bd9c6f5d7e1f5a80be5aad0d83fe40bc...</td>\n",
       "    </tr>\n",
       "    <tr>\n",
       "      <th>896</th>\n",
       "      <td>119bb3fd3fbd6de8c3eb1bb1c519a23de13946799afbc3...</td>\n",
       "      <td>12ee160dc78c1d7d9732ed25a323d2c08d70bb2a2eb722...</td>\n",
       "    </tr>\n",
       "    <tr>\n",
       "      <th>924</th>\n",
       "      <td>cd891ff8df9f1617bebdab08bcb43d1213515925133596...</td>\n",
       "      <td>2eb17115822ce263c426b727e161f3cb65f95bdc6db67b...</td>\n",
       "    </tr>\n",
       "    <tr>\n",
       "      <th>952</th>\n",
       "      <td>e54fc69fb4d2f6d39eb37e4bc3d66107c865b1689af5cf...</td>\n",
       "      <td>414e03a4eca49c2a390554ff46955b8b1f46714988e6ec...</td>\n",
       "    </tr>\n",
       "    <tr>\n",
       "      <th>980</th>\n",
       "      <td>21e53c6079d389b31d0063e14ff37009a6877658b58af3...</td>\n",
       "      <td>c6bb1846eb7e34fb6a2308573e692a556623563ba0ba1f...</td>\n",
       "    </tr>\n",
       "    <tr>\n",
       "      <th>1008</th>\n",
       "      <td>7789f3a5402d71a65efc0b735e6312068c770833da4cba...</td>\n",
       "      <td>6fb53798509f90f5719f7ad0fdd4ac054d8bd4c3df7c6e...</td>\n",
       "    </tr>\n",
       "    <tr>\n",
       "      <th>1036</th>\n",
       "      <td>c82638a5642ffad7911fa48ee311b2ddef42da6d56b715...</td>\n",
       "      <td>45edf51c85244a0df950e3ea817934c9df84770a7b51fe...</td>\n",
       "    </tr>\n",
       "    <tr>\n",
       "      <th>1064</th>\n",
       "      <td>69a502ea2c89a5f61d16ce534026afa43727a85dc6433b...</td>\n",
       "      <td>07c2cfbdd420cb5e9fc7eecaac5dc70a74887f2d980f83...</td>\n",
       "    </tr>\n",
       "    <tr>\n",
       "      <th>1092</th>\n",
       "      <td>4904fb0a5242543cc1568baac25a6f977cc910a1260175...</td>\n",
       "      <td>a55a6c662c8a98be8f3661b1105b6cee22319ebb0a1fce...</td>\n",
       "    </tr>\n",
       "    <tr>\n",
       "      <th>1120</th>\n",
       "      <td>92fa38fb95dab770e910ffe3e3899e835db1a66319194f...</td>\n",
       "      <td>39d4ae2c182c20d2f69dd9fa86874e4aa73893e432be7f...</td>\n",
       "    </tr>\n",
       "    <tr>\n",
       "      <th>1148</th>\n",
       "      <td>4f786679cbc51d19bbe4f31af596bba232d13156b76469...</td>\n",
       "      <td>42789639636b7fb49e461c2eb1bbba46e38b84fb8699d7...</td>\n",
       "    </tr>\n",
       "    <tr>\n",
       "      <th>1176</th>\n",
       "      <td>e6d7afe0ba9cb0b12859414261f96e0b65080805af5525...</td>\n",
       "      <td>2e1fe41b2ab42a5c344fe29d3f899c717b19ea6e376a2d...</td>\n",
       "    </tr>\n",
       "    <tr>\n",
       "      <th>1204</th>\n",
       "      <td>96e9fc43422922194308d68ab481f69c3e6084d83d2f2b...</td>\n",
       "      <td>c4fb806e9a9cf073b1dade353fd43003f1ae095a587da2...</td>\n",
       "    </tr>\n",
       "    <tr>\n",
       "      <th>1232</th>\n",
       "      <td>ae3576630cebc01c1d4132a63228623ba8d6a4d66ffe7c...</td>\n",
       "      <td>93c6d6b4a00e3d375e50793a01a6357023a8855a8927d4...</td>\n",
       "    </tr>\n",
       "    <tr>\n",
       "      <th>1260</th>\n",
       "      <td>adba5036271c3c4a3372e69a6aad152bc5f18539ecfbec...</td>\n",
       "      <td>a9ef1ad74de72e39373f74c759edb4b5c2e4a6e0973cab...</td>\n",
       "    </tr>\n",
       "    <tr>\n",
       "      <th>1288</th>\n",
       "      <td>000ad42d24871bed8a139f101c46dd14f499dadc8f26a5...</td>\n",
       "      <td>757e5082366c1b279424535e2aae69cd1e6ff5143c8d89...</td>\n",
       "    </tr>\n",
       "    <tr>\n",
       "      <th>1316</th>\n",
       "      <td>e56d7ffa46dc9b6558fc8cbf6ac3e16a24575a2d7ba833...</td>\n",
       "      <td>9b38776e3705440c1b590da04c165851a6a584d00eab0a...</td>\n",
       "    </tr>\n",
       "    <tr>\n",
       "      <th>1344</th>\n",
       "      <td>8185ce2b48ece3e2b5493d61a08a77aa1bd883815a2b62...</td>\n",
       "      <td>06a63e60352000c7f0ec3845da3dc758b40ad1dd853d98...</td>\n",
       "    </tr>\n",
       "    <tr>\n",
       "      <th>1372</th>\n",
       "      <td>8c23cc35a965e01affe215db22e5be71b86189f4d6f9c0...</td>\n",
       "      <td>930ea107797bb1377acef7fbeef1fd7160b2d016792f34...</td>\n",
       "    </tr>\n",
       "    <tr>\n",
       "      <th>1400</th>\n",
       "      <td>35d532dc23d4b4fb12a571c630c3b159514fb86f61e5c6...</td>\n",
       "      <td>a99049db5945256382d1ec5e9d85935483453aa4f9531b...</td>\n",
       "    </tr>\n",
       "    <tr>\n",
       "      <th>1428</th>\n",
       "      <td>c9401fcd65607199dffcfd9584a533d89c677c20f47707...</td>\n",
       "      <td>06f8e191bd090092730cec446a11e91c1dc22d1e8a916c...</td>\n",
       "    </tr>\n",
       "    <tr>\n",
       "      <th>1456</th>\n",
       "      <td>3d320be49b4ed88a8a2ecd893934c1b77d713429d9098c...</td>\n",
       "      <td>0dea4c24cf8ea326eb8ffae75aded9eade3b4469035237...</td>\n",
       "    </tr>\n",
       "  </tbody>\n",
       "</table>\n",
       "</div>"
      ],
      "text/plain": [
       "                                              cooler_id  \\\n",
       "0     483fe5b436f370171a15a80520839049bd7c4b8416c28e...   \n",
       "28    51acd7bdf1c17f571df58541440547e2bf6e30e322cd1c...   \n",
       "56    b6edb73e7212f812ffe4b38eae69e06f9f2940d76238f4...   \n",
       "84    8d3260b5f7e49fff02b4743037a52406b19279d9cd0144...   \n",
       "112   75e325ac11632c676a299c5d28f3dca83bd628deb8b62f...   \n",
       "140   12ef32f2133e68b37554f01de6a72e38c1fa1985585a71...   \n",
       "168   ab25aa1218e09fb535191fcff9a3c3d2907b1617275d0d...   \n",
       "196   0fb620ffe915a5255914b611cfae5a075274893fab35bd...   \n",
       "224   72980eb969bf38742a27b57becd625f4a3f03ae6392fbf...   \n",
       "252   09e1f4de2bbe2ba0773df2e7ab64757ad18a358d20000d...   \n",
       "280   8cf7f15576f68b2a6e278069aff9e2210333ff777214f4...   \n",
       "308   56d3d1611a9f20f2b08e08afa655e65d68a4d4ea23a627...   \n",
       "336   372a56134776c0ac85b672814fc242616c9970241233dd...   \n",
       "364   f0be179dd2d5fdb181467456fc602af87228e7bfa64002...   \n",
       "392   ff6fe52a90c8fb9a406dc208eef684a1b77d27e7a0bcde...   \n",
       "420   60d49c14460f31ed7e6925b7fb7469675d5db4f44ebea0...   \n",
       "448   452ed7a51bdcbe251c3edfab80760a5ebefe1c5501fcd6...   \n",
       "476   872cdd275f9f091ec2178959775ee929d25020e920d1ba...   \n",
       "504   8037cf022b605ab00cef213e8b1a26458258b832787212...   \n",
       "532   e64e4de8d1a972e8c89ac97316bcca8e0691f13581fb24...   \n",
       "560   dda7fa88fe1a68175167e7eb15ba6ea71a626e3e7e6321...   \n",
       "588   9b5d32a9d8047dd785a4c4cec32a548976ba51ae369df3...   \n",
       "616   62bd6e4c9c89694af4b340ddc147a71326d965052592b1...   \n",
       "644   5005dc421283c3024eeedd99caa4ec7e8a067cc2986792...   \n",
       "672   cd7d3627b55d0eff9b0ca1d7fca054437d4f955b427961...   \n",
       "700   adb348e6e3b97ce1d07627f7dde4ae5d68fa3f92207a96...   \n",
       "728   452761b13d1a97635372b33e09ea2a8008a486fe79a360...   \n",
       "756   98b412465c6b6b8f1971fb107bd205b0693eff901a63be...   \n",
       "784   54844e912dd07bcbee1269134e6cbef600bb5ac46993b5...   \n",
       "812   137cdce9ec6657809bfd08aeceb2e3545a14562b660d53...   \n",
       "840   4735491effbfa73cad3ee0139c974b8eacc154886d9124...   \n",
       "868   8490e3d2e2bf90a2eaef9d0d17d06b5a55d40822c8a9c3...   \n",
       "896   119bb3fd3fbd6de8c3eb1bb1c519a23de13946799afbc3...   \n",
       "924   cd891ff8df9f1617bebdab08bcb43d1213515925133596...   \n",
       "952   e54fc69fb4d2f6d39eb37e4bc3d66107c865b1689af5cf...   \n",
       "980   21e53c6079d389b31d0063e14ff37009a6877658b58af3...   \n",
       "1008  7789f3a5402d71a65efc0b735e6312068c770833da4cba...   \n",
       "1036  c82638a5642ffad7911fa48ee311b2ddef42da6d56b715...   \n",
       "1064  69a502ea2c89a5f61d16ce534026afa43727a85dc6433b...   \n",
       "1092  4904fb0a5242543cc1568baac25a6f977cc910a1260175...   \n",
       "1120  92fa38fb95dab770e910ffe3e3899e835db1a66319194f...   \n",
       "1148  4f786679cbc51d19bbe4f31af596bba232d13156b76469...   \n",
       "1176  e6d7afe0ba9cb0b12859414261f96e0b65080805af5525...   \n",
       "1204  96e9fc43422922194308d68ab481f69c3e6084d83d2f2b...   \n",
       "1232  ae3576630cebc01c1d4132a63228623ba8d6a4d66ffe7c...   \n",
       "1260  adba5036271c3c4a3372e69a6aad152bc5f18539ecfbec...   \n",
       "1288  000ad42d24871bed8a139f101c46dd14f499dadc8f26a5...   \n",
       "1316  e56d7ffa46dc9b6558fc8cbf6ac3e16a24575a2d7ba833...   \n",
       "1344  8185ce2b48ece3e2b5493d61a08a77aa1bd883815a2b62...   \n",
       "1372  8c23cc35a965e01affe215db22e5be71b86189f4d6f9c0...   \n",
       "1400  35d532dc23d4b4fb12a571c630c3b159514fb86f61e5c6...   \n",
       "1428  c9401fcd65607199dffcfd9584a533d89c677c20f47707...   \n",
       "1456  3d320be49b4ed88a8a2ecd893934c1b77d713429d9098c...   \n",
       "\n",
       "                                            customer_id  \n",
       "0     3544a9c44aff0b0f4350dafe509cc3dc5866cc5b4a00ad...  \n",
       "28    77eeef8c6c0cf443f317fd6235cdb0de6bfa90bffe82cf...  \n",
       "56    14f33a4ef530da4fc534c603ef8d9aadb001c45c049372...  \n",
       "84    b9a30d64d6b7d901fae363c19b1b23cabada0973532aca...  \n",
       "112   69d7dfc1a92fba5676cf72010d37f8dee0ba981843374e...  \n",
       "140   2a72c2e329e7c8651cd04a6571f81c6c5d778603ef2b4a...  \n",
       "168   710c393ab7b9bfd577b3f984eadae2ae5dec3cfb55787e...  \n",
       "196   7f3092fede8553071d9a6bc85c851978266aabe0e5ec9a...  \n",
       "224   fc0a9bf1a4e7448d3a9a558a0b60372d699f8c81fbfce5...  \n",
       "252   b086b58d1380ad9cfbb36aceda557cef68e755d30fe093...  \n",
       "280   d5de30f221c7fac0d14ba9e7c4dfa0da43f3b16fe43be7...  \n",
       "308   cf9d398dbfa4936c6f9f17e71b23e72e21878d4678ae32...  \n",
       "336   ffa56bacc6a1f67d4dd2fce4425e37b17ea8d0b4086020...  \n",
       "364   2d651fb717c2d5e95426867b7e8840c02182c65817c581...  \n",
       "392   5bc4f8ece6da0013cb645e6bf23b2792346a98b23b2081...  \n",
       "420   5884765107298db31b4d12eb5b3d03a6458aabbf9bb48b...  \n",
       "448   4aa202f9270a58d0bb1eef45e614d1e8261b7d33ddd435...  \n",
       "476   d8ea7e2242ddcce3c1d47109d4bdb115ac029f4b27ce53...  \n",
       "504   16f2d3617848dd7e1d99f7b822a679685e9614ad09065c...  \n",
       "532   b341945973d81fbf3fc12d0d2a1801fd71ff2b2bf89f6a...  \n",
       "560   055fc0002191e3d65cf95daa326ed3491089ebffd8fcae...  \n",
       "588   4050b49aad3f77677a656dcf971dc4940ed1d785f0e15e...  \n",
       "616   17338fb3fad1b5edc122183f36103a0b06c9451a104369...  \n",
       "644   78b634d1a0834da534c80baa9475c01326f9a97ca2e740...  \n",
       "672   8667645a8f5e11db3385bde208ceb42bf577a787e4f474...  \n",
       "700   1ef8e186f062eb47eda45aeb3040c63b6839df21b66ebe...  \n",
       "728   5098f99852424d460d4c4560fe4bd267aca9c799a40c98...  \n",
       "756   634d165b3f7b3414a3e0e9b26333bda6065afada72ebbc...  \n",
       "784   68ee969dda88304f35a216b490fa7e1694267c7b660b32...  \n",
       "812   f36840111d7b91b4a0b328eeb8f0a41bb98421186fb890...  \n",
       "840   715ba076d9300bc46a51242c3ef6af977df049e9aa504c...  \n",
       "868   e0270361c42e63bd9c6f5d7e1f5a80be5aad0d83fe40bc...  \n",
       "896   12ee160dc78c1d7d9732ed25a323d2c08d70bb2a2eb722...  \n",
       "924   2eb17115822ce263c426b727e161f3cb65f95bdc6db67b...  \n",
       "952   414e03a4eca49c2a390554ff46955b8b1f46714988e6ec...  \n",
       "980   c6bb1846eb7e34fb6a2308573e692a556623563ba0ba1f...  \n",
       "1008  6fb53798509f90f5719f7ad0fdd4ac054d8bd4c3df7c6e...  \n",
       "1036  45edf51c85244a0df950e3ea817934c9df84770a7b51fe...  \n",
       "1064  07c2cfbdd420cb5e9fc7eecaac5dc70a74887f2d980f83...  \n",
       "1092  a55a6c662c8a98be8f3661b1105b6cee22319ebb0a1fce...  \n",
       "1120  39d4ae2c182c20d2f69dd9fa86874e4aa73893e432be7f...  \n",
       "1148  42789639636b7fb49e461c2eb1bbba46e38b84fb8699d7...  \n",
       "1176  2e1fe41b2ab42a5c344fe29d3f899c717b19ea6e376a2d...  \n",
       "1204  c4fb806e9a9cf073b1dade353fd43003f1ae095a587da2...  \n",
       "1232  93c6d6b4a00e3d375e50793a01a6357023a8855a8927d4...  \n",
       "1260  a9ef1ad74de72e39373f74c759edb4b5c2e4a6e0973cab...  \n",
       "1288  757e5082366c1b279424535e2aae69cd1e6ff5143c8d89...  \n",
       "1316  9b38776e3705440c1b590da04c165851a6a584d00eab0a...  \n",
       "1344  06a63e60352000c7f0ec3845da3dc758b40ad1dd853d98...  \n",
       "1372  930ea107797bb1377acef7fbeef1fd7160b2d016792f34...  \n",
       "1400  a99049db5945256382d1ec5e9d85935483453aa4f9531b...  \n",
       "1428  06f8e191bd090092730cec446a11e91c1dc22d1e8a916c...  \n",
       "1456  0dea4c24cf8ea326eb8ffae75aded9eade3b4469035237...  "
      ]
     },
     "execution_count": 30,
     "metadata": {},
     "output_type": "execute_result"
    }
   ],
   "source": [
    "'''\n",
    "Tabla de enfriadores con advertencias\n",
    "Este script carga un archivo CSV con datos de advertencias de enfriadores y los asocia con los clientes que los compraron.\n",
    "'''\n",
    "# Cargar los datos\n",
    "df_warnings = pd.read_csv('warnings.csv')          # Contiene solo cooler_id\n",
    "df_customers = pd.read_csv('sales.csv')            # Contiene cooler_id y customer_id\n",
    "\n",
    "# Asociar los cooler_id con customer_id\n",
    "coolers_with_warning = pd.merge(\n",
    "    df_warnings,\n",
    "    df_customers[['cooler_id', 'customer_id']],\n",
    "    on='cooler_id',\n",
    "    how='left'\n",
    ")\n",
    "\n",
    "# Eliminar duplicados en caso de múltiples ventas por cooler\n",
    "coolers_with_warning = coolers_with_warning.drop_duplicates()\n",
    "\n",
    "# Mostrar los resultados\n",
    "df_coolers_damaged = coolers_with_warning.copy()\n",
    "df_coolers_damaged\n"
   ]
  },
  {
   "cell_type": "code",
   "execution_count": 31,
   "id": "c812a960",
   "metadata": {},
   "outputs": [
    {
     "name": "stdout",
     "output_type": "stream",
     "text": [
      "<class 'pandas.core.series.Series'>\n"
     ]
    }
   ],
   "source": [
    "df_coolers = pd.read_csv('coolers_cleaned.csv')  # Contiene cooler_id y otros detalles\n",
    "df_cooler_with_warnings = df_coolers[df_coolers['cooler_id'].isin(df_coolers_damaged['cooler_id'])]\n",
    "df_filtro_sin_warnings = df_coolers[~df_coolers['cooler_id'].isin(df_coolers_damaged['cooler_id'])]\n",
    "\n",
    "# Mostrar el resultado filtrado\n",
    "df_cooler_with_warnings\n",
    "#promedios = df_cooler_with_warnings.mean(numeric_only=True)\n",
    "promedios = df_filtro_sin_warnings.mean(numeric_only=True)\n",
    "print(type(promedios))\n",
    "df_filtro_sin_warnings\n",
    "\n",
    "diferencia = df_cooler_with_warnings - promedios\n",
    "\n"
   ]
  }
 ],
 "metadata": {
  "kernelspec": {
   "display_name": "Python 3",
   "language": "python",
   "name": "python3"
  },
  "language_info": {
   "codemirror_mode": {
    "name": "ipython",
    "version": 3
   },
   "file_extension": ".py",
   "mimetype": "text/x-python",
   "name": "python",
   "nbconvert_exporter": "python",
   "pygments_lexer": "ipython3",
   "version": "3.13.3"
  }
 },
 "nbformat": 4,
 "nbformat_minor": 5
}
