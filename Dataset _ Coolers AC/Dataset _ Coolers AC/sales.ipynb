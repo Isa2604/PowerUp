{
 "cells": [
  {
   "cell_type": "code",
   "execution_count": 23,
   "id": "8ef52408",
   "metadata": {},
   "outputs": [],
   "source": [
    "import pandas as pd\n",
    "import matplotlib.pyplot as plt\n",
    "import calendar"
   ]
  },
  {
   "cell_type": "code",
   "execution_count": 36,
   "id": "6405605e",
   "metadata": {},
   "outputs": [
    {
     "data": {
      "application/vnd.microsoft.datawrangler.viewer.v0+json": {
       "columns": [
        {
         "name": "index",
         "rawType": "int64",
         "type": "integer"
        },
        {
         "name": "cooler_id",
         "rawType": "object",
         "type": "string"
        },
        {
         "name": "customer_id",
         "rawType": "object",
         "type": "string"
        },
        {
         "name": "amount",
         "rawType": "float64",
         "type": "float"
        },
        {
         "name": "year",
         "rawType": "object",
         "type": "string"
        },
        {
         "name": "month",
         "rawType": "object",
         "type": "string"
        }
       ],
       "ref": "542a3838-9fa8-4d28-9ca3-a2aa7d3c95a0",
       "rows": [
        [
         "0",
         "42d9b14c937541b8f1287ce7251d1e29f1f8eb58dbcd7eebd671b1e46d4520d8",
         "e21b830bc395b5a355f68a698c55ad95474f929d8e2521f095f990b1ae0ef587",
         "76.8887",
         "2025",
         "03"
        ],
        [
         "1",
         "42d9b14c937541b8f1287ce7251d1e29f1f8eb58dbcd7eebd671b1e46d4520d8",
         "e21b830bc395b5a355f68a698c55ad95474f929d8e2521f095f990b1ae0ef587",
         "131.0627",
         "2024",
         "12"
        ],
        [
         "2",
         "42d9b14c937541b8f1287ce7251d1e29f1f8eb58dbcd7eebd671b1e46d4520d8",
         "e21b830bc395b5a355f68a698c55ad95474f929d8e2521f095f990b1ae0ef587",
         "180.842",
         "2024",
         "07"
        ],
        [
         "3",
         "42d9b14c937541b8f1287ce7251d1e29f1f8eb58dbcd7eebd671b1e46d4520d8",
         "e21b830bc395b5a355f68a698c55ad95474f929d8e2521f095f990b1ae0ef587",
         "82.3243",
         "2025",
         "02"
        ],
        [
         "4",
         "42d9b14c937541b8f1287ce7251d1e29f1f8eb58dbcd7eebd671b1e46d4520d8",
         "e21b830bc395b5a355f68a698c55ad95474f929d8e2521f095f990b1ae0ef587",
         "201.7541",
         "2023",
         "10"
        ],
        [
         "5",
         "42d9b14c937541b8f1287ce7251d1e29f1f8eb58dbcd7eebd671b1e46d4520d8",
         "e21b830bc395b5a355f68a698c55ad95474f929d8e2521f095f990b1ae0ef587",
         "146.2146",
         "2023",
         "11"
        ],
        [
         "6",
         "42d9b14c937541b8f1287ce7251d1e29f1f8eb58dbcd7eebd671b1e46d4520d8",
         "e21b830bc395b5a355f68a698c55ad95474f929d8e2521f095f990b1ae0ef587",
         "102.3054",
         "2024",
         "01"
        ],
        [
         "7",
         "42d9b14c937541b8f1287ce7251d1e29f1f8eb58dbcd7eebd671b1e46d4520d8",
         "e21b830bc395b5a355f68a698c55ad95474f929d8e2521f095f990b1ae0ef587",
         "124.0854",
         "2024",
         "02"
        ],
        [
         "8",
         "42d9b14c937541b8f1287ce7251d1e29f1f8eb58dbcd7eebd671b1e46d4520d8",
         "e21b830bc395b5a355f68a698c55ad95474f929d8e2521f095f990b1ae0ef587",
         "187.2527",
         "2024",
         "04"
        ],
        [
         "9",
         "42d9b14c937541b8f1287ce7251d1e29f1f8eb58dbcd7eebd671b1e46d4520d8",
         "e21b830bc395b5a355f68a698c55ad95474f929d8e2521f095f990b1ae0ef587",
         "154.5896",
         "2023",
         "02"
        ],
        [
         "10",
         "42d9b14c937541b8f1287ce7251d1e29f1f8eb58dbcd7eebd671b1e46d4520d8",
         "e21b830bc395b5a355f68a698c55ad95474f929d8e2521f095f990b1ae0ef587",
         "151.8001",
         "2024",
         "10"
        ],
        [
         "11",
         "42d9b14c937541b8f1287ce7251d1e29f1f8eb58dbcd7eebd671b1e46d4520d8",
         "e21b830bc395b5a355f68a698c55ad95474f929d8e2521f095f990b1ae0ef587",
         "142.9395",
         "2023",
         "01"
        ],
        [
         "12",
         "42d9b14c937541b8f1287ce7251d1e29f1f8eb58dbcd7eebd671b1e46d4520d8",
         "e21b830bc395b5a355f68a698c55ad95474f929d8e2521f095f990b1ae0ef587",
         "193.3569",
         "2024",
         "05"
        ],
        [
         "13",
         "42d9b14c937541b8f1287ce7251d1e29f1f8eb58dbcd7eebd671b1e46d4520d8",
         "e21b830bc395b5a355f68a698c55ad95474f929d8e2521f095f990b1ae0ef587",
         "132.4667",
         "2023",
         "12"
        ],
        [
         "14",
         "42d9b14c937541b8f1287ce7251d1e29f1f8eb58dbcd7eebd671b1e46d4520d8",
         "e21b830bc395b5a355f68a698c55ad95474f929d8e2521f095f990b1ae0ef587",
         "157.7986",
         "2024",
         "09"
        ],
        [
         "15",
         "42d9b14c937541b8f1287ce7251d1e29f1f8eb58dbcd7eebd671b1e46d4520d8",
         "e21b830bc395b5a355f68a698c55ad95474f929d8e2521f095f990b1ae0ef587",
         "146.0142",
         "2024",
         "03"
        ],
        [
         "16",
         "42d9b14c937541b8f1287ce7251d1e29f1f8eb58dbcd7eebd671b1e46d4520d8",
         "e21b830bc395b5a355f68a698c55ad95474f929d8e2521f095f990b1ae0ef587",
         "246.6293",
         "2023",
         "07"
        ],
        [
         "17",
         "42d9b14c937541b8f1287ce7251d1e29f1f8eb58dbcd7eebd671b1e46d4520d8",
         "e21b830bc395b5a355f68a698c55ad95474f929d8e2521f095f990b1ae0ef587",
         "230.8292",
         "2023",
         "05"
        ],
        [
         "18",
         "42d9b14c937541b8f1287ce7251d1e29f1f8eb58dbcd7eebd671b1e46d4520d8",
         "e21b830bc395b5a355f68a698c55ad95474f929d8e2521f095f990b1ae0ef587",
         "151.3398",
         "2024",
         "08"
        ],
        [
         "19",
         "42d9b14c937541b8f1287ce7251d1e29f1f8eb58dbcd7eebd671b1e46d4520d8",
         "e21b830bc395b5a355f68a698c55ad95474f929d8e2521f095f990b1ae0ef587",
         "100.3981",
         "2024",
         "11"
        ],
        [
         "20",
         "42d9b14c937541b8f1287ce7251d1e29f1f8eb58dbcd7eebd671b1e46d4520d8",
         "e21b830bc395b5a355f68a698c55ad95474f929d8e2521f095f990b1ae0ef587",
         "227.1702",
         "2023",
         "08"
        ],
        [
         "21",
         "42d9b14c937541b8f1287ce7251d1e29f1f8eb58dbcd7eebd671b1e46d4520d8",
         "e21b830bc395b5a355f68a698c55ad95474f929d8e2521f095f990b1ae0ef587",
         "113.5826",
         "2025",
         "01"
        ],
        [
         "22",
         "42d9b14c937541b8f1287ce7251d1e29f1f8eb58dbcd7eebd671b1e46d4520d8",
         "e21b830bc395b5a355f68a698c55ad95474f929d8e2521f095f990b1ae0ef587",
         "184.8751",
         "2023",
         "03"
        ],
        [
         "23",
         "42d9b14c937541b8f1287ce7251d1e29f1f8eb58dbcd7eebd671b1e46d4520d8",
         "e21b830bc395b5a355f68a698c55ad95474f929d8e2521f095f990b1ae0ef587",
         "107.8039",
         "2025",
         "04"
        ],
        [
         "24",
         "42d9b14c937541b8f1287ce7251d1e29f1f8eb58dbcd7eebd671b1e46d4520d8",
         "e21b830bc395b5a355f68a698c55ad95474f929d8e2521f095f990b1ae0ef587",
         "331.9567",
         "2023",
         "06"
        ],
        [
         "25",
         "42d9b14c937541b8f1287ce7251d1e29f1f8eb58dbcd7eebd671b1e46d4520d8",
         "e21b830bc395b5a355f68a698c55ad95474f929d8e2521f095f990b1ae0ef587",
         "187.2557",
         "2023",
         "04"
        ],
        [
         "26",
         "42d9b14c937541b8f1287ce7251d1e29f1f8eb58dbcd7eebd671b1e46d4520d8",
         "e21b830bc395b5a355f68a698c55ad95474f929d8e2521f095f990b1ae0ef587",
         "201.4184",
         "2024",
         "06"
        ],
        [
         "27",
         "42d9b14c937541b8f1287ce7251d1e29f1f8eb58dbcd7eebd671b1e46d4520d8",
         "e21b830bc395b5a355f68a698c55ad95474f929d8e2521f095f990b1ae0ef587",
         "257.9299",
         "2023",
         "09"
        ],
        [
         "28",
         "be56de8313db4d2d42f6a8c82c5f450531a7ebbdfc13d2d3aae4862bed916a55",
         "c5ec417475455ef42dd911fcb06bcb56bed9f9e9f2c96c15592878b9fa9d66e7",
         "579.1025",
         "2025",
         "03"
        ],
        [
         "29",
         "be56de8313db4d2d42f6a8c82c5f450531a7ebbdfc13d2d3aae4862bed916a55",
         "c5ec417475455ef42dd911fcb06bcb56bed9f9e9f2c96c15592878b9fa9d66e7",
         "774.1925",
         "2024",
         "12"
        ],
        [
         "30",
         "be56de8313db4d2d42f6a8c82c5f450531a7ebbdfc13d2d3aae4862bed916a55",
         "c5ec417475455ef42dd911fcb06bcb56bed9f9e9f2c96c15592878b9fa9d66e7",
         "595.4171",
         "2024",
         "07"
        ],
        [
         "31",
         "be56de8313db4d2d42f6a8c82c5f450531a7ebbdfc13d2d3aae4862bed916a55",
         "c5ec417475455ef42dd911fcb06bcb56bed9f9e9f2c96c15592878b9fa9d66e7",
         "430.1393",
         "2025",
         "02"
        ],
        [
         "32",
         "be56de8313db4d2d42f6a8c82c5f450531a7ebbdfc13d2d3aae4862bed916a55",
         "c5ec417475455ef42dd911fcb06bcb56bed9f9e9f2c96c15592878b9fa9d66e7",
         "502.4844",
         "2023",
         "10"
        ],
        [
         "33",
         "be56de8313db4d2d42f6a8c82c5f450531a7ebbdfc13d2d3aae4862bed916a55",
         "c5ec417475455ef42dd911fcb06bcb56bed9f9e9f2c96c15592878b9fa9d66e7",
         "647.0928",
         "2023",
         "11"
        ],
        [
         "34",
         "be56de8313db4d2d42f6a8c82c5f450531a7ebbdfc13d2d3aae4862bed916a55",
         "c5ec417475455ef42dd911fcb06bcb56bed9f9e9f2c96c15592878b9fa9d66e7",
         "565.3807",
         "2024",
         "01"
        ],
        [
         "35",
         "be56de8313db4d2d42f6a8c82c5f450531a7ebbdfc13d2d3aae4862bed916a55",
         "c5ec417475455ef42dd911fcb06bcb56bed9f9e9f2c96c15592878b9fa9d66e7",
         "511.1449",
         "2024",
         "02"
        ],
        [
         "36",
         "be56de8313db4d2d42f6a8c82c5f450531a7ebbdfc13d2d3aae4862bed916a55",
         "c5ec417475455ef42dd911fcb06bcb56bed9f9e9f2c96c15592878b9fa9d66e7",
         "645.6397",
         "2024",
         "04"
        ],
        [
         "37",
         "be56de8313db4d2d42f6a8c82c5f450531a7ebbdfc13d2d3aae4862bed916a55",
         "c5ec417475455ef42dd911fcb06bcb56bed9f9e9f2c96c15592878b9fa9d66e7",
         "455.7818",
         "2023",
         "02"
        ],
        [
         "38",
         "be56de8313db4d2d42f6a8c82c5f450531a7ebbdfc13d2d3aae4862bed916a55",
         "c5ec417475455ef42dd911fcb06bcb56bed9f9e9f2c96c15592878b9fa9d66e7",
         "641.8947",
         "2024",
         "10"
        ],
        [
         "39",
         "be56de8313db4d2d42f6a8c82c5f450531a7ebbdfc13d2d3aae4862bed916a55",
         "c5ec417475455ef42dd911fcb06bcb56bed9f9e9f2c96c15592878b9fa9d66e7",
         "632.7277",
         "2023",
         "01"
        ],
        [
         "40",
         "be56de8313db4d2d42f6a8c82c5f450531a7ebbdfc13d2d3aae4862bed916a55",
         "c5ec417475455ef42dd911fcb06bcb56bed9f9e9f2c96c15592878b9fa9d66e7",
         "845.764",
         "2024",
         "05"
        ],
        [
         "41",
         "be56de8313db4d2d42f6a8c82c5f450531a7ebbdfc13d2d3aae4862bed916a55",
         "c5ec417475455ef42dd911fcb06bcb56bed9f9e9f2c96c15592878b9fa9d66e7",
         "576.9527",
         "2023",
         "12"
        ],
        [
         "42",
         "be56de8313db4d2d42f6a8c82c5f450531a7ebbdfc13d2d3aae4862bed916a55",
         "c5ec417475455ef42dd911fcb06bcb56bed9f9e9f2c96c15592878b9fa9d66e7",
         "581.6169",
         "2024",
         "09"
        ],
        [
         "43",
         "be56de8313db4d2d42f6a8c82c5f450531a7ebbdfc13d2d3aae4862bed916a55",
         "c5ec417475455ef42dd911fcb06bcb56bed9f9e9f2c96c15592878b9fa9d66e7",
         "805.5513",
         "2024",
         "03"
        ],
        [
         "44",
         "be56de8313db4d2d42f6a8c82c5f450531a7ebbdfc13d2d3aae4862bed916a55",
         "c5ec417475455ef42dd911fcb06bcb56bed9f9e9f2c96c15592878b9fa9d66e7",
         "632.6148",
         "2023",
         "07"
        ],
        [
         "45",
         "be56de8313db4d2d42f6a8c82c5f450531a7ebbdfc13d2d3aae4862bed916a55",
         "c5ec417475455ef42dd911fcb06bcb56bed9f9e9f2c96c15592878b9fa9d66e7",
         "807.0344",
         "2023",
         "05"
        ],
        [
         "46",
         "be56de8313db4d2d42f6a8c82c5f450531a7ebbdfc13d2d3aae4862bed916a55",
         "c5ec417475455ef42dd911fcb06bcb56bed9f9e9f2c96c15592878b9fa9d66e7",
         "679.0405",
         "2024",
         "08"
        ],
        [
         "47",
         "be56de8313db4d2d42f6a8c82c5f450531a7ebbdfc13d2d3aae4862bed916a55",
         "c5ec417475455ef42dd911fcb06bcb56bed9f9e9f2c96c15592878b9fa9d66e7",
         "701.8256",
         "2024",
         "11"
        ],
        [
         "48",
         "be56de8313db4d2d42f6a8c82c5f450531a7ebbdfc13d2d3aae4862bed916a55",
         "c5ec417475455ef42dd911fcb06bcb56bed9f9e9f2c96c15592878b9fa9d66e7",
         "731.6853",
         "2023",
         "08"
        ],
        [
         "49",
         "be56de8313db4d2d42f6a8c82c5f450531a7ebbdfc13d2d3aae4862bed916a55",
         "c5ec417475455ef42dd911fcb06bcb56bed9f9e9f2c96c15592878b9fa9d66e7",
         "585.7197",
         "2025",
         "01"
        ]
       ],
       "shape": {
        "columns": 5,
        "rows": 204736
       }
      },
      "text/html": [
       "<div>\n",
       "<style scoped>\n",
       "    .dataframe tbody tr th:only-of-type {\n",
       "        vertical-align: middle;\n",
       "    }\n",
       "\n",
       "    .dataframe tbody tr th {\n",
       "        vertical-align: top;\n",
       "    }\n",
       "\n",
       "    .dataframe thead th {\n",
       "        text-align: right;\n",
       "    }\n",
       "</style>\n",
       "<table border=\"1\" class=\"dataframe\">\n",
       "  <thead>\n",
       "    <tr style=\"text-align: right;\">\n",
       "      <th></th>\n",
       "      <th>cooler_id</th>\n",
       "      <th>customer_id</th>\n",
       "      <th>amount</th>\n",
       "      <th>year</th>\n",
       "      <th>month</th>\n",
       "    </tr>\n",
       "  </thead>\n",
       "  <tbody>\n",
       "    <tr>\n",
       "      <th>0</th>\n",
       "      <td>42d9b14c937541b8f1287ce7251d1e29f1f8eb58dbcd7e...</td>\n",
       "      <td>e21b830bc395b5a355f68a698c55ad95474f929d8e2521...</td>\n",
       "      <td>76.8887</td>\n",
       "      <td>2025</td>\n",
       "      <td>03</td>\n",
       "    </tr>\n",
       "    <tr>\n",
       "      <th>1</th>\n",
       "      <td>42d9b14c937541b8f1287ce7251d1e29f1f8eb58dbcd7e...</td>\n",
       "      <td>e21b830bc395b5a355f68a698c55ad95474f929d8e2521...</td>\n",
       "      <td>131.0627</td>\n",
       "      <td>2024</td>\n",
       "      <td>12</td>\n",
       "    </tr>\n",
       "    <tr>\n",
       "      <th>2</th>\n",
       "      <td>42d9b14c937541b8f1287ce7251d1e29f1f8eb58dbcd7e...</td>\n",
       "      <td>e21b830bc395b5a355f68a698c55ad95474f929d8e2521...</td>\n",
       "      <td>180.8420</td>\n",
       "      <td>2024</td>\n",
       "      <td>07</td>\n",
       "    </tr>\n",
       "    <tr>\n",
       "      <th>3</th>\n",
       "      <td>42d9b14c937541b8f1287ce7251d1e29f1f8eb58dbcd7e...</td>\n",
       "      <td>e21b830bc395b5a355f68a698c55ad95474f929d8e2521...</td>\n",
       "      <td>82.3243</td>\n",
       "      <td>2025</td>\n",
       "      <td>02</td>\n",
       "    </tr>\n",
       "    <tr>\n",
       "      <th>4</th>\n",
       "      <td>42d9b14c937541b8f1287ce7251d1e29f1f8eb58dbcd7e...</td>\n",
       "      <td>e21b830bc395b5a355f68a698c55ad95474f929d8e2521...</td>\n",
       "      <td>201.7541</td>\n",
       "      <td>2023</td>\n",
       "      <td>10</td>\n",
       "    </tr>\n",
       "    <tr>\n",
       "      <th>...</th>\n",
       "      <td>...</td>\n",
       "      <td>...</td>\n",
       "      <td>...</td>\n",
       "      <td>...</td>\n",
       "      <td>...</td>\n",
       "    </tr>\n",
       "    <tr>\n",
       "      <th>204731</th>\n",
       "      <td>661cc6a46677515e7801eda42d84b6242778a9d77f6062...</td>\n",
       "      <td>021ce98d216fdee3533129eb75d956978858eade78d6a4...</td>\n",
       "      <td>1244.2283</td>\n",
       "      <td>2025</td>\n",
       "      <td>04</td>\n",
       "    </tr>\n",
       "    <tr>\n",
       "      <th>204732</th>\n",
       "      <td>661cc6a46677515e7801eda42d84b6242778a9d77f6062...</td>\n",
       "      <td>021ce98d216fdee3533129eb75d956978858eade78d6a4...</td>\n",
       "      <td>1829.9476</td>\n",
       "      <td>2023</td>\n",
       "      <td>06</td>\n",
       "    </tr>\n",
       "    <tr>\n",
       "      <th>204733</th>\n",
       "      <td>661cc6a46677515e7801eda42d84b6242778a9d77f6062...</td>\n",
       "      <td>021ce98d216fdee3533129eb75d956978858eade78d6a4...</td>\n",
       "      <td>396.8060</td>\n",
       "      <td>2023</td>\n",
       "      <td>04</td>\n",
       "    </tr>\n",
       "    <tr>\n",
       "      <th>204734</th>\n",
       "      <td>661cc6a46677515e7801eda42d84b6242778a9d77f6062...</td>\n",
       "      <td>021ce98d216fdee3533129eb75d956978858eade78d6a4...</td>\n",
       "      <td>1818.3142</td>\n",
       "      <td>2024</td>\n",
       "      <td>06</td>\n",
       "    </tr>\n",
       "    <tr>\n",
       "      <th>204735</th>\n",
       "      <td>661cc6a46677515e7801eda42d84b6242778a9d77f6062...</td>\n",
       "      <td>021ce98d216fdee3533129eb75d956978858eade78d6a4...</td>\n",
       "      <td>1444.7187</td>\n",
       "      <td>2023</td>\n",
       "      <td>09</td>\n",
       "    </tr>\n",
       "  </tbody>\n",
       "</table>\n",
       "<p>204736 rows × 5 columns</p>\n",
       "</div>"
      ],
      "text/plain": [
       "                                                cooler_id  \\\n",
       "0       42d9b14c937541b8f1287ce7251d1e29f1f8eb58dbcd7e...   \n",
       "1       42d9b14c937541b8f1287ce7251d1e29f1f8eb58dbcd7e...   \n",
       "2       42d9b14c937541b8f1287ce7251d1e29f1f8eb58dbcd7e...   \n",
       "3       42d9b14c937541b8f1287ce7251d1e29f1f8eb58dbcd7e...   \n",
       "4       42d9b14c937541b8f1287ce7251d1e29f1f8eb58dbcd7e...   \n",
       "...                                                   ...   \n",
       "204731  661cc6a46677515e7801eda42d84b6242778a9d77f6062...   \n",
       "204732  661cc6a46677515e7801eda42d84b6242778a9d77f6062...   \n",
       "204733  661cc6a46677515e7801eda42d84b6242778a9d77f6062...   \n",
       "204734  661cc6a46677515e7801eda42d84b6242778a9d77f6062...   \n",
       "204735  661cc6a46677515e7801eda42d84b6242778a9d77f6062...   \n",
       "\n",
       "                                              customer_id     amount  year  \\\n",
       "0       e21b830bc395b5a355f68a698c55ad95474f929d8e2521...    76.8887  2025   \n",
       "1       e21b830bc395b5a355f68a698c55ad95474f929d8e2521...   131.0627  2024   \n",
       "2       e21b830bc395b5a355f68a698c55ad95474f929d8e2521...   180.8420  2024   \n",
       "3       e21b830bc395b5a355f68a698c55ad95474f929d8e2521...    82.3243  2025   \n",
       "4       e21b830bc395b5a355f68a698c55ad95474f929d8e2521...   201.7541  2023   \n",
       "...                                                   ...        ...   ...   \n",
       "204731  021ce98d216fdee3533129eb75d956978858eade78d6a4...  1244.2283  2025   \n",
       "204732  021ce98d216fdee3533129eb75d956978858eade78d6a4...  1829.9476  2023   \n",
       "204733  021ce98d216fdee3533129eb75d956978858eade78d6a4...   396.8060  2023   \n",
       "204734  021ce98d216fdee3533129eb75d956978858eade78d6a4...  1818.3142  2024   \n",
       "204735  021ce98d216fdee3533129eb75d956978858eade78d6a4...  1444.7187  2023   \n",
       "\n",
       "       month  \n",
       "0         03  \n",
       "1         12  \n",
       "2         07  \n",
       "3         02  \n",
       "4         10  \n",
       "...      ...  \n",
       "204731    04  \n",
       "204732    06  \n",
       "204733    04  \n",
       "204734    06  \n",
       "204735    09  \n",
       "\n",
       "[204736 rows x 5 columns]"
      ]
     },
     "execution_count": 36,
     "metadata": {},
     "output_type": "execute_result"
    }
   ],
   "source": [
    "df_sales_month = pd.read_csv('sales.csv')\n",
    "df_sales_month['calmonth'] = df_sales_month['calmonth'].astype(str)\n",
    "df_sales_month['year'] = df_sales_month['calmonth'].str[:4]\n",
    "df_sales_month['month'] = df_sales_month['calmonth'].str[4:6]\n",
    "df_sales_month = df_sales_month.drop(columns=['calmonth'])\n",
    "df_sales_month"
   ]
  },
  {
   "cell_type": "code",
   "execution_count": 39,
   "id": "e013285c",
   "metadata": {},
   "outputs": [
    {
     "data": {
      "image/png": "[encoded data removed]",
      "text/plain": [
       "<Figure size 1200x600 with 1 Axes>"
      ]
     },
     "metadata": {},
     "output_type": "display_data"
    }
   ],
   "source": [
    "months = calendar.month_name\n",
    "# Usar sales_month para graficar ventas por mes en cada año\n",
    "\n",
    "# Crear tabla pivote: filas=mes, columnas=año, valores=amount\n",
    "pivot = df_sales_month.pivot_table(index='month', columns='year', values='amount', aggfunc='sum')\n",
    "\n",
    "# Ordenar los meses correctamente\n",
    "pivot = pivot.reindex([f\"{i:02d}\" for i in range(1, 13)])\n",
    "\n",
    "# Graficar\n",
    "pivot.plot(kind='bar', figsize=(12,6), colormap='tab10')\n",
    "\n",
    "# Ajustes visuales\n",
    "plt.title('Ventas por Mes en Cada Año')\n",
    "plt.xlabel('Mes')\n",
    "plt.ylabel('Monto vendido')\n",
    "plt.xticks(ticks=range(12), labels=months[1:], rotation=0)\n",
    "plt.legend(title='Año')\n",
    "plt.grid(axis='y', linestyle='--', alpha=0.5)\n",
    "plt.tight_layout()\n",
    "plt.show()\n"
   ]
  }
 ],
 "metadata": {
  "kernelspec": {
   "display_name": "Python 3",
   "language": "python",
   "name": "python3"
  },
  "language_info": {
   "codemirror_mode": {
    "name": "ipython",
    "version": 3
   },
   "file_extension": ".py",
   "mimetype": "text/x-python",
   "name": "python",
   "nbconvert_exporter": "python",
   "pygments_lexer": "ipython3",
   "version": "3.13.3"
  }
 },
 "nbformat": 4,
 "nbformat_minor": 5
}
