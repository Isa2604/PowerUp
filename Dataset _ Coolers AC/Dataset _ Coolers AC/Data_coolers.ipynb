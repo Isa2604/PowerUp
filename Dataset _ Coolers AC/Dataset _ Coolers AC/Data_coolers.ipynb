{
 "cells": [
  {
   "cell_type": "markdown",
   "id": "835c3134",
   "metadata": {},
   "source": [
    "Hola como estas"
   ]
  },
  {
   "cell_type": "code",
   "execution_count": 2,
   "id": "e429fd9b",
   "metadata": {},
   "outputs": [],
   "source": [
    "import pandas as pd"
   ]
  },
  {
   "cell_type": "markdown",
   "id": "685a1056",
   "metadata": {},
   "source": [
    "Isabela"
   ]
  },
  {
   "cell_type": "code",
   "execution_count": null,
   "id": "2667b4ea",
   "metadata": {},
   "outputs": [],
   "source": [
    "df_coolers = pd.read_csv('coolers.csv')"
   ]
  },
  {
   "cell_type": "code",
   "execution_count": 10,
   "id": "2128da22",
   "metadata": {},
   "outputs": [],
   "source": [
    "df_warning = pd.read_csv('warnings.csv')"
   ]
  },
  {
   "cell_type": "code",
   "execution_count": 11,
   "id": "e00cc5dd",
   "metadata": {},
   "outputs": [],
   "source": [
    "df_warning = df_warning.rename(columns={'cooler_id': 'Warning'})\n",
    "\n"
   ]
  },
  {
   "cell_type": "code",
   "execution_count": null,
   "id": "7d009e47",
   "metadata": {},
   "outputs": [],
   "source": [
    "\n",
    "df_limpio = df_coolers.dropna(subset=['door_opens', 'open_time'])"
   ]
  },
  {
   "cell_type": "code",
   "execution_count": 13,
   "id": "a98ca511",
   "metadata": {},
   "outputs": [],
   "source": [
    "\n",
    "df_merged = pd.merge(df_limpio, df_warning, left_on='cooler_id', right_on='Warning', how='left')\n"
   ]
  },
  {
   "cell_type": "code",
   "execution_count": 14,
   "id": "cde6e8a6",
   "metadata": {},
   "outputs": [],
   "source": [
    "df_merged = df_merged.dropna(subset=['temperature'])"
   ]
  },
  {
   "cell_type": "code",
   "execution_count": 15,
   "id": "9776781a",
   "metadata": {},
   "outputs": [
    {
     "name": "stdout",
     "output_type": "stream",
     "text": [
      "Index(['cooler_id', 'door_opens', 'open_time', 'compressor', 'power',\n",
      "       'on_time', 'min_voltage', 'max_voltage', 'temperature', 'calday',\n",
      "       'Warning'],\n",
      "      dtype='object')\n"
     ]
    }
   ],
   "source": [
    "print(df_merged.columns)"
   ]
  },
  {
   "cell_type": "code",
   "execution_count": 16,
   "id": "8fd5697a",
   "metadata": {},
   "outputs": [],
   "source": [
    "df_merged = df_merged.dropna(subset=['min_voltage'])"
   ]
  },
  {
   "cell_type": "markdown",
   "id": "615a0498",
   "metadata": {},
   "source": [
    "CALENDAR.CSV"
   ]
  },
  {
   "cell_type": "code",
   "execution_count": 30,
   "id": "8934028a",
   "metadata": {},
   "outputs": [
    {
     "data": {
      "application/vnd.microsoft.datawrangler.viewer.v0+json": {
       "columns": [
        {
         "name": "index",
         "rawType": "int64",
         "type": "integer"
        },
        {
         "name": "calday",
         "rawType": "int64",
         "type": "integer"
        },
        {
         "name": "calmonth",
         "rawType": "int64",
         "type": "integer"
        },
        {
         "name": "day",
         "rawType": "int32",
         "type": "integer"
        },
        {
         "name": "calday_format",
         "rawType": "datetime64[ns]",
         "type": "datetime"
        },
        {
         "name": "year",
         "rawType": "int32",
         "type": "integer"
        },
        {
         "name": "month",
         "rawType": "int32",
         "type": "integer"
        }
       ],
       "ref": "805a8a4d-b728-4db7-a256-3271da1479ef",
       "rows": [
        [
         "0",
         "20230101",
         "202301",
         "1",
         "2023-01-01 00:00:00",
         "2023",
         "1"
        ],
        [
         "1",
         "20230102",
         "202301",
         "2",
         "2023-01-02 00:00:00",
         "2023",
         "1"
        ],
        [
         "2",
         "20230103",
         "202301",
         "3",
         "2023-01-03 00:00:00",
         "2023",
         "1"
        ],
        [
         "3",
         "20230104",
         "202301",
         "4",
         "2023-01-04 00:00:00",
         "2023",
         "1"
        ],
        [
         "4",
         "20230105",
         "202301",
         "5",
         "2023-01-05 00:00:00",
         "2023",
         "1"
        ],
        [
         "5",
         "20230106",
         "202301",
         "6",
         "2023-01-06 00:00:00",
         "2023",
         "1"
        ],
        [
         "6",
         "20230107",
         "202301",
         "7",
         "2023-01-07 00:00:00",
         "2023",
         "1"
        ],
        [
         "7",
         "20230108",
         "202301",
         "8",
         "2023-01-08 00:00:00",
         "2023",
         "1"
        ],
        [
         "8",
         "20230109",
         "202301",
         "9",
         "2023-01-09 00:00:00",
         "2023",
         "1"
        ],
        [
         "9",
         "20230110",
         "202301",
         "10",
         "2023-01-10 00:00:00",
         "2023",
         "1"
        ],
        [
         "10",
         "20230111",
         "202301",
         "11",
         "2023-01-11 00:00:00",
         "2023",
         "1"
        ],
        [
         "11",
         "20230112",
         "202301",
         "12",
         "2023-01-12 00:00:00",
         "2023",
         "1"
        ],
        [
         "12",
         "20230113",
         "202301",
         "13",
         "2023-01-13 00:00:00",
         "2023",
         "1"
        ],
        [
         "13",
         "20230114",
         "202301",
         "14",
         "2023-01-14 00:00:00",
         "2023",
         "1"
        ],
        [
         "14",
         "20230115",
         "202301",
         "15",
         "2023-01-15 00:00:00",
         "2023",
         "1"
        ],
        [
         "15",
         "20230116",
         "202301",
         "16",
         "2023-01-16 00:00:00",
         "2023",
         "1"
        ],
        [
         "16",
         "20230117",
         "202301",
         "17",
         "2023-01-17 00:00:00",
         "2023",
         "1"
        ],
        [
         "17",
         "20230118",
         "202301",
         "18",
         "2023-01-18 00:00:00",
         "2023",
         "1"
        ],
        [
         "18",
         "20230119",
         "202301",
         "19",
         "2023-01-19 00:00:00",
         "2023",
         "1"
        ],
        [
         "19",
         "20230120",
         "202301",
         "20",
         "2023-01-20 00:00:00",
         "2023",
         "1"
        ],
        [
         "20",
         "20230121",
         "202301",
         "21",
         "2023-01-21 00:00:00",
         "2023",
         "1"
        ],
        [
         "21",
         "20230122",
         "202301",
         "22",
         "2023-01-22 00:00:00",
         "2023",
         "1"
        ],
        [
         "22",
         "20230123",
         "202301",
         "23",
         "2023-01-23 00:00:00",
         "2023",
         "1"
        ],
        [
         "23",
         "20230124",
         "202301",
         "24",
         "2023-01-24 00:00:00",
         "2023",
         "1"
        ],
        [
         "24",
         "20230125",
         "202301",
         "25",
         "2023-01-25 00:00:00",
         "2023",
         "1"
        ],
        [
         "25",
         "20230126",
         "202301",
         "26",
         "2023-01-26 00:00:00",
         "2023",
         "1"
        ],
        [
         "26",
         "20230127",
         "202301",
         "27",
         "2023-01-27 00:00:00",
         "2023",
         "1"
        ],
        [
         "27",
         "20230128",
         "202301",
         "28",
         "2023-01-28 00:00:00",
         "2023",
         "1"
        ],
        [
         "28",
         "20230129",
         "202301",
         "29",
         "2023-01-29 00:00:00",
         "2023",
         "1"
        ],
        [
         "29",
         "20230130",
         "202301",
         "30",
         "2023-01-30 00:00:00",
         "2023",
         "1"
        ],
        [
         "30",
         "20230131",
         "202301",
         "31",
         "2023-01-31 00:00:00",
         "2023",
         "1"
        ],
        [
         "31",
         "20230201",
         "202302",
         "1",
         "2023-02-01 00:00:00",
         "2023",
         "2"
        ],
        [
         "32",
         "20230202",
         "202302",
         "2",
         "2023-02-02 00:00:00",
         "2023",
         "2"
        ],
        [
         "33",
         "20230203",
         "202302",
         "3",
         "2023-02-03 00:00:00",
         "2023",
         "2"
        ],
        [
         "34",
         "20230204",
         "202302",
         "4",
         "2023-02-04 00:00:00",
         "2023",
         "2"
        ],
        [
         "35",
         "20230205",
         "202302",
         "5",
         "2023-02-05 00:00:00",
         "2023",
         "2"
        ],
        [
         "36",
         "20230206",
         "202302",
         "6",
         "2023-02-06 00:00:00",
         "2023",
         "2"
        ],
        [
         "37",
         "20230207",
         "202302",
         "7",
         "2023-02-07 00:00:00",
         "2023",
         "2"
        ],
        [
         "38",
         "20230208",
         "202302",
         "8",
         "2023-02-08 00:00:00",
         "2023",
         "2"
        ],
        [
         "39",
         "20230209",
         "202302",
         "9",
         "2023-02-09 00:00:00",
         "2023",
         "2"
        ],
        [
         "40",
         "20230210",
         "202302",
         "10",
         "2023-02-10 00:00:00",
         "2023",
         "2"
        ],
        [
         "41",
         "20230211",
         "202302",
         "11",
         "2023-02-11 00:00:00",
         "2023",
         "2"
        ],
        [
         "42",
         "20230212",
         "202302",
         "12",
         "2023-02-12 00:00:00",
         "2023",
         "2"
        ],
        [
         "43",
         "20230213",
         "202302",
         "13",
         "2023-02-13 00:00:00",
         "2023",
         "2"
        ],
        [
         "44",
         "20230214",
         "202302",
         "14",
         "2023-02-14 00:00:00",
         "2023",
         "2"
        ],
        [
         "45",
         "20230215",
         "202302",
         "15",
         "2023-02-15 00:00:00",
         "2023",
         "2"
        ],
        [
         "46",
         "20230216",
         "202302",
         "16",
         "2023-02-16 00:00:00",
         "2023",
         "2"
        ],
        [
         "47",
         "20230217",
         "202302",
         "17",
         "2023-02-17 00:00:00",
         "2023",
         "2"
        ],
        [
         "48",
         "20230218",
         "202302",
         "18",
         "2023-02-18 00:00:00",
         "2023",
         "2"
        ],
        [
         "49",
         "20230219",
         "202302",
         "19",
         "2023-02-19 00:00:00",
         "2023",
         "2"
        ]
       ],
       "shape": {
        "columns": 6,
        "rows": 851
       }
      },
      "text/html": [
       "<div>\n",
       "<style scoped>\n",
       "    .dataframe tbody tr th:only-of-type {\n",
       "        vertical-align: middle;\n",
       "    }\n",
       "\n",
       "    .dataframe tbody tr th {\n",
       "        vertical-align: top;\n",
       "    }\n",
       "\n",
       "    .dataframe thead th {\n",
       "        text-align: right;\n",
       "    }\n",
       "</style>\n",
       "<table border=\"1\" class=\"dataframe\">\n",
       "  <thead>\n",
       "    <tr style=\"text-align: right;\">\n",
       "      <th></th>\n",
       "      <th>calday</th>\n",
       "      <th>calmonth</th>\n",
       "      <th>day</th>\n",
       "      <th>calday_format</th>\n",
       "      <th>year</th>\n",
       "      <th>month</th>\n",
       "    </tr>\n",
       "  </thead>\n",
       "  <tbody>\n",
       "    <tr>\n",
       "      <th>0</th>\n",
       "      <td>20230101</td>\n",
       "      <td>202301</td>\n",
       "      <td>1</td>\n",
       "      <td>2023-01-01</td>\n",
       "      <td>2023</td>\n",
       "      <td>1</td>\n",
       "    </tr>\n",
       "    <tr>\n",
       "      <th>1</th>\n",
       "      <td>20230102</td>\n",
       "      <td>202301</td>\n",
       "      <td>2</td>\n",
       "      <td>2023-01-02</td>\n",
       "      <td>2023</td>\n",
       "      <td>1</td>\n",
       "    </tr>\n",
       "    <tr>\n",
       "      <th>2</th>\n",
       "      <td>20230103</td>\n",
       "      <td>202301</td>\n",
       "      <td>3</td>\n",
       "      <td>2023-01-03</td>\n",
       "      <td>2023</td>\n",
       "      <td>1</td>\n",
       "    </tr>\n",
       "    <tr>\n",
       "      <th>3</th>\n",
       "      <td>20230104</td>\n",
       "      <td>202301</td>\n",
       "      <td>4</td>\n",
       "      <td>2023-01-04</td>\n",
       "      <td>2023</td>\n",
       "      <td>1</td>\n",
       "    </tr>\n",
       "    <tr>\n",
       "      <th>4</th>\n",
       "      <td>20230105</td>\n",
       "      <td>202301</td>\n",
       "      <td>5</td>\n",
       "      <td>2023-01-05</td>\n",
       "      <td>2023</td>\n",
       "      <td>1</td>\n",
       "    </tr>\n",
       "    <tr>\n",
       "      <th>...</th>\n",
       "      <td>...</td>\n",
       "      <td>...</td>\n",
       "      <td>...</td>\n",
       "      <td>...</td>\n",
       "      <td>...</td>\n",
       "      <td>...</td>\n",
       "    </tr>\n",
       "    <tr>\n",
       "      <th>846</th>\n",
       "      <td>20250426</td>\n",
       "      <td>202504</td>\n",
       "      <td>26</td>\n",
       "      <td>2025-04-26</td>\n",
       "      <td>2025</td>\n",
       "      <td>4</td>\n",
       "    </tr>\n",
       "    <tr>\n",
       "      <th>847</th>\n",
       "      <td>20250427</td>\n",
       "      <td>202504</td>\n",
       "      <td>27</td>\n",
       "      <td>2025-04-27</td>\n",
       "      <td>2025</td>\n",
       "      <td>4</td>\n",
       "    </tr>\n",
       "    <tr>\n",
       "      <th>848</th>\n",
       "      <td>20250428</td>\n",
       "      <td>202504</td>\n",
       "      <td>28</td>\n",
       "      <td>2025-04-28</td>\n",
       "      <td>2025</td>\n",
       "      <td>4</td>\n",
       "    </tr>\n",
       "    <tr>\n",
       "      <th>849</th>\n",
       "      <td>20250429</td>\n",
       "      <td>202504</td>\n",
       "      <td>29</td>\n",
       "      <td>2025-04-29</td>\n",
       "      <td>2025</td>\n",
       "      <td>4</td>\n",
       "    </tr>\n",
       "    <tr>\n",
       "      <th>850</th>\n",
       "      <td>20250430</td>\n",
       "      <td>202504</td>\n",
       "      <td>30</td>\n",
       "      <td>2025-04-30</td>\n",
       "      <td>2025</td>\n",
       "      <td>4</td>\n",
       "    </tr>\n",
       "  </tbody>\n",
       "</table>\n",
       "<p>851 rows × 6 columns</p>\n",
       "</div>"
      ],
      "text/plain": [
       "       calday  calmonth  day calday_format  year  month\n",
       "0    20230101    202301    1    2023-01-01  2023      1\n",
       "1    20230102    202301    2    2023-01-02  2023      1\n",
       "2    20230103    202301    3    2023-01-03  2023      1\n",
       "3    20230104    202301    4    2023-01-04  2023      1\n",
       "4    20230105    202301    5    2023-01-05  2023      1\n",
       "..        ...       ...  ...           ...   ...    ...\n",
       "846  20250426    202504   26    2025-04-26  2025      4\n",
       "847  20250427    202504   27    2025-04-27  2025      4\n",
       "848  20250428    202504   28    2025-04-28  2025      4\n",
       "849  20250429    202504   29    2025-04-29  2025      4\n",
       "850  20250430    202504   30    2025-04-30  2025      4\n",
       "\n",
       "[851 rows x 6 columns]"
      ]
     },
     "execution_count": 30,
     "metadata": {},
     "output_type": "execute_result"
    }
   ],
   "source": [
    "df_calendar = pd.read_csv('calendar.csv')\n",
    "df_clean_calday = df_calendar.copy()\n",
    "# Convertir a datetime y luego extraer componentes calday\n",
    "df_clean_calday['calday_format'] = pd.to_datetime(df_calendar['calday'], format='%Y%m%d')\n",
    "df_clean_calday['year'] = df_clean_calday['calday_format'].dt.year\n",
    "df_clean_calday['month'] = df_clean_calday['calday_format'].dt.month\n",
    "df_clean_calday['day'] = df_clean_calday['calday_format'].dt.day\n",
    "df_clean_calmonth = df_calendar.copy()\n",
    "# Convertir a datetime y luego extraer componentes de calmonth\n",
    "df_clean_calmonth['calmonth'] = pd.to_datetime(df_calendar['calmonth'], format='%Y%m')\n",
    "df_clean_calmonth['year'] = df_clean_calmonth['calmonth'].dt.year\n",
    "df_clean_calmonth['month'] = df_clean_calmonth['calmonth'].dt.month\n",
    "df_clean_calday"
   ]
  },
  {
   "cell_type": "markdown",
   "id": "79b324d7",
   "metadata": {},
   "source": [
    "SALES.CSV"
   ]
  },
  {
   "cell_type": "code",
   "execution_count": 31,
   "id": "4ce92ddf",
   "metadata": {},
   "outputs": [
    {
     "data": {
      "application/vnd.microsoft.datawrangler.viewer.v0+json": {
       "columns": [
        {
         "name": "index",
         "rawType": "int64",
         "type": "integer"
        },
        {
         "name": "cooler_id",
         "rawType": "object",
         "type": "string"
        },
        {
         "name": "customer_id",
         "rawType": "object",
         "type": "string"
        },
        {
         "name": "amount",
         "rawType": "float64",
         "type": "float"
        },
        {
         "name": "year",
         "rawType": "object",
         "type": "string"
        },
        {
         "name": "month",
         "rawType": "object",
         "type": "string"
        }
       ],
       "ref": "700f9c1e-1a8e-4b50-b5bc-40de20430e3a",
       "rows": [
        [
         "0",
         "42d9b14c937541b8f1287ce7251d1e29f1f8eb58dbcd7eebd671b1e46d4520d8",
         "e21b830bc395b5a355f68a698c55ad95474f929d8e2521f095f990b1ae0ef587",
         "76.8887",
         "2025",
         "03"
        ],
        [
         "1",
         "42d9b14c937541b8f1287ce7251d1e29f1f8eb58dbcd7eebd671b1e46d4520d8",
         "e21b830bc395b5a355f68a698c55ad95474f929d8e2521f095f990b1ae0ef587",
         "131.0627",
         "2024",
         "12"
        ],
        [
         "2",
         "42d9b14c937541b8f1287ce7251d1e29f1f8eb58dbcd7eebd671b1e46d4520d8",
         "e21b830bc395b5a355f68a698c55ad95474f929d8e2521f095f990b1ae0ef587",
         "180.842",
         "2024",
         "07"
        ],
        [
         "3",
         "42d9b14c937541b8f1287ce7251d1e29f1f8eb58dbcd7eebd671b1e46d4520d8",
         "e21b830bc395b5a355f68a698c55ad95474f929d8e2521f095f990b1ae0ef587",
         "82.3243",
         "2025",
         "02"
        ],
        [
         "4",
         "42d9b14c937541b8f1287ce7251d1e29f1f8eb58dbcd7eebd671b1e46d4520d8",
         "e21b830bc395b5a355f68a698c55ad95474f929d8e2521f095f990b1ae0ef587",
         "201.7541",
         "2023",
         "10"
        ],
        [
         "5",
         "42d9b14c937541b8f1287ce7251d1e29f1f8eb58dbcd7eebd671b1e46d4520d8",
         "e21b830bc395b5a355f68a698c55ad95474f929d8e2521f095f990b1ae0ef587",
         "146.2146",
         "2023",
         "11"
        ],
        [
         "6",
         "42d9b14c937541b8f1287ce7251d1e29f1f8eb58dbcd7eebd671b1e46d4520d8",
         "e21b830bc395b5a355f68a698c55ad95474f929d8e2521f095f990b1ae0ef587",
         "102.3054",
         "2024",
         "01"
        ],
        [
         "7",
         "42d9b14c937541b8f1287ce7251d1e29f1f8eb58dbcd7eebd671b1e46d4520d8",
         "e21b830bc395b5a355f68a698c55ad95474f929d8e2521f095f990b1ae0ef587",
         "124.0854",
         "2024",
         "02"
        ],
        [
         "8",
         "42d9b14c937541b8f1287ce7251d1e29f1f8eb58dbcd7eebd671b1e46d4520d8",
         "e21b830bc395b5a355f68a698c55ad95474f929d8e2521f095f990b1ae0ef587",
         "187.2527",
         "2024",
         "04"
        ],
        [
         "9",
         "42d9b14c937541b8f1287ce7251d1e29f1f8eb58dbcd7eebd671b1e46d4520d8",
         "e21b830bc395b5a355f68a698c55ad95474f929d8e2521f095f990b1ae0ef587",
         "154.5896",
         "2023",
         "02"
        ],
        [
         "10",
         "42d9b14c937541b8f1287ce7251d1e29f1f8eb58dbcd7eebd671b1e46d4520d8",
         "e21b830bc395b5a355f68a698c55ad95474f929d8e2521f095f990b1ae0ef587",
         "151.8001",
         "2024",
         "10"
        ],
        [
         "11",
         "42d9b14c937541b8f1287ce7251d1e29f1f8eb58dbcd7eebd671b1e46d4520d8",
         "e21b830bc395b5a355f68a698c55ad95474f929d8e2521f095f990b1ae0ef587",
         "142.9395",
         "2023",
         "01"
        ],
        [
         "12",
         "42d9b14c937541b8f1287ce7251d1e29f1f8eb58dbcd7eebd671b1e46d4520d8",
         "e21b830bc395b5a355f68a698c55ad95474f929d8e2521f095f990b1ae0ef587",
         "193.3569",
         "2024",
         "05"
        ],
        [
         "13",
         "42d9b14c937541b8f1287ce7251d1e29f1f8eb58dbcd7eebd671b1e46d4520d8",
         "e21b830bc395b5a355f68a698c55ad95474f929d8e2521f095f990b1ae0ef587",
         "132.4667",
         "2023",
         "12"
        ],
        [
         "14",
         "42d9b14c937541b8f1287ce7251d1e29f1f8eb58dbcd7eebd671b1e46d4520d8",
         "e21b830bc395b5a355f68a698c55ad95474f929d8e2521f095f990b1ae0ef587",
         "157.7986",
         "2024",
         "09"
        ],
        [
         "15",
         "42d9b14c937541b8f1287ce7251d1e29f1f8eb58dbcd7eebd671b1e46d4520d8",
         "e21b830bc395b5a355f68a698c55ad95474f929d8e2521f095f990b1ae0ef587",
         "146.0142",
         "2024",
         "03"
        ],
        [
         "16",
         "42d9b14c937541b8f1287ce7251d1e29f1f8eb58dbcd7eebd671b1e46d4520d8",
         "e21b830bc395b5a355f68a698c55ad95474f929d8e2521f095f990b1ae0ef587",
         "246.6293",
         "2023",
         "07"
        ],
        [
         "17",
         "42d9b14c937541b8f1287ce7251d1e29f1f8eb58dbcd7eebd671b1e46d4520d8",
         "e21b830bc395b5a355f68a698c55ad95474f929d8e2521f095f990b1ae0ef587",
         "230.8292",
         "2023",
         "05"
        ],
        [
         "18",
         "42d9b14c937541b8f1287ce7251d1e29f1f8eb58dbcd7eebd671b1e46d4520d8",
         "e21b830bc395b5a355f68a698c55ad95474f929d8e2521f095f990b1ae0ef587",
         "151.3398",
         "2024",
         "08"
        ],
        [
         "19",
         "42d9b14c937541b8f1287ce7251d1e29f1f8eb58dbcd7eebd671b1e46d4520d8",
         "e21b830bc395b5a355f68a698c55ad95474f929d8e2521f095f990b1ae0ef587",
         "100.3981",
         "2024",
         "11"
        ],
        [
         "20",
         "42d9b14c937541b8f1287ce7251d1e29f1f8eb58dbcd7eebd671b1e46d4520d8",
         "e21b830bc395b5a355f68a698c55ad95474f929d8e2521f095f990b1ae0ef587",
         "227.1702",
         "2023",
         "08"
        ],
        [
         "21",
         "42d9b14c937541b8f1287ce7251d1e29f1f8eb58dbcd7eebd671b1e46d4520d8",
         "e21b830bc395b5a355f68a698c55ad95474f929d8e2521f095f990b1ae0ef587",
         "113.5826",
         "2025",
         "01"
        ],
        [
         "22",
         "42d9b14c937541b8f1287ce7251d1e29f1f8eb58dbcd7eebd671b1e46d4520d8",
         "e21b830bc395b5a355f68a698c55ad95474f929d8e2521f095f990b1ae0ef587",
         "184.8751",
         "2023",
         "03"
        ],
        [
         "23",
         "42d9b14c937541b8f1287ce7251d1e29f1f8eb58dbcd7eebd671b1e46d4520d8",
         "e21b830bc395b5a355f68a698c55ad95474f929d8e2521f095f990b1ae0ef587",
         "107.8039",
         "2025",
         "04"
        ],
        [
         "24",
         "42d9b14c937541b8f1287ce7251d1e29f1f8eb58dbcd7eebd671b1e46d4520d8",
         "e21b830bc395b5a355f68a698c55ad95474f929d8e2521f095f990b1ae0ef587",
         "331.9567",
         "2023",
         "06"
        ],
        [
         "25",
         "42d9b14c937541b8f1287ce7251d1e29f1f8eb58dbcd7eebd671b1e46d4520d8",
         "e21b830bc395b5a355f68a698c55ad95474f929d8e2521f095f990b1ae0ef587",
         "187.2557",
         "2023",
         "04"
        ],
        [
         "26",
         "42d9b14c937541b8f1287ce7251d1e29f1f8eb58dbcd7eebd671b1e46d4520d8",
         "e21b830bc395b5a355f68a698c55ad95474f929d8e2521f095f990b1ae0ef587",
         "201.4184",
         "2024",
         "06"
        ],
        [
         "27",
         "42d9b14c937541b8f1287ce7251d1e29f1f8eb58dbcd7eebd671b1e46d4520d8",
         "e21b830bc395b5a355f68a698c55ad95474f929d8e2521f095f990b1ae0ef587",
         "257.9299",
         "2023",
         "09"
        ],
        [
         "28",
         "be56de8313db4d2d42f6a8c82c5f450531a7ebbdfc13d2d3aae4862bed916a55",
         "c5ec417475455ef42dd911fcb06bcb56bed9f9e9f2c96c15592878b9fa9d66e7",
         "579.1025",
         "2025",
         "03"
        ],
        [
         "29",
         "be56de8313db4d2d42f6a8c82c5f450531a7ebbdfc13d2d3aae4862bed916a55",
         "c5ec417475455ef42dd911fcb06bcb56bed9f9e9f2c96c15592878b9fa9d66e7",
         "774.1925",
         "2024",
         "12"
        ],
        [
         "30",
         "be56de8313db4d2d42f6a8c82c5f450531a7ebbdfc13d2d3aae4862bed916a55",
         "c5ec417475455ef42dd911fcb06bcb56bed9f9e9f2c96c15592878b9fa9d66e7",
         "595.4171",
         "2024",
         "07"
        ],
        [
         "31",
         "be56de8313db4d2d42f6a8c82c5f450531a7ebbdfc13d2d3aae4862bed916a55",
         "c5ec417475455ef42dd911fcb06bcb56bed9f9e9f2c96c15592878b9fa9d66e7",
         "430.1393",
         "2025",
         "02"
        ],
        [
         "32",
         "be56de8313db4d2d42f6a8c82c5f450531a7ebbdfc13d2d3aae4862bed916a55",
         "c5ec417475455ef42dd911fcb06bcb56bed9f9e9f2c96c15592878b9fa9d66e7",
         "502.4844",
         "2023",
         "10"
        ],
        [
         "33",
         "be56de8313db4d2d42f6a8c82c5f450531a7ebbdfc13d2d3aae4862bed916a55",
         "c5ec417475455ef42dd911fcb06bcb56bed9f9e9f2c96c15592878b9fa9d66e7",
         "647.0928",
         "2023",
         "11"
        ],
        [
         "34",
         "be56de8313db4d2d42f6a8c82c5f450531a7ebbdfc13d2d3aae4862bed916a55",
         "c5ec417475455ef42dd911fcb06bcb56bed9f9e9f2c96c15592878b9fa9d66e7",
         "565.3807",
         "2024",
         "01"
        ],
        [
         "35",
         "be56de8313db4d2d42f6a8c82c5f450531a7ebbdfc13d2d3aae4862bed916a55",
         "c5ec417475455ef42dd911fcb06bcb56bed9f9e9f2c96c15592878b9fa9d66e7",
         "511.1449",
         "2024",
         "02"
        ],
        [
         "36",
         "be56de8313db4d2d42f6a8c82c5f450531a7ebbdfc13d2d3aae4862bed916a55",
         "c5ec417475455ef42dd911fcb06bcb56bed9f9e9f2c96c15592878b9fa9d66e7",
         "645.6397",
         "2024",
         "04"
        ],
        [
         "37",
         "be56de8313db4d2d42f6a8c82c5f450531a7ebbdfc13d2d3aae4862bed916a55",
         "c5ec417475455ef42dd911fcb06bcb56bed9f9e9f2c96c15592878b9fa9d66e7",
         "455.7818",
         "2023",
         "02"
        ],
        [
         "38",
         "be56de8313db4d2d42f6a8c82c5f450531a7ebbdfc13d2d3aae4862bed916a55",
         "c5ec417475455ef42dd911fcb06bcb56bed9f9e9f2c96c15592878b9fa9d66e7",
         "641.8947",
         "2024",
         "10"
        ],
        [
         "39",
         "be56de8313db4d2d42f6a8c82c5f450531a7ebbdfc13d2d3aae4862bed916a55",
         "c5ec417475455ef42dd911fcb06bcb56bed9f9e9f2c96c15592878b9fa9d66e7",
         "632.7277",
         "2023",
         "01"
        ],
        [
         "40",
         "be56de8313db4d2d42f6a8c82c5f450531a7ebbdfc13d2d3aae4862bed916a55",
         "c5ec417475455ef42dd911fcb06bcb56bed9f9e9f2c96c15592878b9fa9d66e7",
         "845.764",
         "2024",
         "05"
        ],
        [
         "41",
         "be56de8313db4d2d42f6a8c82c5f450531a7ebbdfc13d2d3aae4862bed916a55",
         "c5ec417475455ef42dd911fcb06bcb56bed9f9e9f2c96c15592878b9fa9d66e7",
         "576.9527",
         "2023",
         "12"
        ],
        [
         "42",
         "be56de8313db4d2d42f6a8c82c5f450531a7ebbdfc13d2d3aae4862bed916a55",
         "c5ec417475455ef42dd911fcb06bcb56bed9f9e9f2c96c15592878b9fa9d66e7",
         "581.6169",
         "2024",
         "09"
        ],
        [
         "43",
         "be56de8313db4d2d42f6a8c82c5f450531a7ebbdfc13d2d3aae4862bed916a55",
         "c5ec417475455ef42dd911fcb06bcb56bed9f9e9f2c96c15592878b9fa9d66e7",
         "805.5513",
         "2024",
         "03"
        ],
        [
         "44",
         "be56de8313db4d2d42f6a8c82c5f450531a7ebbdfc13d2d3aae4862bed916a55",
         "c5ec417475455ef42dd911fcb06bcb56bed9f9e9f2c96c15592878b9fa9d66e7",
         "632.6148",
         "2023",
         "07"
        ],
        [
         "45",
         "be56de8313db4d2d42f6a8c82c5f450531a7ebbdfc13d2d3aae4862bed916a55",
         "c5ec417475455ef42dd911fcb06bcb56bed9f9e9f2c96c15592878b9fa9d66e7",
         "807.0344",
         "2023",
         "05"
        ],
        [
         "46",
         "be56de8313db4d2d42f6a8c82c5f450531a7ebbdfc13d2d3aae4862bed916a55",
         "c5ec417475455ef42dd911fcb06bcb56bed9f9e9f2c96c15592878b9fa9d66e7",
         "679.0405",
         "2024",
         "08"
        ],
        [
         "47",
         "be56de8313db4d2d42f6a8c82c5f450531a7ebbdfc13d2d3aae4862bed916a55",
         "c5ec417475455ef42dd911fcb06bcb56bed9f9e9f2c96c15592878b9fa9d66e7",
         "701.8256",
         "2024",
         "11"
        ],
        [
         "48",
         "be56de8313db4d2d42f6a8c82c5f450531a7ebbdfc13d2d3aae4862bed916a55",
         "c5ec417475455ef42dd911fcb06bcb56bed9f9e9f2c96c15592878b9fa9d66e7",
         "731.6853",
         "2023",
         "08"
        ],
        [
         "49",
         "be56de8313db4d2d42f6a8c82c5f450531a7ebbdfc13d2d3aae4862bed916a55",
         "c5ec417475455ef42dd911fcb06bcb56bed9f9e9f2c96c15592878b9fa9d66e7",
         "585.7197",
         "2025",
         "01"
        ]
       ],
       "shape": {
        "columns": 5,
        "rows": 204736
       }
      },
      "text/html": [
       "<div>\n",
       "<style scoped>\n",
       "    .dataframe tbody tr th:only-of-type {\n",
       "        vertical-align: middle;\n",
       "    }\n",
       "\n",
       "    .dataframe tbody tr th {\n",
       "        vertical-align: top;\n",
       "    }\n",
       "\n",
       "    .dataframe thead th {\n",
       "        text-align: right;\n",
       "    }\n",
       "</style>\n",
       "<table border=\"1\" class=\"dataframe\">\n",
       "  <thead>\n",
       "    <tr style=\"text-align: right;\">\n",
       "      <th></th>\n",
       "      <th>cooler_id</th>\n",
       "      <th>customer_id</th>\n",
       "      <th>amount</th>\n",
       "      <th>year</th>\n",
       "      <th>month</th>\n",
       "    </tr>\n",
       "  </thead>\n",
       "  <tbody>\n",
       "    <tr>\n",
       "      <th>0</th>\n",
       "      <td>42d9b14c937541b8f1287ce7251d1e29f1f8eb58dbcd7e...</td>\n",
       "      <td>e21b830bc395b5a355f68a698c55ad95474f929d8e2521...</td>\n",
       "      <td>76.8887</td>\n",
       "      <td>2025</td>\n",
       "      <td>03</td>\n",
       "    </tr>\n",
       "    <tr>\n",
       "      <th>1</th>\n",
       "      <td>42d9b14c937541b8f1287ce7251d1e29f1f8eb58dbcd7e...</td>\n",
       "      <td>e21b830bc395b5a355f68a698c55ad95474f929d8e2521...</td>\n",
       "      <td>131.0627</td>\n",
       "      <td>2024</td>\n",
       "      <td>12</td>\n",
       "    </tr>\n",
       "    <tr>\n",
       "      <th>2</th>\n",
       "      <td>42d9b14c937541b8f1287ce7251d1e29f1f8eb58dbcd7e...</td>\n",
       "      <td>e21b830bc395b5a355f68a698c55ad95474f929d8e2521...</td>\n",
       "      <td>180.8420</td>\n",
       "      <td>2024</td>\n",
       "      <td>07</td>\n",
       "    </tr>\n",
       "    <tr>\n",
       "      <th>3</th>\n",
       "      <td>42d9b14c937541b8f1287ce7251d1e29f1f8eb58dbcd7e...</td>\n",
       "      <td>e21b830bc395b5a355f68a698c55ad95474f929d8e2521...</td>\n",
       "      <td>82.3243</td>\n",
       "      <td>2025</td>\n",
       "      <td>02</td>\n",
       "    </tr>\n",
       "    <tr>\n",
       "      <th>4</th>\n",
       "      <td>42d9b14c937541b8f1287ce7251d1e29f1f8eb58dbcd7e...</td>\n",
       "      <td>e21b830bc395b5a355f68a698c55ad95474f929d8e2521...</td>\n",
       "      <td>201.7541</td>\n",
       "      <td>2023</td>\n",
       "      <td>10</td>\n",
       "    </tr>\n",
       "    <tr>\n",
       "      <th>...</th>\n",
       "      <td>...</td>\n",
       "      <td>...</td>\n",
       "      <td>...</td>\n",
       "      <td>...</td>\n",
       "      <td>...</td>\n",
       "    </tr>\n",
       "    <tr>\n",
       "      <th>204731</th>\n",
       "      <td>661cc6a46677515e7801eda42d84b6242778a9d77f6062...</td>\n",
       "      <td>021ce98d216fdee3533129eb75d956978858eade78d6a4...</td>\n",
       "      <td>1244.2283</td>\n",
       "      <td>2025</td>\n",
       "      <td>04</td>\n",
       "    </tr>\n",
       "    <tr>\n",
       "      <th>204732</th>\n",
       "      <td>661cc6a46677515e7801eda42d84b6242778a9d77f6062...</td>\n",
       "      <td>021ce98d216fdee3533129eb75d956978858eade78d6a4...</td>\n",
       "      <td>1829.9476</td>\n",
       "      <td>2023</td>\n",
       "      <td>06</td>\n",
       "    </tr>\n",
       "    <tr>\n",
       "      <th>204733</th>\n",
       "      <td>661cc6a46677515e7801eda42d84b6242778a9d77f6062...</td>\n",
       "      <td>021ce98d216fdee3533129eb75d956978858eade78d6a4...</td>\n",
       "      <td>396.8060</td>\n",
       "      <td>2023</td>\n",
       "      <td>04</td>\n",
       "    </tr>\n",
       "    <tr>\n",
       "      <th>204734</th>\n",
       "      <td>661cc6a46677515e7801eda42d84b6242778a9d77f6062...</td>\n",
       "      <td>021ce98d216fdee3533129eb75d956978858eade78d6a4...</td>\n",
       "      <td>1818.3142</td>\n",
       "      <td>2024</td>\n",
       "      <td>06</td>\n",
       "    </tr>\n",
       "    <tr>\n",
       "      <th>204735</th>\n",
       "      <td>661cc6a46677515e7801eda42d84b6242778a9d77f6062...</td>\n",
       "      <td>021ce98d216fdee3533129eb75d956978858eade78d6a4...</td>\n",
       "      <td>1444.7187</td>\n",
       "      <td>2023</td>\n",
       "      <td>09</td>\n",
       "    </tr>\n",
       "  </tbody>\n",
       "</table>\n",
       "<p>204736 rows × 5 columns</p>\n",
       "</div>"
      ],
      "text/plain": [
       "                                                cooler_id  \\\n",
       "0       42d9b14c937541b8f1287ce7251d1e29f1f8eb58dbcd7e...   \n",
       "1       42d9b14c937541b8f1287ce7251d1e29f1f8eb58dbcd7e...   \n",
       "2       42d9b14c937541b8f1287ce7251d1e29f1f8eb58dbcd7e...   \n",
       "3       42d9b14c937541b8f1287ce7251d1e29f1f8eb58dbcd7e...   \n",
       "4       42d9b14c937541b8f1287ce7251d1e29f1f8eb58dbcd7e...   \n",
       "...                                                   ...   \n",
       "204731  661cc6a46677515e7801eda42d84b6242778a9d77f6062...   \n",
       "204732  661cc6a46677515e7801eda42d84b6242778a9d77f6062...   \n",
       "204733  661cc6a46677515e7801eda42d84b6242778a9d77f6062...   \n",
       "204734  661cc6a46677515e7801eda42d84b6242778a9d77f6062...   \n",
       "204735  661cc6a46677515e7801eda42d84b6242778a9d77f6062...   \n",
       "\n",
       "                                              customer_id     amount  year  \\\n",
       "0       e21b830bc395b5a355f68a698c55ad95474f929d8e2521...    76.8887  2025   \n",
       "1       e21b830bc395b5a355f68a698c55ad95474f929d8e2521...   131.0627  2024   \n",
       "2       e21b830bc395b5a355f68a698c55ad95474f929d8e2521...   180.8420  2024   \n",
       "3       e21b830bc395b5a355f68a698c55ad95474f929d8e2521...    82.3243  2025   \n",
       "4       e21b830bc395b5a355f68a698c55ad95474f929d8e2521...   201.7541  2023   \n",
       "...                                                   ...        ...   ...   \n",
       "204731  021ce98d216fdee3533129eb75d956978858eade78d6a4...  1244.2283  2025   \n",
       "204732  021ce98d216fdee3533129eb75d956978858eade78d6a4...  1829.9476  2023   \n",
       "204733  021ce98d216fdee3533129eb75d956978858eade78d6a4...   396.8060  2023   \n",
       "204734  021ce98d216fdee3533129eb75d956978858eade78d6a4...  1818.3142  2024   \n",
       "204735  021ce98d216fdee3533129eb75d956978858eade78d6a4...  1444.7187  2023   \n",
       "\n",
       "       month  \n",
       "0         03  \n",
       "1         12  \n",
       "2         07  \n",
       "3         02  \n",
       "4         10  \n",
       "...      ...  \n",
       "204731    04  \n",
       "204732    06  \n",
       "204733    04  \n",
       "204734    06  \n",
       "204735    09  \n",
       "\n",
       "[204736 rows x 5 columns]"
      ]
     },
     "execution_count": 31,
     "metadata": {},
     "output_type": "execute_result"
    }
   ],
   "source": [
    "df_sales_month = pd.read_csv('sales.csv')\n",
    "df_sales_month['calmonth'] = df_sales_month['calmonth'].astype(str)\n",
    "df_sales_month['year'] = df_sales_month['calmonth'].str[:4]\n",
    "df_sales_month['month'] = df_sales_month['calmonth'].str[4:6]\n",
    "df_sales_month = df_sales_month.drop(columns=['calmonth'])\n",
    "df_sales_month"
   ]
  },
  {
   "cell_type": "code",
   "execution_count": 32,
   "id": "d16db73e",
   "metadata": {},
   "outputs": [],
   "source": [
    "# \n",
    "df_merged_calday = pd.merge(df_merged, df_clean_calday, left_on='calday', right_on='calday', how='left')"
   ]
  },
  {
   "cell_type": "code",
   "execution_count": 35,
   "id": "0f50ab98",
   "metadata": {},
   "outputs": [],
   "source": [
    "# Asegúrate de que los tipos coincidan\n",
    "df_merged_calday['year'] = df_merged_calday['year'].astype(int)\n",
    "df_sales_month['year'] = df_sales_month['year'].astype(int)\n",
    "\n",
    "df_merged_calday['month'] = df_merged_calday['month'].astype(int)\n",
    "df_sales_month['month'] = df_sales_month['month'].astype(int)"
   ]
  },
  {
   "cell_type": "code",
   "execution_count": 36,
   "id": "4328076a",
   "metadata": {},
   "outputs": [],
   "source": [
    "df_merge_all = pd.merge(df_merged_calday, df_sales_month, on=['cooler_id', 'year', 'month'], how='left')"
   ]
  },
  {
   "cell_type": "code",
   "execution_count": 37,
   "id": "5976ccfa",
   "metadata": {},
   "outputs": [],
   "source": [
    "df_merge_all = df_merge_all.drop(columns=['calday','calmonth','calday_format'])"
   ]
  },
  {
   "cell_type": "code",
   "execution_count": 38,
   "id": "c7f5d284",
   "metadata": {},
   "outputs": [],
   "source": [
    "col = 'Warning'\n",
    "# Sacamos esa columna, la eliminamos y luego la agregamos al final\n",
    "df_merge_all[col] = df_merge_all.pop(col)"
   ]
  },
  {
   "cell_type": "code",
   "execution_count": 28,
   "id": "3e47732f",
   "metadata": {},
   "outputs": [
    {
     "name": "stdout",
     "output_type": "stream",
     "text": [
      "Número de coolers con al menos un warning: 53\n"
     ]
    }
   ],
   "source": [
    "# Cuantos coolers tuvieron warnnings??\n",
    "# Contar cuántos coolers únicos tuvieron al menos un warning\n",
    "coolers_con_warning = df_merged[df_merged['Warning'].notna()]['cooler_id'].unique()\n",
    "print(f'Número de coolers con al menos un warning: {len(coolers_con_warning)}')"
   ]
  },
  {
   "cell_type": "code",
   "execution_count": 39,
   "id": "fb4a298d",
   "metadata": {},
   "outputs": [
    {
     "data": {
      "text/plain": [
       "Index(['cooler_id', 'door_opens', 'open_time', 'compressor', 'power',\n",
       "       'on_time', 'min_voltage', 'max_voltage', 'temperature', 'day', 'year',\n",
       "       'month', 'customer_id', 'amount', 'Warning'],\n",
       "      dtype='object')"
      ]
     },
     "execution_count": 39,
     "metadata": {},
     "output_type": "execute_result"
    }
   ],
   "source": [
    "df_merge_all.columns"
   ]
  },
  {
   "cell_type": "code",
   "execution_count": 40,
   "id": "c84dbf41",
   "metadata": {},
   "outputs": [],
   "source": [
    "dfwarnings = df_merge_all[df_merge_all['Warning'].notna()]"
   ]
  },
  {
   "cell_type": "code",
   "execution_count": 44,
   "id": "2a4da616",
   "metadata": {},
   "outputs": [],
   "source": [
    "import numpy as np\n",
    "import matplotlib.pyplot as plt\n",
    "import seaborn as sns"
   ]
  },
  {
   "cell_type": "code",
   "execution_count": 47,
   "id": "e82796be",
   "metadata": {},
   "outputs": [
    {
     "data": {
      "image/png": "[encoded data removed]",
      "text/plain": [
       "<Figure size 2000x1600 with 2 Axes>"
      ]
     },
     "metadata": {},
     "output_type": "display_data"
    }
   ],
   "source": [
    "# 1. Matriz de Correlación Global con todas las características\n",
    "def matriz_correlacion_completa():\n",
    "    \"\"\"\n",
    "    Crea una matriz de correlación usando todas las variables numéricas del dataset\n",
    "    \"\"\"\n",
    "    # Seleccionamos solo las columnas numéricas\n",
    "    numeric_cols = df_merge_all.select_dtypes(include=[np.number]).columns\n",
    "    correlation_matrix = df_merge_all[numeric_cols].corr()\n",
    "    \n",
    "    # Creamos una figura más grande para acomodar todas las variables\n",
    "    plt.figure(figsize=(20, 16))\n",
    "    sns.heatmap(correlation_matrix, \n",
    "                annot=True,\n",
    "                cmap='coolwarm',\n",
    "                center=0,\n",
    "                fmt='.2f',\n",
    "                square=True,\n",
    "                xticklabels=True,\n",
    "                yticklabels=True)\n",
    "    \n",
    "    plt.title('Matriz de Correlación Global - Todas las Variables')\n",
    "    plt.xticks(rotation=90)\n",
    "    plt.yticks(rotation=0)\n",
    "    plt.tight_layout()\n",
    "    plt.show()\n",
    "\n",
    "# Llamas la función\n",
    "matriz_correlacion_completa()"
   ]
  }
 ],
 "metadata": {
  "kernelspec": {
   "display_name": "Python 3",
   "language": "python",
   "name": "python3"
  },
  "language_info": {
   "codemirror_mode": {
    "name": "ipython",
    "version": 3
   },
   "file_extension": ".py",
   "mimetype": "text/x-python",
   "name": "python",
   "nbconvert_exporter": "python",
   "pygments_lexer": "ipython3",
   "version": "3.13.0"
  }
 },
 "nbformat": 4,
 "nbformat_minor": 5
}
