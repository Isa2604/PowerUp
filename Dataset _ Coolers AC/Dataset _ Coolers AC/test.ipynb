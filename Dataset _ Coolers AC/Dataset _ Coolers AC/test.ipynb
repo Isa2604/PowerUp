{
 "cells": [
  {
   "cell_type": "code",
   "execution_count": 12,
   "id": "9f0f10b3",
   "metadata": {},
   "outputs": [
    {
     "name": "stdout",
     "output_type": "stream",
     "text": [
      "Customer IDs con warnings:\n",
      "['2eb17115822ce263c426b727e161f3cb65f95bdc6db67b7e4cb9b8a0457f1c75'\n",
      " '414e03a4eca49c2a390554ff46955b8b1f46714988e6ec743361fa9ea6b984ff'\n",
      " '6fb53798509f90f5719f7ad0fdd4ac054d8bd4c3df7c6eab117ff1ca66807cc1'\n",
      " 'c6bb1846eb7e34fb6a2308573e692a556623563ba0ba1f3a0d9e1a42e4c406c6'\n",
      " '2e1fe41b2ab42a5c344fe29d3f899c717b19ea6e376a2dd8fdbfaab4b8925a01'\n",
      " 'a55a6c662c8a98be8f3661b1105b6cee22319ebb0a1fced1c8a359519cd12ece'\n",
      " '42789639636b7fb49e461c2eb1bbba46e38b84fb8699d72c1c32247c8131d397'\n",
      " '39d4ae2c182c20d2f69dd9fa86874e4aa73893e432be7ffddcf4cc7c5e027a09'\n",
      " '7f3092fede8553071d9a6bc85c851978266aabe0e5ec9ad4fe0841b271bb2d6e'\n",
      " 'd5de30f221c7fac0d14ba9e7c4dfa0da43f3b16fe43be78cc604a63833ff5387'\n",
      " 'b086b58d1380ad9cfbb36aceda557cef68e755d30fe0934ca7b9fef8721f937c'\n",
      " 'fc0a9bf1a4e7448d3a9a558a0b60372d699f8c81fbfce55e0108cec16efecc0f'\n",
      " 'ffa56bacc6a1f67d4dd2fce4425e37b17ea8d0b408602055ece0b8bcfd8330c5'\n",
      " 'cf9d398dbfa4936c6f9f17e71b23e72e21878d4678ae322033633800901c46fd'\n",
      " '715ba076d9300bc46a51242c3ef6af977df049e9aa504c84946781bde8f619b8'\n",
      " '12ee160dc78c1d7d9732ed25a323d2c08d70bb2a2eb7226d5c00f0951f4003e2'\n",
      " 'e0270361c42e63bd9c6f5d7e1f5a80be5aad0d83fe40bc416e62bc0a379b7121'\n",
      " '8667645a8f5e11db3385bde208ceb42bf577a787e4f474cfc29f6933b764c1cf'\n",
      " '055fc0002191e3d65cf95daa326ed3491089ebffd8fcaecab67b628aef4f2fbe'\n",
      " '4050b49aad3f77677a656dcf971dc4940ed1d785f0e15ebd69cc3558906bf33e'\n",
      " '17338fb3fad1b5edc122183f36103a0b06c9451a104369895f31a82b97ba0000'\n",
      " 'b341945973d81fbf3fc12d0d2a1801fd71ff2b2bf89f6aa1162bb4711abbc3ee'\n",
      " '06f8e191bd090092730cec446a11e91c1dc22d1e8a916cb98fada77ab3f99181'\n",
      " '0dea4c24cf8ea326eb8ffae75aded9eade3b44690352375766c05e0db85054a6'\n",
      " '45edf51c85244a0df950e3ea817934c9df84770a7b51fe136a3d9928eb559199'\n",
      " '07c2cfbdd420cb5e9fc7eecaac5dc70a74887f2d980f83d789b96dfd197a5655'\n",
      " '930ea107797bb1377acef7fbeef1fd7160b2d016792f34a76a48db7b7745a288'\n",
      " 'a99049db5945256382d1ec5e9d85935483453aa4f9531bde438d9b111d6868a1'\n",
      " '3544a9c44aff0b0f4350dafe509cc3dc5866cc5b4a00ad5f943d6308ac860e1b'\n",
      " '14f33a4ef530da4fc534c603ef8d9aadb001c45c049372655ae361e156eb8ad0'\n",
      " 'b9a30d64d6b7d901fae363c19b1b23cabada0973532aca1af358c2efc4d62156'\n",
      " '77eeef8c6c0cf443f317fd6235cdb0de6bfa90bffe82cffad933683e650c4a04'\n",
      " 'f36840111d7b91b4a0b328eeb8f0a41bb98421186fb890b721c6f8bce55d5f02'\n",
      " '16f2d3617848dd7e1d99f7b822a679685e9614ad09065c5aea5ecfae8bb6522a'\n",
      " '5884765107298db31b4d12eb5b3d03a6458aabbf9bb48ba5303cf2ba63f3ca8b'\n",
      " '4aa202f9270a58d0bb1eef45e614d1e8261b7d33ddd43555d598547f440b66ad'\n",
      " '5bc4f8ece6da0013cb645e6bf23b2792346a98b23b2081346400a7ee9380b1d8'\n",
      " 'd8ea7e2242ddcce3c1d47109d4bdb115ac029f4b27ce53b5cc1ccb2355fecc03'\n",
      " 'a9ef1ad74de72e39373f74c759edb4b5c2e4a6e0973cabe277125ee5898bf26c'\n",
      " '1ef8e186f062eb47eda45aeb3040c63b6839df21b66ebe891b0e287dae60e17b'\n",
      " '5098f99852424d460d4c4560fe4bd267aca9c799a40c98018c9118a0f70c708e'\n",
      " '757e5082366c1b279424535e2aae69cd1e6ff5143c8d892cc0b844fd6559e035'\n",
      " '9b38776e3705440c1b590da04c165851a6a584d00eab0a6c57efd7c6169bacc1'\n",
      " '06a63e60352000c7f0ec3845da3dc758b40ad1dd853d98d09ff0b7391e2f586a'\n",
      " '68ee969dda88304f35a216b490fa7e1694267c7b660b325cdf99ad014da10489'\n",
      " '634d165b3f7b3414a3e0e9b26333bda6065afada72ebbcf9d3bf1a377275bb02'\n",
      " '78b634d1a0834da534c80baa9475c01326f9a97ca2e740f1c3aea6aca9165007'\n",
      " '69d7dfc1a92fba5676cf72010d37f8dee0ba981843374ecc19d5028353dac4e6'\n",
      " '2d651fb717c2d5e95426867b7e8840c02182c65817c581ac0e108a6b966c1d1c'\n",
      " '2a72c2e329e7c8651cd04a6571f81c6c5d778603ef2b4ad3b9860fdb4da6f25c'\n",
      " '710c393ab7b9bfd577b3f984eadae2ae5dec3cfb55787e9611f76731a8d39fdb'\n",
      " '93c6d6b4a00e3d375e50793a01a6357023a8855a8927d45a3e90e377a82289dc'\n",
      " 'c4fb806e9a9cf073b1dade353fd43003f1ae095a587da255722ac6f059e21272']\n"
     ]
    }
   ],
   "source": [
    "#Customers with Warnings\n",
    "\n",
    "import pandas as pd\n",
    "\n",
    "# Cargar los archivos CSV\n",
    "sales = pd.read_csv('sales.csv')\n",
    "warnings = pd.read_csv('warnings.csv')\n",
    "\n",
    "# Obtener los cooler_id únicos que tienen warnings\n",
    "coolers_with_warnings = warnings['cooler_id'].unique()\n",
    "\n",
    "# Filtrar sales para incluir solo filas donde cooler_id está en coolers_with_warnings\n",
    "# (Asumiendo que sales tiene una columna llamada 'cooler_id')\n",
    "sales_with_warnings = sales[sales['cooler_id'].isin(coolers_with_warnings)]\n",
    "\n",
    "# Obtener los customer_id únicos que tienen al menos un cooler con warning\n",
    "customers_with_warnings = sales_with_warnings['customer_id'].unique()\n",
    "\n",
    "print(\"Customer IDs con warnings:\")\n",
    "print(customers_with_warnings)\n",
    "\n",
    "\n",
    "#sns.heatmap --> "
   ]
  },
  {
   "cell_type": "code",
   "execution_count": null,
   "id": "aa04b125",
   "metadata": {},
   "outputs": [],
   "source": []
  }
 ],
 "metadata": {
  "kernelspec": {
   "display_name": "Python 3",
   "language": "python",
   "name": "python3"
  },
  "language_info": {
   "codemirror_mode": {
    "name": "ipython",
    "version": 3
   },
   "file_extension": ".py",
   "mimetype": "text/x-python",
   "name": "python",
   "nbconvert_exporter": "python",
   "pygments_lexer": "ipython3",
   "version": "3.12.3"
  }
 },
 "nbformat": 4,
 "nbformat_minor": 5
}
