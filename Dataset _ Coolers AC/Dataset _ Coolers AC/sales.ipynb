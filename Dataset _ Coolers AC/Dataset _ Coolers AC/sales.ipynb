{
 "cells": [
  {
   "cell_type": "code",
   "execution_count": 41,
   "id": "8ef52408",
   "metadata": {},
   "outputs": [],
   "source": [
    "import pandas as pd\n",
    "import matplotlib.pyplot as plt\n",
    "import calendar"
   ]
  },
  {
   "cell_type": "code",
   "execution_count": null,
   "id": "6405605e",
   "metadata": {},
   "outputs": [
    {
     "data": {
      "application/vnd.microsoft.datawrangler.viewer.v0+json": {
       "columns": [
        {
         "name": "index",
         "rawType": "int64",
         "type": "integer"
        },
        {
         "name": "cooler_id",
         "rawType": "object",
         "type": "string"
        },
        {
         "name": "customer_id",
         "rawType": "object",
         "type": "string"
        },
        {
         "name": "calmonth",
         "rawType": "datetime64[ns]",
         "type": "datetime"
        },
        {
         "name": "amount",
         "rawType": "float64",
         "type": "float"
        },
        {
         "name": "year",
         "rawType": "int32",
         "type": "integer"
        },
        {
         "name": "month",
         "rawType": "int32",
         "type": "integer"
        }
       ],
       "ref": "ee8de49e-afcf-421b-96f4-88eca2514727",
       "rows": [
        [
         "0",
         "42d9b14c937541b8f1287ce7251d1e29f1f8eb58dbcd7eebd671b1e46d4520d8",
         "e21b830bc395b5a355f68a698c55ad95474f929d8e2521f095f990b1ae0ef587",
         "2025-03-01 00:00:00",
         "76.8887",
         "2025",
         "3"
        ],
        [
         "1",
         "42d9b14c937541b8f1287ce7251d1e29f1f8eb58dbcd7eebd671b1e46d4520d8",
         "e21b830bc395b5a355f68a698c55ad95474f929d8e2521f095f990b1ae0ef587",
         "2024-12-01 00:00:00",
         "131.0627",
         "2024",
         "12"
        ],
        [
         "2",
         "42d9b14c937541b8f1287ce7251d1e29f1f8eb58dbcd7eebd671b1e46d4520d8",
         "e21b830bc395b5a355f68a698c55ad95474f929d8e2521f095f990b1ae0ef587",
         "2024-07-01 00:00:00",
         "180.842",
         "2024",
         "7"
        ],
        [
         "3",
         "42d9b14c937541b8f1287ce7251d1e29f1f8eb58dbcd7eebd671b1e46d4520d8",
         "e21b830bc395b5a355f68a698c55ad95474f929d8e2521f095f990b1ae0ef587",
         "2025-02-01 00:00:00",
         "82.3243",
         "2025",
         "2"
        ],
        [
         "4",
         "42d9b14c937541b8f1287ce7251d1e29f1f8eb58dbcd7eebd671b1e46d4520d8",
         "e21b830bc395b5a355f68a698c55ad95474f929d8e2521f095f990b1ae0ef587",
         "2023-10-01 00:00:00",
         "201.7541",
         "2023",
         "10"
        ],
        [
         "5",
         "42d9b14c937541b8f1287ce7251d1e29f1f8eb58dbcd7eebd671b1e46d4520d8",
         "e21b830bc395b5a355f68a698c55ad95474f929d8e2521f095f990b1ae0ef587",
         "2023-11-01 00:00:00",
         "146.2146",
         "2023",
         "11"
        ],
        [
         "6",
         "42d9b14c937541b8f1287ce7251d1e29f1f8eb58dbcd7eebd671b1e46d4520d8",
         "e21b830bc395b5a355f68a698c55ad95474f929d8e2521f095f990b1ae0ef587",
         "2024-01-01 00:00:00",
         "102.3054",
         "2024",
         "1"
        ],
        [
         "7",
         "42d9b14c937541b8f1287ce7251d1e29f1f8eb58dbcd7eebd671b1e46d4520d8",
         "e21b830bc395b5a355f68a698c55ad95474f929d8e2521f095f990b1ae0ef587",
         "2024-02-01 00:00:00",
         "124.0854",
         "2024",
         "2"
        ],
        [
         "8",
         "42d9b14c937541b8f1287ce7251d1e29f1f8eb58dbcd7eebd671b1e46d4520d8",
         "e21b830bc395b5a355f68a698c55ad95474f929d8e2521f095f990b1ae0ef587",
         "2024-04-01 00:00:00",
         "187.2527",
         "2024",
         "4"
        ],
        [
         "9",
         "42d9b14c937541b8f1287ce7251d1e29f1f8eb58dbcd7eebd671b1e46d4520d8",
         "e21b830bc395b5a355f68a698c55ad95474f929d8e2521f095f990b1ae0ef587",
         "2023-02-01 00:00:00",
         "154.5896",
         "2023",
         "2"
        ],
        [
         "10",
         "42d9b14c937541b8f1287ce7251d1e29f1f8eb58dbcd7eebd671b1e46d4520d8",
         "e21b830bc395b5a355f68a698c55ad95474f929d8e2521f095f990b1ae0ef587",
         "2024-10-01 00:00:00",
         "151.8001",
         "2024",
         "10"
        ],
        [
         "11",
         "42d9b14c937541b8f1287ce7251d1e29f1f8eb58dbcd7eebd671b1e46d4520d8",
         "e21b830bc395b5a355f68a698c55ad95474f929d8e2521f095f990b1ae0ef587",
         "2023-01-01 00:00:00",
         "142.9395",
         "2023",
         "1"
        ],
        [
         "12",
         "42d9b14c937541b8f1287ce7251d1e29f1f8eb58dbcd7eebd671b1e46d4520d8",
         "e21b830bc395b5a355f68a698c55ad95474f929d8e2521f095f990b1ae0ef587",
         "2024-05-01 00:00:00",
         "193.3569",
         "2024",
         "5"
        ],
        [
         "13",
         "42d9b14c937541b8f1287ce7251d1e29f1f8eb58dbcd7eebd671b1e46d4520d8",
         "e21b830bc395b5a355f68a698c55ad95474f929d8e2521f095f990b1ae0ef587",
         "2023-12-01 00:00:00",
         "132.4667",
         "2023",
         "12"
        ],
        [
         "14",
         "42d9b14c937541b8f1287ce7251d1e29f1f8eb58dbcd7eebd671b1e46d4520d8",
         "e21b830bc395b5a355f68a698c55ad95474f929d8e2521f095f990b1ae0ef587",
         "2024-09-01 00:00:00",
         "157.7986",
         "2024",
         "9"
        ],
        [
         "15",
         "42d9b14c937541b8f1287ce7251d1e29f1f8eb58dbcd7eebd671b1e46d4520d8",
         "e21b830bc395b5a355f68a698c55ad95474f929d8e2521f095f990b1ae0ef587",
         "2024-03-01 00:00:00",
         "146.0142",
         "2024",
         "3"
        ],
        [
         "16",
         "42d9b14c937541b8f1287ce7251d1e29f1f8eb58dbcd7eebd671b1e46d4520d8",
         "e21b830bc395b5a355f68a698c55ad95474f929d8e2521f095f990b1ae0ef587",
         "2023-07-01 00:00:00",
         "246.6293",
         "2023",
         "7"
        ],
        [
         "17",
         "42d9b14c937541b8f1287ce7251d1e29f1f8eb58dbcd7eebd671b1e46d4520d8",
         "e21b830bc395b5a355f68a698c55ad95474f929d8e2521f095f990b1ae0ef587",
         "2023-05-01 00:00:00",
         "230.8292",
         "2023",
         "5"
        ],
        [
         "18",
         "42d9b14c937541b8f1287ce7251d1e29f1f8eb58dbcd7eebd671b1e46d4520d8",
         "e21b830bc395b5a355f68a698c55ad95474f929d8e2521f095f990b1ae0ef587",
         "2024-08-01 00:00:00",
         "151.3398",
         "2024",
         "8"
        ],
        [
         "19",
         "42d9b14c937541b8f1287ce7251d1e29f1f8eb58dbcd7eebd671b1e46d4520d8",
         "e21b830bc395b5a355f68a698c55ad95474f929d8e2521f095f990b1ae0ef587",
         "2024-11-01 00:00:00",
         "100.3981",
         "2024",
         "11"
        ],
        [
         "20",
         "42d9b14c937541b8f1287ce7251d1e29f1f8eb58dbcd7eebd671b1e46d4520d8",
         "e21b830bc395b5a355f68a698c55ad95474f929d8e2521f095f990b1ae0ef587",
         "2023-08-01 00:00:00",
         "227.1702",
         "2023",
         "8"
        ],
        [
         "21",
         "42d9b14c937541b8f1287ce7251d1e29f1f8eb58dbcd7eebd671b1e46d4520d8",
         "e21b830bc395b5a355f68a698c55ad95474f929d8e2521f095f990b1ae0ef587",
         "2025-01-01 00:00:00",
         "113.5826",
         "2025",
         "1"
        ],
        [
         "22",
         "42d9b14c937541b8f1287ce7251d1e29f1f8eb58dbcd7eebd671b1e46d4520d8",
         "e21b830bc395b5a355f68a698c55ad95474f929d8e2521f095f990b1ae0ef587",
         "2023-03-01 00:00:00",
         "184.8751",
         "2023",
         "3"
        ],
        [
         "23",
         "42d9b14c937541b8f1287ce7251d1e29f1f8eb58dbcd7eebd671b1e46d4520d8",
         "e21b830bc395b5a355f68a698c55ad95474f929d8e2521f095f990b1ae0ef587",
         "2025-04-01 00:00:00",
         "107.8039",
         "2025",
         "4"
        ],
        [
         "24",
         "42d9b14c937541b8f1287ce7251d1e29f1f8eb58dbcd7eebd671b1e46d4520d8",
         "e21b830bc395b5a355f68a698c55ad95474f929d8e2521f095f990b1ae0ef587",
         "2023-06-01 00:00:00",
         "331.9567",
         "2023",
         "6"
        ],
        [
         "25",
         "42d9b14c937541b8f1287ce7251d1e29f1f8eb58dbcd7eebd671b1e46d4520d8",
         "e21b830bc395b5a355f68a698c55ad95474f929d8e2521f095f990b1ae0ef587",
         "2023-04-01 00:00:00",
         "187.2557",
         "2023",
         "4"
        ],
        [
         "26",
         "42d9b14c937541b8f1287ce7251d1e29f1f8eb58dbcd7eebd671b1e46d4520d8",
         "e21b830bc395b5a355f68a698c55ad95474f929d8e2521f095f990b1ae0ef587",
         "2024-06-01 00:00:00",
         "201.4184",
         "2024",
         "6"
        ],
        [
         "27",
         "42d9b14c937541b8f1287ce7251d1e29f1f8eb58dbcd7eebd671b1e46d4520d8",
         "e21b830bc395b5a355f68a698c55ad95474f929d8e2521f095f990b1ae0ef587",
         "2023-09-01 00:00:00",
         "257.9299",
         "2023",
         "9"
        ],
        [
         "28",
         "be56de8313db4d2d42f6a8c82c5f450531a7ebbdfc13d2d3aae4862bed916a55",
         "c5ec417475455ef42dd911fcb06bcb56bed9f9e9f2c96c15592878b9fa9d66e7",
         "2025-03-01 00:00:00",
         "579.1025",
         "2025",
         "3"
        ],
        [
         "29",
         "be56de8313db4d2d42f6a8c82c5f450531a7ebbdfc13d2d3aae4862bed916a55",
         "c5ec417475455ef42dd911fcb06bcb56bed9f9e9f2c96c15592878b9fa9d66e7",
         "2024-12-01 00:00:00",
         "774.1925",
         "2024",
         "12"
        ],
        [
         "30",
         "be56de8313db4d2d42f6a8c82c5f450531a7ebbdfc13d2d3aae4862bed916a55",
         "c5ec417475455ef42dd911fcb06bcb56bed9f9e9f2c96c15592878b9fa9d66e7",
         "2024-07-01 00:00:00",
         "595.4171",
         "2024",
         "7"
        ],
        [
         "31",
         "be56de8313db4d2d42f6a8c82c5f450531a7ebbdfc13d2d3aae4862bed916a55",
         "c5ec417475455ef42dd911fcb06bcb56bed9f9e9f2c96c15592878b9fa9d66e7",
         "2025-02-01 00:00:00",
         "430.1393",
         "2025",
         "2"
        ],
        [
         "32",
         "be56de8313db4d2d42f6a8c82c5f450531a7ebbdfc13d2d3aae4862bed916a55",
         "c5ec417475455ef42dd911fcb06bcb56bed9f9e9f2c96c15592878b9fa9d66e7",
         "2023-10-01 00:00:00",
         "502.4844",
         "2023",
         "10"
        ],
        [
         "33",
         "be56de8313db4d2d42f6a8c82c5f450531a7ebbdfc13d2d3aae4862bed916a55",
         "c5ec417475455ef42dd911fcb06bcb56bed9f9e9f2c96c15592878b9fa9d66e7",
         "2023-11-01 00:00:00",
         "647.0928",
         "2023",
         "11"
        ],
        [
         "34",
         "be56de8313db4d2d42f6a8c82c5f450531a7ebbdfc13d2d3aae4862bed916a55",
         "c5ec417475455ef42dd911fcb06bcb56bed9f9e9f2c96c15592878b9fa9d66e7",
         "2024-01-01 00:00:00",
         "565.3807",
         "2024",
         "1"
        ],
        [
         "35",
         "be56de8313db4d2d42f6a8c82c5f450531a7ebbdfc13d2d3aae4862bed916a55",
         "c5ec417475455ef42dd911fcb06bcb56bed9f9e9f2c96c15592878b9fa9d66e7",
         "2024-02-01 00:00:00",
         "511.1449",
         "2024",
         "2"
        ],
        [
         "36",
         "be56de8313db4d2d42f6a8c82c5f450531a7ebbdfc13d2d3aae4862bed916a55",
         "c5ec417475455ef42dd911fcb06bcb56bed9f9e9f2c96c15592878b9fa9d66e7",
         "2024-04-01 00:00:00",
         "645.6397",
         "2024",
         "4"
        ],
        [
         "37",
         "be56de8313db4d2d42f6a8c82c5f450531a7ebbdfc13d2d3aae4862bed916a55",
         "c5ec417475455ef42dd911fcb06bcb56bed9f9e9f2c96c15592878b9fa9d66e7",
         "2023-02-01 00:00:00",
         "455.7818",
         "2023",
         "2"
        ],
        [
         "38",
         "be56de8313db4d2d42f6a8c82c5f450531a7ebbdfc13d2d3aae4862bed916a55",
         "c5ec417475455ef42dd911fcb06bcb56bed9f9e9f2c96c15592878b9fa9d66e7",
         "2024-10-01 00:00:00",
         "641.8947",
         "2024",
         "10"
        ],
        [
         "39",
         "be56de8313db4d2d42f6a8c82c5f450531a7ebbdfc13d2d3aae4862bed916a55",
         "c5ec417475455ef42dd911fcb06bcb56bed9f9e9f2c96c15592878b9fa9d66e7",
         "2023-01-01 00:00:00",
         "632.7277",
         "2023",
         "1"
        ],
        [
         "40",
         "be56de8313db4d2d42f6a8c82c5f450531a7ebbdfc13d2d3aae4862bed916a55",
         "c5ec417475455ef42dd911fcb06bcb56bed9f9e9f2c96c15592878b9fa9d66e7",
         "2024-05-01 00:00:00",
         "845.764",
         "2024",
         "5"
        ],
        [
         "41",
         "be56de8313db4d2d42f6a8c82c5f450531a7ebbdfc13d2d3aae4862bed916a55",
         "c5ec417475455ef42dd911fcb06bcb56bed9f9e9f2c96c15592878b9fa9d66e7",
         "2023-12-01 00:00:00",
         "576.9527",
         "2023",
         "12"
        ],
        [
         "42",
         "be56de8313db4d2d42f6a8c82c5f450531a7ebbdfc13d2d3aae4862bed916a55",
         "c5ec417475455ef42dd911fcb06bcb56bed9f9e9f2c96c15592878b9fa9d66e7",
         "2024-09-01 00:00:00",
         "581.6169",
         "2024",
         "9"
        ],
        [
         "43",
         "be56de8313db4d2d42f6a8c82c5f450531a7ebbdfc13d2d3aae4862bed916a55",
         "c5ec417475455ef42dd911fcb06bcb56bed9f9e9f2c96c15592878b9fa9d66e7",
         "2024-03-01 00:00:00",
         "805.5513",
         "2024",
         "3"
        ],
        [
         "44",
         "be56de8313db4d2d42f6a8c82c5f450531a7ebbdfc13d2d3aae4862bed916a55",
         "c5ec417475455ef42dd911fcb06bcb56bed9f9e9f2c96c15592878b9fa9d66e7",
         "2023-07-01 00:00:00",
         "632.6148",
         "2023",
         "7"
        ],
        [
         "45",
         "be56de8313db4d2d42f6a8c82c5f450531a7ebbdfc13d2d3aae4862bed916a55",
         "c5ec417475455ef42dd911fcb06bcb56bed9f9e9f2c96c15592878b9fa9d66e7",
         "2023-05-01 00:00:00",
         "807.0344",
         "2023",
         "5"
        ],
        [
         "46",
         "be56de8313db4d2d42f6a8c82c5f450531a7ebbdfc13d2d3aae4862bed916a55",
         "c5ec417475455ef42dd911fcb06bcb56bed9f9e9f2c96c15592878b9fa9d66e7",
         "2024-08-01 00:00:00",
         "679.0405",
         "2024",
         "8"
        ],
        [
         "47",
         "be56de8313db4d2d42f6a8c82c5f450531a7ebbdfc13d2d3aae4862bed916a55",
         "c5ec417475455ef42dd911fcb06bcb56bed9f9e9f2c96c15592878b9fa9d66e7",
         "2024-11-01 00:00:00",
         "701.8256",
         "2024",
         "11"
        ],
        [
         "48",
         "be56de8313db4d2d42f6a8c82c5f450531a7ebbdfc13d2d3aae4862bed916a55",
         "c5ec417475455ef42dd911fcb06bcb56bed9f9e9f2c96c15592878b9fa9d66e7",
         "2023-08-01 00:00:00",
         "731.6853",
         "2023",
         "8"
        ],
        [
         "49",
         "be56de8313db4d2d42f6a8c82c5f450531a7ebbdfc13d2d3aae4862bed916a55",
         "c5ec417475455ef42dd911fcb06bcb56bed9f9e9f2c96c15592878b9fa9d66e7",
         "2025-01-01 00:00:00",
         "585.7197",
         "2025",
         "1"
        ]
       ],
       "shape": {
        "columns": 6,
        "rows": 204736
       }
      },
      "text/html": [
       "<div>\n",
       "<style scoped>\n",
       "    .dataframe tbody tr th:only-of-type {\n",
       "        vertical-align: middle;\n",
       "    }\n",
       "\n",
       "    .dataframe tbody tr th {\n",
       "        vertical-align: top;\n",
       "    }\n",
       "\n",
       "    .dataframe thead th {\n",
       "        text-align: right;\n",
       "    }\n",
       "</style>\n",
       "<table border=\"1\" class=\"dataframe\">\n",
       "  <thead>\n",
       "    <tr style=\"text-align: right;\">\n",
       "      <th></th>\n",
       "      <th>cooler_id</th>\n",
       "      <th>customer_id</th>\n",
       "      <th>calmonth</th>\n",
       "      <th>amount</th>\n",
       "      <th>year</th>\n",
       "      <th>month</th>\n",
       "    </tr>\n",
       "  </thead>\n",
       "  <tbody>\n",
       "    <tr>\n",
       "      <th>0</th>\n",
       "      <td>42d9b14c937541b8f1287ce7251d1e29f1f8eb58dbcd7e...</td>\n",
       "      <td>e21b830bc395b5a355f68a698c55ad95474f929d8e2521...</td>\n",
       "      <td>2025-03-01</td>\n",
       "      <td>76.8887</td>\n",
       "      <td>2025</td>\n",
       "      <td>3</td>\n",
       "    </tr>\n",
       "    <tr>\n",
       "      <th>1</th>\n",
       "      <td>42d9b14c937541b8f1287ce7251d1e29f1f8eb58dbcd7e...</td>\n",
       "      <td>e21b830bc395b5a355f68a698c55ad95474f929d8e2521...</td>\n",
       "      <td>2024-12-01</td>\n",
       "      <td>131.0627</td>\n",
       "      <td>2024</td>\n",
       "      <td>12</td>\n",
       "    </tr>\n",
       "    <tr>\n",
       "      <th>2</th>\n",
       "      <td>42d9b14c937541b8f1287ce7251d1e29f1f8eb58dbcd7e...</td>\n",
       "      <td>e21b830bc395b5a355f68a698c55ad95474f929d8e2521...</td>\n",
       "      <td>2024-07-01</td>\n",
       "      <td>180.8420</td>\n",
       "      <td>2024</td>\n",
       "      <td>7</td>\n",
       "    </tr>\n",
       "    <tr>\n",
       "      <th>3</th>\n",
       "      <td>42d9b14c937541b8f1287ce7251d1e29f1f8eb58dbcd7e...</td>\n",
       "      <td>e21b830bc395b5a355f68a698c55ad95474f929d8e2521...</td>\n",
       "      <td>2025-02-01</td>\n",
       "      <td>82.3243</td>\n",
       "      <td>2025</td>\n",
       "      <td>2</td>\n",
       "    </tr>\n",
       "    <tr>\n",
       "      <th>4</th>\n",
       "      <td>42d9b14c937541b8f1287ce7251d1e29f1f8eb58dbcd7e...</td>\n",
       "      <td>e21b830bc395b5a355f68a698c55ad95474f929d8e2521...</td>\n",
       "      <td>2023-10-01</td>\n",
       "      <td>201.7541</td>\n",
       "      <td>2023</td>\n",
       "      <td>10</td>\n",
       "    </tr>\n",
       "    <tr>\n",
       "      <th>...</th>\n",
       "      <td>...</td>\n",
       "      <td>...</td>\n",
       "      <td>...</td>\n",
       "      <td>...</td>\n",
       "      <td>...</td>\n",
       "      <td>...</td>\n",
       "    </tr>\n",
       "    <tr>\n",
       "      <th>204731</th>\n",
       "      <td>661cc6a46677515e7801eda42d84b6242778a9d77f6062...</td>\n",
       "      <td>021ce98d216fdee3533129eb75d956978858eade78d6a4...</td>\n",
       "      <td>2025-04-01</td>\n",
       "      <td>1244.2283</td>\n",
       "      <td>2025</td>\n",
       "      <td>4</td>\n",
       "    </tr>\n",
       "    <tr>\n",
       "      <th>204732</th>\n",
       "      <td>661cc6a46677515e7801eda42d84b6242778a9d77f6062...</td>\n",
       "      <td>021ce98d216fdee3533129eb75d956978858eade78d6a4...</td>\n",
       "      <td>2023-06-01</td>\n",
       "      <td>1829.9476</td>\n",
       "      <td>2023</td>\n",
       "      <td>6</td>\n",
       "    </tr>\n",
       "    <tr>\n",
       "      <th>204733</th>\n",
       "      <td>661cc6a46677515e7801eda42d84b6242778a9d77f6062...</td>\n",
       "      <td>021ce98d216fdee3533129eb75d956978858eade78d6a4...</td>\n",
       "      <td>2023-04-01</td>\n",
       "      <td>396.8060</td>\n",
       "      <td>2023</td>\n",
       "      <td>4</td>\n",
       "    </tr>\n",
       "    <tr>\n",
       "      <th>204734</th>\n",
       "      <td>661cc6a46677515e7801eda42d84b6242778a9d77f6062...</td>\n",
       "      <td>021ce98d216fdee3533129eb75d956978858eade78d6a4...</td>\n",
       "      <td>2024-06-01</td>\n",
       "      <td>1818.3142</td>\n",
       "      <td>2024</td>\n",
       "      <td>6</td>\n",
       "    </tr>\n",
       "    <tr>\n",
       "      <th>204735</th>\n",
       "      <td>661cc6a46677515e7801eda42d84b6242778a9d77f6062...</td>\n",
       "      <td>021ce98d216fdee3533129eb75d956978858eade78d6a4...</td>\n",
       "      <td>2023-09-01</td>\n",
       "      <td>1444.7187</td>\n",
       "      <td>2023</td>\n",
       "      <td>9</td>\n",
       "    </tr>\n",
       "  </tbody>\n",
       "</table>\n",
       "<p>204736 rows × 6 columns</p>\n",
       "</div>"
      ],
      "text/plain": [
       "                                                cooler_id  \\\n",
       "0       42d9b14c937541b8f1287ce7251d1e29f1f8eb58dbcd7e...   \n",
       "1       42d9b14c937541b8f1287ce7251d1e29f1f8eb58dbcd7e...   \n",
       "2       42d9b14c937541b8f1287ce7251d1e29f1f8eb58dbcd7e...   \n",
       "3       42d9b14c937541b8f1287ce7251d1e29f1f8eb58dbcd7e...   \n",
       "4       42d9b14c937541b8f1287ce7251d1e29f1f8eb58dbcd7e...   \n",
       "...                                                   ...   \n",
       "204731  661cc6a46677515e7801eda42d84b6242778a9d77f6062...   \n",
       "204732  661cc6a46677515e7801eda42d84b6242778a9d77f6062...   \n",
       "204733  661cc6a46677515e7801eda42d84b6242778a9d77f6062...   \n",
       "204734  661cc6a46677515e7801eda42d84b6242778a9d77f6062...   \n",
       "204735  661cc6a46677515e7801eda42d84b6242778a9d77f6062...   \n",
       "\n",
       "                                              customer_id   calmonth  \\\n",
       "0       e21b830bc395b5a355f68a698c55ad95474f929d8e2521... 2025-03-01   \n",
       "1       e21b830bc395b5a355f68a698c55ad95474f929d8e2521... 2024-12-01   \n",
       "2       e21b830bc395b5a355f68a698c55ad95474f929d8e2521... 2024-07-01   \n",
       "3       e21b830bc395b5a355f68a698c55ad95474f929d8e2521... 2025-02-01   \n",
       "4       e21b830bc395b5a355f68a698c55ad95474f929d8e2521... 2023-10-01   \n",
       "...                                                   ...        ...   \n",
       "204731  021ce98d216fdee3533129eb75d956978858eade78d6a4... 2025-04-01   \n",
       "204732  021ce98d216fdee3533129eb75d956978858eade78d6a4... 2023-06-01   \n",
       "204733  021ce98d216fdee3533129eb75d956978858eade78d6a4... 2023-04-01   \n",
       "204734  021ce98d216fdee3533129eb75d956978858eade78d6a4... 2024-06-01   \n",
       "204735  021ce98d216fdee3533129eb75d956978858eade78d6a4... 2023-09-01   \n",
       "\n",
       "           amount  year  month  \n",
       "0         76.8887  2025      3  \n",
       "1        131.0627  2024     12  \n",
       "2        180.8420  2024      7  \n",
       "3         82.3243  2025      2  \n",
       "4        201.7541  2023     10  \n",
       "...           ...   ...    ...  \n",
       "204731  1244.2283  2025      4  \n",
       "204732  1829.9476  2023      6  \n",
       "204733   396.8060  2023      4  \n",
       "204734  1818.3142  2024      6  \n",
       "204735  1444.7187  2023      9  \n",
       "\n",
       "[204736 rows x 6 columns]"
      ]
     },
     "execution_count": 48,
     "metadata": {},
     "output_type": "execute_result"
    }
   ],
   "source": [
    "'''\n",
    "Tabla de ventas con año y mes\n",
    "Este script carga un archivo CSV con datos de ventas mensuales, extrae el año y el mes de una columna de fecha,\n",
    "'''\n",
    "df_sales_month = pd.read_csv('sales.csv')\n",
    "df_sales_month['calmonth'] = pd.to_datetime(df_sales_month['calmonth'], format='%Y%m')\n",
    "df_sales_month['year'] = df_sales_month['calmonth'].dt.year\n",
    "df_sales_month['month'] = df_sales_month['calmonth'].dt.month\n",
    "# df_sales_month = df_sales_month.drop(columns=['calmonth'])\n",
    "df_sales_month"
   ]
  },
  {
   "cell_type": "code",
   "execution_count": null,
   "id": "8647a31b",
   "metadata": {},
   "outputs": [
    {
     "data": {
      "application/vnd.microsoft.datawrangler.viewer.v0+json": {
       "columns": [
        {
         "name": "index",
         "rawType": "int64",
         "type": "integer"
        },
        {
         "name": "customer_id",
         "rawType": "object",
         "type": "string"
        },
        {
         "name": "total_amount",
         "rawType": "float64",
         "type": "float"
        },
        {
         "name": "coolers_per_customer",
         "rawType": "int64",
         "type": "integer"
        }
       ],
       "ref": "a4c7841e-353d-4380-93a5-9ed958348e8a",
       "rows": [
        [
         "3181",
         "798b848f4d378ec7b852731242ff87992d887953149726a9ca2b513c8942faeb",
         "1270383.4547",
         "1"
        ],
        [
         "5654",
         "dccbe339a93d0edf234e7a2e9f666c51e8e98f79a02f83d5c2be6b7bd65eb148",
         "1129672.8168",
         "2"
        ],
        [
         "4055",
         "9cdd7f590855940073cc14d4e14e82f0deb97c487cf73c618ec84df5073502ff",
         "990947.1424",
         "4"
        ],
        [
         "5021",
         "c41c6aa34bbf063215dcca7858fd1cc6a62c01072ea567806e64a1b7b1a8607c",
         "794303.5608",
         "6"
        ],
        [
         "3432",
         "8307133d45165ffe43f4dee589fffaf6fdbf1993e63a5fd43d23bb381c463a94",
         "565812.2282",
         "2"
        ]
       ],
       "shape": {
        "columns": 3,
        "rows": 5
       }
      },
      "text/html": [
       "<div>\n",
       "<style scoped>\n",
       "    .dataframe tbody tr th:only-of-type {\n",
       "        vertical-align: middle;\n",
       "    }\n",
       "\n",
       "    .dataframe tbody tr th {\n",
       "        vertical-align: top;\n",
       "    }\n",
       "\n",
       "    .dataframe thead th {\n",
       "        text-align: right;\n",
       "    }\n",
       "</style>\n",
       "<table border=\"1\" class=\"dataframe\">\n",
       "  <thead>\n",
       "    <tr style=\"text-align: right;\">\n",
       "      <th></th>\n",
       "      <th>customer_id</th>\n",
       "      <th>total_amount</th>\n",
       "      <th>coolers_per_customer</th>\n",
       "    </tr>\n",
       "  </thead>\n",
       "  <tbody>\n",
       "    <tr>\n",
       "      <th>3181</th>\n",
       "      <td>798b848f4d378ec7b852731242ff87992d887953149726...</td>\n",
       "      <td>1.270383e+06</td>\n",
       "      <td>1</td>\n",
       "    </tr>\n",
       "    <tr>\n",
       "      <th>5654</th>\n",
       "      <td>dccbe339a93d0edf234e7a2e9f666c51e8e98f79a02f83...</td>\n",
       "      <td>1.129673e+06</td>\n",
       "      <td>2</td>\n",
       "    </tr>\n",
       "    <tr>\n",
       "      <th>4055</th>\n",
       "      <td>9cdd7f590855940073cc14d4e14e82f0deb97c487cf73c...</td>\n",
       "      <td>9.909471e+05</td>\n",
       "      <td>4</td>\n",
       "    </tr>\n",
       "    <tr>\n",
       "      <th>5021</th>\n",
       "      <td>c41c6aa34bbf063215dcca7858fd1cc6a62c01072ea567...</td>\n",
       "      <td>7.943036e+05</td>\n",
       "      <td>6</td>\n",
       "    </tr>\n",
       "    <tr>\n",
       "      <th>3432</th>\n",
       "      <td>8307133d45165ffe43f4dee589fffaf6fdbf1993e63a5f...</td>\n",
       "      <td>5.658122e+05</td>\n",
       "      <td>2</td>\n",
       "    </tr>\n",
       "  </tbody>\n",
       "</table>\n",
       "</div>"
      ],
      "text/plain": [
       "                                            customer_id  total_amount  \\\n",
       "3181  798b848f4d378ec7b852731242ff87992d887953149726...  1.270383e+06   \n",
       "5654  dccbe339a93d0edf234e7a2e9f666c51e8e98f79a02f83...  1.129673e+06   \n",
       "4055  9cdd7f590855940073cc14d4e14e82f0deb97c487cf73c...  9.909471e+05   \n",
       "5021  c41c6aa34bbf063215dcca7858fd1cc6a62c01072ea567...  7.943036e+05   \n",
       "3432  8307133d45165ffe43f4dee589fffaf6fdbf1993e63a5f...  5.658122e+05   \n",
       "\n",
       "      coolers_per_customer  \n",
       "3181                     1  \n",
       "5654                     2  \n",
       "4055                     4  \n",
       "5021                     6  \n",
       "3432                     2  "
      ]
     },
     "execution_count": 70,
     "metadata": {},
     "output_type": "execute_result"
    }
   ],
   "source": [
    "'''\n",
    "Tabla de ventas por cliente\n",
    "Este script agrupa los datos de ventas por cliente, calculando el total de ventas y el número de enfriadores únicos por cliente.\n",
    "'''\n",
    "import pandas as pd\n",
    "\n",
    "df_sales_month = pd.read_csv('sales.csv')\n",
    "df_sales_month['calmonth'] = pd.to_datetime(df_sales_month['calmonth'], format='%Y%m')\n",
    "df_sales_month['year'] = df_sales_month['calmonth'].dt.year\n",
    "df_sales_month['month'] = df_sales_month['calmonth'].dt.month\n",
    "\n",
    "# Agrupar por customer_id\n",
    "df_customers = df_sales_month.groupby('customer_id').agg(\n",
    "    total_amount=('amount', 'sum'),\n",
    "    coolers_per_customer=('cooler_id', 'nunique')\n",
    ").reset_index()\n",
    "\n",
    "# Ordenar por total_amount de mayor a menor\n",
    "df_customers = df_customers.sort_values(by='total_amount', ascending=False)\n",
    "\n",
    "df_customers.head()"
   ]
  }
 ],
 "metadata": {
  "kernelspec": {
   "display_name": "Python 3",
   "language": "python",
   "name": "python3"
  },
  "language_info": {
   "codemirror_mode": {
    "name": "ipython",
    "version": 3
   },
   "file_extension": ".py",
   "mimetype": "text/x-python",
   "name": "python",
   "nbconvert_exporter": "python",
   "pygments_lexer": "ipython3",
   "version": "3.13.3"
  }
 },
 "nbformat": 4,
 "nbformat_minor": 5
}
