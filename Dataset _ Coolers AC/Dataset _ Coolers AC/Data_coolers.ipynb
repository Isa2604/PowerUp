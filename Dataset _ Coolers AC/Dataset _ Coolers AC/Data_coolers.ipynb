{
 "cells": [
  {
   "cell_type": "markdown",
   "id": "835c3134",
   "metadata": {},
   "source": [
    "Hola como estas"
   ]
  },
  {
   "cell_type": "code",
   "execution_count": 1,
   "id": "e429fd9b",
   "metadata": {},
   "outputs": [],
   "source": [
    "import pandas as pd"
   ]
  },
  {
   "cell_type": "markdown",
   "id": "685a1056",
   "metadata": {},
   "source": [
    "Isabela"
   ]
  },
  {
   "cell_type": "code",
   "execution_count": 2,
   "id": "2667b4ea",
   "metadata": {},
   "outputs": [],
   "source": [
    "df_coolers = pd.read_csv('coolers.csv')"
   ]
  },
  {
   "cell_type": "code",
   "execution_count": 4,
   "id": "2128da22",
   "metadata": {},
   "outputs": [],
   "source": [
    "df_warning = pd.read_csv('warnings.csv')"
   ]
  },
  {
   "cell_type": "code",
   "execution_count": 5,
   "id": "e00cc5dd",
   "metadata": {},
   "outputs": [],
   "source": [
    "df_warning = df_warning.rename(columns={'cooler_id': 'Warning'})\n",
    "\n"
   ]
  },
  {
   "cell_type": "code",
   "execution_count": 6,
   "id": "7d009e47",
   "metadata": {},
   "outputs": [],
   "source": [
    "\n",
    "df_limpio = df_coolers.dropna(subset=['door_opens', 'open_time'])"
   ]
  },
  {
   "cell_type": "code",
   "execution_count": 7,
   "id": "a98ca511",
   "metadata": {},
   "outputs": [],
   "source": [
    "\n",
    "df_merged = pd.merge(df_limpio, df_warning, left_on='cooler_id', right_on='Warning', how='left')\n"
   ]
  },
  {
   "cell_type": "code",
   "execution_count": 8,
   "id": "cde6e8a6",
   "metadata": {},
   "outputs": [],
   "source": [
    "df_merged = df_merged.dropna(subset=['temperature'])"
   ]
  },
  {
   "cell_type": "code",
   "execution_count": 9,
   "id": "9776781a",
   "metadata": {},
   "outputs": [
    {
     "name": "stdout",
     "output_type": "stream",
     "text": [
      "Index(['cooler_id', 'door_opens', 'open_time', 'compressor', 'power',\n",
      "       'on_time', 'min_voltage', 'max_voltage', 'temperature', 'calday',\n",
      "       'Warning'],\n",
      "      dtype='object')\n"
     ]
    }
   ],
   "source": [
    "print(df_merged.columns)"
   ]
  },
  {
   "cell_type": "code",
   "execution_count": 10,
   "id": "8fd5697a",
   "metadata": {},
   "outputs": [],
   "source": [
    "df_merged = df_merged.dropna(subset=['min_voltage'])"
   ]
  }
 ],
 "metadata": {
  "kernelspec": {
   "display_name": "Python 3",
   "language": "python",
   "name": "python3"
  },
  "language_info": {
   "codemirror_mode": {
    "name": "ipython",
    "version": 3
   },
   "file_extension": ".py",
   "mimetype": "text/x-python",
   "name": "python",
   "nbconvert_exporter": "python",
   "pygments_lexer": "ipython3",
   "version": "3.12.3"
  }
 },
 "nbformat": 4,
 "nbformat_minor": 5
}
