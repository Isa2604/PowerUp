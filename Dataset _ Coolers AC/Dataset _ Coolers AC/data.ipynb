{
 "cells": [
  {
   "cell_type": "markdown",
   "id": "835c3134",
   "metadata": {},
   "source": [
    "Hola como estas"
   ]
  },
  {
   "cell_type": "code",
   "execution_count": null,
   "id": "e429fd9b",
   "metadata": {},
   "outputs": [],
   "source": [
    "import pandas as pd"
   ]
  },
  {
   "cell_type": "code",
   "execution_count": 3,
   "id": "2667b4ea",
   "metadata": {},
   "outputs": [],
   "source": [
    "df = pd.read_csv('coolers.csv')"
   ]
  },
  {
   "cell_type": "code",
   "execution_count": 4,
   "id": "beebca35",
   "metadata": {},
   "outputs": [],
   "source": [
    "df1 = pd.read_csv('calendar.csv')"
   ]
  },
  {
   "cell_type": "code",
   "execution_count": 7,
   "id": "d6e68118",
   "metadata": {},
   "outputs": [],
   "source": [
    "df2 = pd.read_csv('sales.csv')"
   ]
  },
  {
   "cell_type": "code",
   "execution_count": 6,
   "id": "edc6b661",
   "metadata": {},
   "outputs": [],
   "source": [
    "data = pd.read_excel('data_dictionary.xlsx')"
   ]
  }
 ],
 "metadata": {
  "kernelspec": {
   "display_name": "Python 3",
   "language": "python",
   "name": "python3"
  },
  "language_info": {
   "codemirror_mode": {
    "name": "ipython",
    "version": 3
   },
   "file_extension": ".py",
   "mimetype": "text/x-python",
   "name": "python",
   "nbconvert_exporter": "python",
   "pygments_lexer": "ipython3",
   "version": "3.13.0"
  }
 },
 "nbformat": 4,
 "nbformat_minor": 5
}
