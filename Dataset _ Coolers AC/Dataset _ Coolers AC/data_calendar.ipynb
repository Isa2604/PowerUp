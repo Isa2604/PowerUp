{
 "cells": [
  {
   "cell_type": "code",
   "execution_count": 1,
   "id": "f50b7e95",
   "metadata": {},
   "outputs": [],
   "source": [
    "import pandas as pd"
   ]
  },
  {
   "cell_type": "code",
   "execution_count": 13,
   "id": "6978bb6f",
   "metadata": {},
   "outputs": [],
   "source": [
    "df = pd.read_csv('calendar.csv')"
   ]
  },
  {
   "cell_type": "code",
   "execution_count": 3,
   "id": "5881398a",
   "metadata": {},
   "outputs": [
    {
     "data": {
      "application/vnd.microsoft.datawrangler.viewer.v0+json": {
       "columns": [
        {
         "name": "index",
         "rawType": "int64",
         "type": "integer"
        },
        {
         "name": "calday",
         "rawType": "int64",
         "type": "integer"
        },
        {
         "name": "calmonth",
         "rawType": "int64",
         "type": "integer"
        },
        {
         "name": "day",
         "rawType": "object",
         "type": "string"
        }
       ],
       "ref": "10f7e307-57aa-4c1d-b128-e38fd053e88c",
       "rows": [
        [
         "0",
         "20230101",
         "202301",
         "Domingo"
        ],
        [
         "1",
         "20230102",
         "202301",
         "Lunes"
        ],
        [
         "2",
         "20230103",
         "202301",
         "Martes"
        ],
        [
         "3",
         "20230104",
         "202301",
         "Miercoles"
        ],
        [
         "4",
         "20230105",
         "202301",
         "Jueves"
        ],
        [
         "5",
         "20230106",
         "202301",
         "Viernes"
        ],
        [
         "6",
         "20230107",
         "202301",
         "Sabado"
        ],
        [
         "7",
         "20230108",
         "202301",
         "Domingo"
        ],
        [
         "8",
         "20230109",
         "202301",
         "Lunes"
        ],
        [
         "9",
         "20230110",
         "202301",
         "Martes"
        ],
        [
         "10",
         "20230111",
         "202301",
         "Miercoles"
        ],
        [
         "11",
         "20230112",
         "202301",
         "Jueves"
        ],
        [
         "12",
         "20230113",
         "202301",
         "Viernes"
        ],
        [
         "13",
         "20230114",
         "202301",
         "Sabado"
        ],
        [
         "14",
         "20230115",
         "202301",
         "Domingo"
        ],
        [
         "15",
         "20230116",
         "202301",
         "Lunes"
        ],
        [
         "16",
         "20230117",
         "202301",
         "Martes"
        ],
        [
         "17",
         "20230118",
         "202301",
         "Miercoles"
        ],
        [
         "18",
         "20230119",
         "202301",
         "Jueves"
        ],
        [
         "19",
         "20230120",
         "202301",
         "Viernes"
        ],
        [
         "20",
         "20230121",
         "202301",
         "Sabado"
        ],
        [
         "21",
         "20230122",
         "202301",
         "Domingo"
        ],
        [
         "22",
         "20230123",
         "202301",
         "Lunes"
        ],
        [
         "23",
         "20230124",
         "202301",
         "Martes"
        ],
        [
         "24",
         "20230125",
         "202301",
         "Miercoles"
        ],
        [
         "25",
         "20230126",
         "202301",
         "Jueves"
        ],
        [
         "26",
         "20230127",
         "202301",
         "Viernes"
        ],
        [
         "27",
         "20230128",
         "202301",
         "Sabado"
        ],
        [
         "28",
         "20230129",
         "202301",
         "Domingo"
        ],
        [
         "29",
         "20230130",
         "202301",
         "Lunes"
        ],
        [
         "30",
         "20230131",
         "202301",
         "Martes"
        ],
        [
         "31",
         "20230201",
         "202302",
         "Miercoles"
        ],
        [
         "32",
         "20230202",
         "202302",
         "Jueves"
        ],
        [
         "33",
         "20230203",
         "202302",
         "Viernes"
        ],
        [
         "34",
         "20230204",
         "202302",
         "Sabado"
        ],
        [
         "35",
         "20230205",
         "202302",
         "Domingo"
        ],
        [
         "36",
         "20230206",
         "202302",
         "Lunes"
        ],
        [
         "37",
         "20230207",
         "202302",
         "Martes"
        ],
        [
         "38",
         "20230208",
         "202302",
         "Miercoles"
        ],
        [
         "39",
         "20230209",
         "202302",
         "Jueves"
        ],
        [
         "40",
         "20230210",
         "202302",
         "Viernes"
        ],
        [
         "41",
         "20230211",
         "202302",
         "Sabado"
        ],
        [
         "42",
         "20230212",
         "202302",
         "Domingo"
        ],
        [
         "43",
         "20230213",
         "202302",
         "Lunes"
        ],
        [
         "44",
         "20230214",
         "202302",
         "Martes"
        ],
        [
         "45",
         "20230215",
         "202302",
         "Miercoles"
        ],
        [
         "46",
         "20230216",
         "202302",
         "Jueves"
        ],
        [
         "47",
         "20230217",
         "202302",
         "Viernes"
        ],
        [
         "48",
         "20230218",
         "202302",
         "Sabado"
        ],
        [
         "49",
         "20230219",
         "202302",
         "Domingo"
        ]
       ],
       "shape": {
        "columns": 3,
        "rows": 851
       }
      },
      "text/html": [
       "<div>\n",
       "<style scoped>\n",
       "    .dataframe tbody tr th:only-of-type {\n",
       "        vertical-align: middle;\n",
       "    }\n",
       "\n",
       "    .dataframe tbody tr th {\n",
       "        vertical-align: top;\n",
       "    }\n",
       "\n",
       "    .dataframe thead th {\n",
       "        text-align: right;\n",
       "    }\n",
       "</style>\n",
       "<table border=\"1\" class=\"dataframe\">\n",
       "  <thead>\n",
       "    <tr style=\"text-align: right;\">\n",
       "      <th></th>\n",
       "      <th>calday</th>\n",
       "      <th>calmonth</th>\n",
       "      <th>day</th>\n",
       "    </tr>\n",
       "  </thead>\n",
       "  <tbody>\n",
       "    <tr>\n",
       "      <th>0</th>\n",
       "      <td>20230101</td>\n",
       "      <td>202301</td>\n",
       "      <td>Domingo</td>\n",
       "    </tr>\n",
       "    <tr>\n",
       "      <th>1</th>\n",
       "      <td>20230102</td>\n",
       "      <td>202301</td>\n",
       "      <td>Lunes</td>\n",
       "    </tr>\n",
       "    <tr>\n",
       "      <th>2</th>\n",
       "      <td>20230103</td>\n",
       "      <td>202301</td>\n",
       "      <td>Martes</td>\n",
       "    </tr>\n",
       "    <tr>\n",
       "      <th>3</th>\n",
       "      <td>20230104</td>\n",
       "      <td>202301</td>\n",
       "      <td>Miercoles</td>\n",
       "    </tr>\n",
       "    <tr>\n",
       "      <th>4</th>\n",
       "      <td>20230105</td>\n",
       "      <td>202301</td>\n",
       "      <td>Jueves</td>\n",
       "    </tr>\n",
       "    <tr>\n",
       "      <th>...</th>\n",
       "      <td>...</td>\n",
       "      <td>...</td>\n",
       "      <td>...</td>\n",
       "    </tr>\n",
       "    <tr>\n",
       "      <th>846</th>\n",
       "      <td>20250426</td>\n",
       "      <td>202504</td>\n",
       "      <td>Sabado</td>\n",
       "    </tr>\n",
       "    <tr>\n",
       "      <th>847</th>\n",
       "      <td>20250427</td>\n",
       "      <td>202504</td>\n",
       "      <td>Domingo</td>\n",
       "    </tr>\n",
       "    <tr>\n",
       "      <th>848</th>\n",
       "      <td>20250428</td>\n",
       "      <td>202504</td>\n",
       "      <td>Lunes</td>\n",
       "    </tr>\n",
       "    <tr>\n",
       "      <th>849</th>\n",
       "      <td>20250429</td>\n",
       "      <td>202504</td>\n",
       "      <td>Martes</td>\n",
       "    </tr>\n",
       "    <tr>\n",
       "      <th>850</th>\n",
       "      <td>20250430</td>\n",
       "      <td>202504</td>\n",
       "      <td>Miercoles</td>\n",
       "    </tr>\n",
       "  </tbody>\n",
       "</table>\n",
       "<p>851 rows × 3 columns</p>\n",
       "</div>"
      ],
      "text/plain": [
       "       calday  calmonth        day\n",
       "0    20230101    202301    Domingo\n",
       "1    20230102    202301      Lunes\n",
       "2    20230103    202301     Martes\n",
       "3    20230104    202301  Miercoles\n",
       "4    20230105    202301     Jueves\n",
       "..        ...       ...        ...\n",
       "846  20250426    202504     Sabado\n",
       "847  20250427    202504    Domingo\n",
       "848  20250428    202504      Lunes\n",
       "849  20250429    202504     Martes\n",
       "850  20250430    202504  Miercoles\n",
       "\n",
       "[851 rows x 3 columns]"
      ]
     },
     "execution_count": 3,
     "metadata": {},
     "output_type": "execute_result"
    }
   ],
   "source": [
    "df"
   ]
  },
  {
   "cell_type": "code",
   "execution_count": 26,
   "id": "07ccac40",
   "metadata": {},
   "outputs": [],
   "source": [
    "df_clean_calday = df.copy()"
   ]
  },
  {
   "cell_type": "code",
   "execution_count": null,
   "id": "93a13c2f",
   "metadata": {},
   "outputs": [],
   "source": [
    "# Convertir a datetime y luego extraer componentes calday\n",
    "df_clean_calday['calday_format'] = pd.to_datetime(df['calday'], format='%Y%m%d')\n",
    "df_clean_calday['año'] = df_clean_calday['calday_format'].dt.year\n",
    "df_clean_calday['mes'] = df_clean_calday['calday_format'].dt.month\n",
    "df_clean_calday['día'] = df_clean_calday['calday_format'].dt.day"
   ]
  },
  {
   "cell_type": "code",
   "execution_count": 23,
   "id": "43907a45",
   "metadata": {},
   "outputs": [],
   "source": [
    "df_clean_calmonth = df.copy()"
   ]
  },
  {
   "cell_type": "code",
   "execution_count": 25,
   "id": "cc9fe2c9",
   "metadata": {},
   "outputs": [],
   "source": [
    "# Convertir a datetime y luego extraer componentes de calmonth\n",
    "df_clean_calmonth['calmonth'] = pd.to_datetime(df['calmonth'], format='%Y%m')\n",
    "df_clean_calmonth['año'] = df_clean_calmonth['calmonth'].dt.year\n",
    "df_clean_calmonth['mes'] = df_clean_calmonth['calmonth'].dt.month"
   ]
  }
 ],
 "metadata": {
  "kernelspec": {
   "display_name": "Python 3",
   "language": "python",
   "name": "python3"
  },
  "language_info": {
   "codemirror_mode": {
    "name": "ipython",
    "version": 3
   },
   "file_extension": ".py",
   "mimetype": "text/x-python",
   "name": "python",
   "nbconvert_exporter": "python",
   "pygments_lexer": "ipython3",
   "version": "3.12.3"
  }
 },
 "nbformat": 4,
 "nbformat_minor": 5
}
